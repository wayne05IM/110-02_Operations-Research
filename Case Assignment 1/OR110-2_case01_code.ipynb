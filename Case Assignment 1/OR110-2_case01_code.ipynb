{
 "cells": [
  {
   "cell_type": "markdown",
   "metadata": {},
   "source": [
    "# OR case 1"
   ]
  },
  {
   "cell_type": "code",
   "execution_count": 111,
   "metadata": {},
   "outputs": [],
   "source": [
    "import pandas as pd\n",
    "import openpyxl\n",
    "from gurobipy import *\n",
    "import matplotlib.pyplot as plt\n",
    "import numpy as np"
   ]
  },
  {
   "cell_type": "code",
   "execution_count": 95,
   "metadata": {},
   "outputs": [],
   "source": [
    "# 如果你要用 plotly 畫甘特圖，可以用 Jupyter notebook 跑，用 Jupyter lab 會跑不出來\n",
    "# 有任何問題歡迎寄信詢問助教 b07705036@ntu.edu.tw\n",
    "import plotly.express as px\n",
    "\n",
    "# display settings\n",
    "from IPython.display import display\n",
    "pd.options.display.max_columns = None\n",
    "pd.options.display.max_rows = None\n",
    "pd.set_option('display.float_format', lambda x: '%.4f' % x)\n",
    "\n",
    "# 第一題的甘特圖\n",
    "def gantt_plot_1(x_opt, P, y_opt, instance_no, open_hour=7, open_min=30):\n",
    "    import datetime\n",
    "\n",
    "    I = len(x_opt)\n",
    "    M = len(y_opt[0])\n",
    "    schedule_df = pd.DataFrame()\n",
    "    open_time = datetime.datetime(2000, 1, 1, hour=open_hour, minute=open_min)\n",
    "    schedule_df['START_TIME'] = [(open_time + datetime.timedelta(hours=x_opt[i]) - datetime.timedelta(hours=P[i])) for i in range(I)]\n",
    "    schedule_df['END_TIME'] = [(open_time + datetime.timedelta(hours=x_opt[i])) for i in range(I)]\n",
    "\n",
    "    machine_ID = []\n",
    "    for i in range(I):\n",
    "        for m in range(M):\n",
    "            if y_opt[i][m] == 1:\n",
    "                machine_ID.append(str(m + 1))\n",
    "    schedule_df['Machine_ID'] = machine_ID\n",
    "\n",
    "    schedule_df['Job_ID'] = [str(i + 1) for i in range(I)]\n",
    "    color_list = [\"#C0392B\", \"#EC7063\", \"#1F618D\", \"#34495E\", \"#3498DB\", \"#1E8449\", \"#28B463\", \"#F1C40F\", \"#F39C12\", \"#A6ACAF\", \"#7D3C98\", \"#9B59B6\", \"#2C3E50\", \"#EF553B\", \"#636EFA\", \"#BDC3C7\", \"#F39C12\"]\n",
    "    fig = px.timeline(schedule_df, x_start=\"START_TIME\", x_end=\"END_TIME\", y=\"Machine_ID\", color=\"Job_ID\",\n",
    "                      color_discrete_sequence=color_list[0:I],\n",
    "                      category_orders={\"Job_ID\": [str(i+1) for i in range(I)], \"Machine_ID\": [str(m+1) for m in range(M)]},\n",
    "                      title=\"Instance \" + str(instance_no) + \" Problem 1 Gantt Chart\")\n",
    "    fig.update_xaxes(tickformat=\"%H:%M\")\n",
    "    fig.update_layout(legend_title=\"Lot ID\")\n",
    "    fig.show()\n",
    "    fig.write_image(\"Instance \" + str(instance_no) + \" Problem 1.pdf\")\n",
    "\n",
    "# 第二、三題的甘特圖\n",
    "def gantt_plot_2_3(x_opt, P, y_opt, instance_no, problem_no, open_hour=7, open_min=30):\n",
    "    import datetime\n",
    "\n",
    "    I = len(x_opt)\n",
    "    S = len(x_opt[0])\n",
    "    M = len(y_opt[0][0])\n",
    "    schedule_df = pd.DataFrame()\n",
    "    open_time = datetime.datetime(2000, 1, 1, hour=open_hour, minute=open_min)\n",
    "    schedule_df['START_TIME'] = [(open_time + datetime.timedelta(hours=x_opt[i][s]) - datetime.timedelta(hours=P[i][s])) for i in range(I) for s in range(S)]\n",
    "    schedule_df['END_TIME'] = [(open_time + datetime.timedelta(hours=x_opt[i][s])) for i in range(I) for s in range(S)]\n",
    "\n",
    "    machine_ID = []\n",
    "    for i in range(I):\n",
    "        for s in range(S):\n",
    "            for m in range(M):\n",
    "                if y_opt[i][s][m] == 1:\n",
    "                    machine_ID.append(str(m + 1))\n",
    "    schedule_df['Machine_ID'] = machine_ID\n",
    "\n",
    "    schedule_df['Job_ID'] = [str(i + 1) for i in range(I) for s in range(S)]\n",
    "    color_list = [\"#C0392B\", \"#EC7063\", \"#1F618D\", \"#34495E\", \"#3498DB\", \"#1E8449\", \"#28B463\", \"#F1C40F\", \"#F39C12\", \"#A6ACAF\", \"#7D3C98\", \"#9B59B6\", \"#2C3E50\", \"#EF553B\", \"#636EFA\", \"#BDC3C7\", \"#F39C12\"]\n",
    "    fig = px.timeline(schedule_df, x_start=\"START_TIME\", x_end=\"END_TIME\", y=\"Machine_ID\", color=\"Job_ID\",\n",
    "                      color_discrete_sequence=color_list[0:I],\n",
    "                      category_orders={\"Job_ID\": [str(i+1) for i in range(I)], \"Machine_ID\": [str(m+1) for m in range(M)]},\n",
    "                      title=\"Instance \" + str(instance_no) + \" Problem \" + str(problem_no) + \" Gantt Chart\")\n",
    "    fig.update_xaxes(tickformat=\"%H:%M\")\n",
    "    fig.update_layout(legend_title=\"Lot ID\")\n",
    "    fig.show()\n",
    "    fig.write_image(\"Instance \" + str(instance_no) + \" Problem \" + str(problem_no) + \".pdf\")"
   ]
  },
  {
   "cell_type": "markdown",
   "metadata": {},
   "source": [
    "### Instance no"
   ]
  },
  {
   "cell_type": "code",
   "execution_count": 169,
   "metadata": {},
   "outputs": [],
   "source": [
    "instance_no = 1"
   ]
  },
  {
   "cell_type": "markdown",
   "metadata": {},
   "source": [
    "### 1."
   ]
  },
  {
   "cell_type": "markdown",
   "metadata": {},
   "source": [
    "### Constant Data"
   ]
  },
  {
   "cell_type": "code",
   "execution_count": 219,
   "metadata": {},
   "outputs": [],
   "source": [
    "order_num = [12, 11, 10]\n",
    "I = order_num[instance_no - 1]\n",
    "M = 4\n",
    "orders = range(0, I)\n",
    "machines = range(0, M)"
   ]
  },
  {
   "cell_type": "code",
   "execution_count": 220,
   "metadata": {},
   "outputs": [],
   "source": [
    "# process time for order i\n",
    "process_time = [[4,3,2.6,1.2,1.8,2.5,3.4,2.2,1.5,1.5,4.4,2],\n",
    "                [4.2,3.9,3.7,3.6,2.7,2.7,2.9,2.2,2.6,4.4,4],\n",
    "                [4.5,5,6.4,3.6,3.7,3.3,3.2,1.3,4,3.9]]\n",
    "P = process_time[instance_no - 1]\n",
    "\n",
    "# deadline for order i\n",
    "deadline = [[5, 5, 5, 5, 5, 5, 5, 10, 10, 10, 10, 10],\n",
    "            [10, 5, 5, 5, 5, 5, 5, 10, 10, 10, 10],\n",
    "            [5, 5, 5, 5, 5, 5, 10, 10, 10, 10]]\n",
    "D = deadline[instance_no - 1]"
   ]
  },
  {
   "cell_type": "markdown",
   "metadata": {},
   "source": [
    "### Decision variable – Delay"
   ]
  },
  {
   "cell_type": "code",
   "execution_count": 173,
   "metadata": {},
   "outputs": [],
   "source": [
    "Q1_delay = Model('Q1-delay')\n",
    "\n",
    "# x_i is the finish time of order i\n",
    "x = {}\n",
    "for i in orders:\n",
    "    x[i] = Q1_delay.addVar(lb = 0, vtype = GRB.CONTINUOUS, name = \"x_\" + str(i))\n",
    "\n",
    "# y_im = 1 if order i process on machine m otherwise 0\n",
    "y = {}\n",
    "for i in orders:\n",
    "    y[i] = {}\n",
    "    for m in machines:\n",
    "        y[i][m] = Q1_delay.addVar(lb = 0, vtype = GRB.BINARY, name = \"y_\" + str(i) + \",\" + str(m))\n",
    "        \n",
    "# z_ij = 1 if order i process before order i process on the same machine otherwise 0\n",
    "z = {}\n",
    "for i in orders:\n",
    "    z[i] = {}\n",
    "    for j in orders:\n",
    "        z[i][j] = Q1_delay.addVar(lb = 0, vtype = GRB.BINARY, name = \"z_\" + str(i) + \",\" + str(j))\n",
    "        \n",
    "# l_i = 1 if order i is late otherwise 0\n",
    "l = {}\n",
    "for i in orders:\n",
    "    l[i] = Q1_delay.addVar(lb = 0, vtype = GRB.BINARY, name = \"l_\" + str(i))\n",
    "\n",
    "Q1_delay.update()"
   ]
  },
  {
   "cell_type": "markdown",
   "metadata": {},
   "source": [
    "### Setting the objective function"
   ]
  },
  {
   "cell_type": "code",
   "execution_count": 174,
   "metadata": {},
   "outputs": [],
   "source": [
    "Q1_delay.setObjective(quicksum(l[i] for i in orders), GRB.MINIMIZE)"
   ]
  },
  {
   "cell_type": "markdown",
   "metadata": {},
   "source": [
    "### Add constraints"
   ]
  },
  {
   "cell_type": "code",
   "execution_count": 175,
   "metadata": {},
   "outputs": [],
   "source": [
    "Q1_delay.addConstrs((x[j] + P[i] - x[i] <= (quicksum(P[i] for i in orders)+P[i]) * (z[i][j] + 2-y[i][m]-y[j][m]) for i in orders for j in range(i+1, I) for m in machines), 'constraints for x_i, z_ij')\n",
    "Q1_delay.addConstrs((x[i] + P[j] - x[j] <= (quicksum(P[i] for i in orders)+P[j]) * (1-z[i][j] + 2-y[i][m]-y[j][m]) for i in orders for j in range(i+1, I) for m in machines), 'constraints for x_i, z_ij')\n",
    "Q1_delay.addConstrs((x[i] <= D[i] + quicksum(P[i] for i in orders) * l[i] for i in orders), 'constraints for l_i')\n",
    "Q1_delay.addConstrs((quicksum(y[i][m] for m in machines) == 1 for i in orders), 'allocate orders to machines')\n",
    "Q1_delay.addConstrs((x[i] >= P[i] for i in orders), 'minimum x_i')\n",
    "\n",
    "Q1_delay.update()"
   ]
  },
  {
   "cell_type": "code",
   "execution_count": 176,
   "metadata": {
    "collapsed": true,
    "jupyter": {
     "outputs_hidden": true
    }
   },
   "outputs": [
    {
     "name": "stdout",
     "output_type": "stream",
     "text": [
      "Gurobi Optimizer version 9.1.1 build v9.1.1rc0 (mac64)\n",
      "Thread count: 2 physical cores, 4 logical processors, using up to 4 threads\n",
      "Optimize a model with 390 rows, 160 columns and 1870 nonzeros\n",
      "Model fingerprint: 0x9a4a8253\n",
      "Variable types: 10 continuous, 150 integer (150 binary)\n",
      "Coefficient statistics:\n",
      "  Matrix range     [1e+00, 5e+01]\n",
      "  Objective range  [1e+00, 1e+00]\n",
      "  Bounds range     [1e+00, 1e+00]\n",
      "  RHS range        [1e+00, 1e+02]\n",
      "Found heuristic solution: objective 4.0000000\n",
      "Presolve removed 11 rows and 56 columns\n",
      "Presolve time: 0.00s\n",
      "Presolved: 379 rows, 104 columns, 1858 nonzeros\n",
      "Variable types: 10 continuous, 94 integer (94 binary)\n",
      "\n",
      "Root relaxation: objective 1.000000e+00, 53 iterations, 0.00 seconds\n",
      "\n",
      "    Nodes    |    Current Node    |     Objective Bounds      |     Work\n",
      " Expl Unexpl |  Obj  Depth IntInf | Incumbent    BestBd   Gap | It/Node Time\n",
      "\n",
      "     0     0    1.00000    0    2    4.00000    1.00000  75.0%     -    0s\n",
      "H    0     0                       2.0000000    1.00000  50.0%     -    0s\n",
      "     0     0    1.00000    0    3    2.00000    1.00000  50.0%     -    0s\n",
      "     0     0    1.00000    0    4    2.00000    1.00000  50.0%     -    0s\n",
      "     0     0    1.00000    0    9    2.00000    1.00000  50.0%     -    0s\n",
      "     0     0    1.00000    0    6    2.00000    1.00000  50.0%     -    0s\n",
      "     0     0    1.00000    0    6    2.00000    1.00000  50.0%     -    0s\n",
      "     0     0    1.00000    0    3    2.00000    1.00000  50.0%     -    0s\n",
      "     0     0    1.00000    0    7    2.00000    1.00000  50.0%     -    0s\n",
      "     0     0 infeasible    0         2.00000    2.00000  0.00%     -    0s\n",
      "\n",
      "Cutting planes:\n",
      "  Learned: 8\n",
      "  Cover: 4\n",
      "  GUB cover: 2\n",
      "  Relax-and-lift: 2\n",
      "\n",
      "Explored 1 nodes (321 simplex iterations) in 0.08 seconds\n",
      "Thread count was 4 (of 4 available processors)\n",
      "\n",
      "Solution count 2: 2 4 \n",
      "\n",
      "Optimal solution found (tolerance 1.00e-04)\n",
      "Best objective 2.000000000000e+00, best bound 2.000000000000e+00, gap 0.0000%\n"
     ]
    }
   ],
   "source": [
    "Q1_delay.optimize()"
   ]
  },
  {
   "cell_type": "code",
   "execution_count": 177,
   "metadata": {},
   "outputs": [
    {
     "name": "stdout",
     "output_type": "stream",
     "text": [
      "objective value = 2.0\n"
     ]
    }
   ],
   "source": [
    "a = Q1_delay.objVal\n",
    "print(\"objective value =\", a)"
   ]
  },
  {
   "cell_type": "markdown",
   "metadata": {},
   "source": [
    "### Decision variable – makespan"
   ]
  },
  {
   "cell_type": "code",
   "execution_count": 178,
   "metadata": {},
   "outputs": [],
   "source": [
    "Q1_makespan = Model('Q1-makespan')\n",
    "\n",
    "# x_i is the finish time of order i\n",
    "x = {}\n",
    "for i in orders:\n",
    "    x[i] = Q1_makespan.addVar(lb = 0, vtype = GRB.CONTINUOUS, name = \"x_\" + str(i))\n",
    "\n",
    "# y_im = 1 if order i process on machine m otherwise 0\n",
    "y = {}\n",
    "for i in orders:\n",
    "    y[i] = {}\n",
    "    for m in machines:\n",
    "        y[i][m] = Q1_makespan.addVar(lb = 0, vtype = GRB.BINARY, name = \"y_\" + str(i) + \",\" + str(m))\n",
    "        \n",
    "# z_ij = 1 if order i process before order j and i, j process on the same machine otherwise 0\n",
    "z = {}\n",
    "for i in orders:\n",
    "    z[i] = {}\n",
    "    for j in orders:\n",
    "        z[i][j] = Q1_makespan.addVar(lb = 0, vtype = GRB.BINARY, name = \"z_\" + str(i) + \",\" + str(j))\n",
    "        \n",
    "# l_i = 1 if order i is late otherwise 0\n",
    "l = {}\n",
    "for i in orders:\n",
    "    l[i] = Q1_makespan.addVar(lb = 0, vtype = GRB.BINARY, name = \"l_\" + str(i))\n",
    "\n",
    "# w is the makespan of the solution\n",
    "w = Q1_makespan.addVar(lb = 0, vtype = GRB.CONTINUOUS, name = \"w\")\n",
    "\n",
    "Q1_makespan.update()"
   ]
  },
  {
   "cell_type": "markdown",
   "metadata": {},
   "source": [
    "### Setting the objective function"
   ]
  },
  {
   "cell_type": "code",
   "execution_count": 179,
   "metadata": {},
   "outputs": [],
   "source": [
    "Q1_makespan.setObjective(w, GRB.MINIMIZE)"
   ]
  },
  {
   "cell_type": "markdown",
   "metadata": {},
   "source": [
    "### Add constraints"
   ]
  },
  {
   "cell_type": "code",
   "execution_count": 180,
   "metadata": {},
   "outputs": [],
   "source": [
    "Q1_makespan.addConstrs((x[j] + P[i] - x[i] <= (quicksum(P[i] for i in orders)+P[i]) * (z[i][j] + 2-y[i][m]-y[j][m]) for i in orders for j in range(i+1, I) for m in machines), 'constraints for x_i, z_ij')\n",
    "Q1_makespan.addConstrs((x[i] + P[j] - x[j] <= (quicksum(P[i] for i in orders)+P[i]) * (1-z[i][j] + 2-y[i][m]-y[j][m]) for i in orders for j in range(i+1, I) for m in machines), 'constraints for x_i, z_ij')\n",
    "Q1_makespan.addConstrs((x[i] <= D[i] + quicksum(P[i] for i in orders) * l[i] for i in orders), 'constraints for l_i')\n",
    "Q1_makespan.addConstrs((quicksum(y[i][m] for m in machines) == 1 for i in orders), 'allocate orders to machines')\n",
    "Q1_makespan.addConstrs((x[i] >= P[i] for i in orders), 'minimum x_i')\n",
    "Q1_makespan.addConstrs((w >= x[i] for i in orders), 'makespan')\n",
    "Q1_makespan.addConstr((quicksum(l[i] for i in orders) == a), 'delay num')\n",
    "\n",
    "Q1_makespan.update()"
   ]
  },
  {
   "cell_type": "code",
   "execution_count": 181,
   "metadata": {
    "collapsed": true,
    "jupyter": {
     "outputs_hidden": true
    }
   },
   "outputs": [
    {
     "name": "stdout",
     "output_type": "stream",
     "text": [
      "Gurobi Optimizer version 9.1.1 build v9.1.1rc0 (mac64)\n",
      "Thread count: 2 physical cores, 4 logical processors, using up to 4 threads\n",
      "Optimize a model with 401 rows, 161 columns and 1900 nonzeros\n",
      "Model fingerprint: 0x8c8fec77\n",
      "Variable types: 11 continuous, 150 integer (150 binary)\n",
      "Coefficient statistics:\n",
      "  Matrix range     [1e+00, 5e+01]\n",
      "  Objective range  [1e+00, 1e+00]\n",
      "  Bounds range     [1e+00, 1e+00]\n",
      "  RHS range        [1e+00, 1e+02]\n",
      "Presolve removed 12 rows and 57 columns\n",
      "Presolve time: 0.00s\n",
      "Presolved: 389 rows, 104 columns, 1885 nonzeros\n",
      "Variable types: 11 continuous, 93 integer (93 binary)\n",
      "\n",
      "Root relaxation: objective 6.400000e+00, 53 iterations, 0.00 seconds\n",
      "\n",
      "    Nodes    |    Current Node    |     Objective Bounds      |     Work\n",
      " Expl Unexpl |  Obj  Depth IntInf | Incumbent    BestBd   Gap | It/Node Time\n",
      "\n",
      "     0     0    6.40000    0    9          -    6.40000      -     -    0s\n",
      "H    0     0                      11.4000000    6.40000  43.9%     -    0s\n",
      "     0     0    6.40000    0   14   11.40000    6.40000  43.9%     -    0s\n",
      "     0     0    6.40000    0   15   11.40000    6.40000  43.9%     -    0s\n",
      "     0     0    6.40000    0    8   11.40000    6.40000  43.9%     -    0s\n",
      "     0     0    6.40000    0   10   11.40000    6.40000  43.9%     -    0s\n",
      "H    0     0                      10.9000000    6.40000  41.3%     -    0s\n",
      "     0     0    6.40000    0   10   10.90000    6.40000  41.3%     -    0s\n",
      "     0     0    6.40000    0    9   10.90000    6.40000  41.3%     -    0s\n",
      "     0     0    6.40000    0   11   10.90000    6.40000  41.3%     -    0s\n",
      "     0     0    6.40000    0    8   10.90000    6.40000  41.3%     -    0s\n",
      "     0     0    6.40000    0    8   10.90000    6.40000  41.3%     -    0s\n",
      "     0     2    6.40000    0    8   10.90000    6.40000  41.3%     -    0s\n",
      "*  795   271              20      10.5000000    6.40000  39.0%   3.2    0s\n",
      "* 2407   143              13      10.2000000    8.40000  17.6%   3.4    0s\n",
      "* 2507   126              16      10.1000000    8.40000  16.8%   3.4    0s\n",
      "H 3659    12                      10.1000000    9.70000  3.96%   3.1    0s\n",
      "\n",
      "Cutting planes:\n",
      "  Gomory: 1\n",
      "  Cover: 192\n",
      "  Implied bound: 5\n",
      "  MIR: 62\n",
      "  Inf proof: 77\n",
      "  RLT: 2\n",
      "  Relax-and-lift: 1\n",
      "\n",
      "Explored 3807 nodes (12490 simplex iterations) in 0.56 seconds\n",
      "Thread count was 4 (of 4 available processors)\n",
      "\n",
      "Solution count 6: 10.1 10.1 10.2 ... 11.4\n",
      "\n",
      "Optimal solution found (tolerance 1.00e-04)\n",
      "Best objective 1.009999999889e+01, best bound 1.009999999889e+01, gap 0.0000%\n"
     ]
    }
   ],
   "source": [
    "Q1_makespan.optimize()"
   ]
  },
  {
   "cell_type": "code",
   "execution_count": 182,
   "metadata": {},
   "outputs": [
    {
     "name": "stdout",
     "output_type": "stream",
     "text": [
      "objective value = 10.099999998890004\n"
     ]
    }
   ],
   "source": [
    "print(\"objective value =\", Q1_makespan.objVal)"
   ]
  },
  {
   "cell_type": "markdown",
   "metadata": {},
   "source": [
    "## Results"
   ]
  },
  {
   "cell_type": "code",
   "execution_count": 183,
   "metadata": {},
   "outputs": [],
   "source": [
    "x_opt = {}\n",
    "for i in orders:\n",
    "    x_opt[i] = {}\n",
    "\n",
    "y_opt = {}\n",
    "for i in orders:\n",
    "    y_opt[i] = {}\n",
    "    for m in machines:\n",
    "        y_opt[i][m] = {}\n",
    "\n",
    "for var in Q1_makespan.getVars():\n",
    "    index = [i for i in var.varName[2:].split(',')]\n",
    "    if var.varName[0] == 'x':\n",
    "        x_opt[int(index[0])] = var.x\n",
    "    elif var.varName[0] == 'y':\n",
    "        y_opt[int(index[0])][int(index[1])] = var.x"
   ]
  },
  {
   "cell_type": "markdown",
   "metadata": {},
   "source": [
    "## Plot Gantt Charts"
   ]
  },
  {
   "cell_type": "code",
   "execution_count": 184,
   "metadata": {},
   "outputs": [
    {
     "data": {
      "application/vnd.plotly.v1+json": {
       "config": {
        "plotlyServerURL": "https://plot.ly"
       },
       "data": [
        {
         "alignmentgroup": "True",
         "base": [
          "2000-01-01T07:30:00"
         ],
         "hovertemplate": "Job_ID=1<br>START_TIME=%{base}<br>END_TIME=%{x}<br>Machine_ID=%{y}<extra></extra>",
         "legendgroup": "1",
         "marker": {
          "color": "#C0392B"
         },
         "name": "1",
         "offsetgroup": "1",
         "orientation": "h",
         "showlegend": true,
         "textposition": "auto",
         "type": "bar",
         "x": [
          16200000
         ],
         "xaxis": "x",
         "y": [
          "1"
         ],
         "yaxis": "y"
        },
        {
         "alignmentgroup": "True",
         "base": [
          "2000-01-01T07:30:00"
         ],
         "hovertemplate": "Job_ID=2<br>START_TIME=%{base}<br>END_TIME=%{x}<br>Machine_ID=%{y}<extra></extra>",
         "legendgroup": "2",
         "marker": {
          "color": "#EC7063"
         },
         "name": "2",
         "offsetgroup": "2",
         "orientation": "h",
         "showlegend": true,
         "textposition": "auto",
         "type": "bar",
         "x": [
          18000000
         ],
         "xaxis": "x",
         "y": [
          "2"
         ],
         "yaxis": "y"
        },
        {
         "alignmentgroup": "True",
         "base": [
          "2000-01-01T11:11:59.999996"
         ],
         "hovertemplate": "Job_ID=3<br>START_TIME=%{base}<br>END_TIME=%{x}<br>Machine_ID=%{y}<extra></extra>",
         "legendgroup": "3",
         "marker": {
          "color": "#1F618D"
         },
         "name": "3",
         "offsetgroup": "3",
         "orientation": "h",
         "showlegend": true,
         "textposition": "auto",
         "type": "bar",
         "x": [
          23040000
         ],
         "xaxis": "x",
         "y": [
          "3"
         ],
         "yaxis": "y"
        },
        {
         "alignmentgroup": "True",
         "base": [
          "2000-01-01T07:30:00"
         ],
         "hovertemplate": "Job_ID=4<br>START_TIME=%{base}<br>END_TIME=%{x}<br>Machine_ID=%{y}<extra></extra>",
         "legendgroup": "4",
         "marker": {
          "color": "#34495E"
         },
         "name": "4",
         "offsetgroup": "4",
         "orientation": "h",
         "showlegend": true,
         "textposition": "auto",
         "type": "bar",
         "x": [
          12960000
         ],
         "xaxis": "x",
         "y": [
          "4"
         ],
         "yaxis": "y"
        },
        {
         "alignmentgroup": "True",
         "base": [
          "2000-01-01T07:30:00"
         ],
         "hovertemplate": "Job_ID=5<br>START_TIME=%{base}<br>END_TIME=%{x}<br>Machine_ID=%{y}<extra></extra>",
         "legendgroup": "5",
         "marker": {
          "color": "#3498DB"
         },
         "name": "5",
         "offsetgroup": "5",
         "orientation": "h",
         "showlegend": true,
         "textposition": "auto",
         "type": "bar",
         "x": [
          13320000
         ],
         "xaxis": "x",
         "y": [
          "3"
         ],
         "yaxis": "y"
        },
        {
         "alignmentgroup": "True",
         "base": [
          "2000-01-01T14:18:00"
         ],
         "hovertemplate": "Job_ID=6<br>START_TIME=%{base}<br>END_TIME=%{x}<br>Machine_ID=%{y}<extra></extra>",
         "legendgroup": "6",
         "marker": {
          "color": "#1E8449"
         },
         "name": "6",
         "offsetgroup": "6",
         "orientation": "h",
         "showlegend": true,
         "textposition": "auto",
         "type": "bar",
         "x": [
          11880000
         ],
         "xaxis": "x",
         "y": [
          "4"
         ],
         "yaxis": "y"
        },
        {
         "alignmentgroup": "True",
         "base": [
          "2000-01-01T11:06:00"
         ],
         "hovertemplate": "Job_ID=7<br>START_TIME=%{base}<br>END_TIME=%{x}<br>Machine_ID=%{y}<extra></extra>",
         "legendgroup": "7",
         "marker": {
          "color": "#28B463"
         },
         "name": "7",
         "offsetgroup": "7",
         "orientation": "h",
         "showlegend": true,
         "textposition": "auto",
         "type": "bar",
         "x": [
          11520000
         ],
         "xaxis": "x",
         "y": [
          "4"
         ],
         "yaxis": "y"
        },
        {
         "alignmentgroup": "True",
         "base": [
          "2000-01-01T12:12:00"
         ],
         "hovertemplate": "Job_ID=8<br>START_TIME=%{base}<br>END_TIME=%{x}<br>Machine_ID=%{y}<extra></extra>",
         "legendgroup": "8",
         "marker": {
          "color": "#F1C40F"
         },
         "name": "8",
         "offsetgroup": "8",
         "orientation": "h",
         "showlegend": true,
         "textposition": "auto",
         "type": "bar",
         "x": [
          4680000
         ],
         "xaxis": "x",
         "y": [
          "1"
         ],
         "yaxis": "y"
        },
        {
         "alignmentgroup": "True",
         "base": [
          "2000-01-01T13:30:00"
         ],
         "hovertemplate": "Job_ID=9<br>START_TIME=%{base}<br>END_TIME=%{x}<br>Machine_ID=%{y}<extra></extra>",
         "legendgroup": "9",
         "marker": {
          "color": "#F39C12"
         },
         "name": "9",
         "offsetgroup": "9",
         "orientation": "h",
         "showlegend": true,
         "textposition": "auto",
         "type": "bar",
         "x": [
          14400000
         ],
         "xaxis": "x",
         "y": [
          "1"
         ],
         "yaxis": "y"
        },
        {
         "alignmentgroup": "True",
         "base": [
          "2000-01-01T13:36:00"
         ],
         "hovertemplate": "Job_ID=10<br>START_TIME=%{base}<br>END_TIME=%{x}<br>Machine_ID=%{y}<extra></extra>",
         "legendgroup": "10",
         "marker": {
          "color": "#A6ACAF"
         },
         "name": "10",
         "offsetgroup": "10",
         "orientation": "h",
         "showlegend": true,
         "textposition": "auto",
         "type": "bar",
         "x": [
          14040000
         ],
         "xaxis": "x",
         "y": [
          "2"
         ],
         "yaxis": "y"
        }
       ],
       "layout": {
        "barmode": "overlay",
        "legend": {
         "title": {
          "text": "Lot ID"
         },
         "tracegroupgap": 0
        },
        "template": {
         "data": {
          "bar": [
           {
            "error_x": {
             "color": "#2a3f5f"
            },
            "error_y": {
             "color": "#2a3f5f"
            },
            "marker": {
             "line": {
              "color": "#E5ECF6",
              "width": 0.5
             },
             "pattern": {
              "fillmode": "overlay",
              "size": 10,
              "solidity": 0.2
             }
            },
            "type": "bar"
           }
          ],
          "barpolar": [
           {
            "marker": {
             "line": {
              "color": "#E5ECF6",
              "width": 0.5
             },
             "pattern": {
              "fillmode": "overlay",
              "size": 10,
              "solidity": 0.2
             }
            },
            "type": "barpolar"
           }
          ],
          "carpet": [
           {
            "aaxis": {
             "endlinecolor": "#2a3f5f",
             "gridcolor": "white",
             "linecolor": "white",
             "minorgridcolor": "white",
             "startlinecolor": "#2a3f5f"
            },
            "baxis": {
             "endlinecolor": "#2a3f5f",
             "gridcolor": "white",
             "linecolor": "white",
             "minorgridcolor": "white",
             "startlinecolor": "#2a3f5f"
            },
            "type": "carpet"
           }
          ],
          "choropleth": [
           {
            "colorbar": {
             "outlinewidth": 0,
             "ticks": ""
            },
            "type": "choropleth"
           }
          ],
          "contour": [
           {
            "colorbar": {
             "outlinewidth": 0,
             "ticks": ""
            },
            "colorscale": [
             [
              0,
              "#0d0887"
             ],
             [
              0.1111111111111111,
              "#46039f"
             ],
             [
              0.2222222222222222,
              "#7201a8"
             ],
             [
              0.3333333333333333,
              "#9c179e"
             ],
             [
              0.4444444444444444,
              "#bd3786"
             ],
             [
              0.5555555555555556,
              "#d8576b"
             ],
             [
              0.6666666666666666,
              "#ed7953"
             ],
             [
              0.7777777777777778,
              "#fb9f3a"
             ],
             [
              0.8888888888888888,
              "#fdca26"
             ],
             [
              1,
              "#f0f921"
             ]
            ],
            "type": "contour"
           }
          ],
          "contourcarpet": [
           {
            "colorbar": {
             "outlinewidth": 0,
             "ticks": ""
            },
            "type": "contourcarpet"
           }
          ],
          "heatmap": [
           {
            "colorbar": {
             "outlinewidth": 0,
             "ticks": ""
            },
            "colorscale": [
             [
              0,
              "#0d0887"
             ],
             [
              0.1111111111111111,
              "#46039f"
             ],
             [
              0.2222222222222222,
              "#7201a8"
             ],
             [
              0.3333333333333333,
              "#9c179e"
             ],
             [
              0.4444444444444444,
              "#bd3786"
             ],
             [
              0.5555555555555556,
              "#d8576b"
             ],
             [
              0.6666666666666666,
              "#ed7953"
             ],
             [
              0.7777777777777778,
              "#fb9f3a"
             ],
             [
              0.8888888888888888,
              "#fdca26"
             ],
             [
              1,
              "#f0f921"
             ]
            ],
            "type": "heatmap"
           }
          ],
          "heatmapgl": [
           {
            "colorbar": {
             "outlinewidth": 0,
             "ticks": ""
            },
            "colorscale": [
             [
              0,
              "#0d0887"
             ],
             [
              0.1111111111111111,
              "#46039f"
             ],
             [
              0.2222222222222222,
              "#7201a8"
             ],
             [
              0.3333333333333333,
              "#9c179e"
             ],
             [
              0.4444444444444444,
              "#bd3786"
             ],
             [
              0.5555555555555556,
              "#d8576b"
             ],
             [
              0.6666666666666666,
              "#ed7953"
             ],
             [
              0.7777777777777778,
              "#fb9f3a"
             ],
             [
              0.8888888888888888,
              "#fdca26"
             ],
             [
              1,
              "#f0f921"
             ]
            ],
            "type": "heatmapgl"
           }
          ],
          "histogram": [
           {
            "marker": {
             "pattern": {
              "fillmode": "overlay",
              "size": 10,
              "solidity": 0.2
             }
            },
            "type": "histogram"
           }
          ],
          "histogram2d": [
           {
            "colorbar": {
             "outlinewidth": 0,
             "ticks": ""
            },
            "colorscale": [
             [
              0,
              "#0d0887"
             ],
             [
              0.1111111111111111,
              "#46039f"
             ],
             [
              0.2222222222222222,
              "#7201a8"
             ],
             [
              0.3333333333333333,
              "#9c179e"
             ],
             [
              0.4444444444444444,
              "#bd3786"
             ],
             [
              0.5555555555555556,
              "#d8576b"
             ],
             [
              0.6666666666666666,
              "#ed7953"
             ],
             [
              0.7777777777777778,
              "#fb9f3a"
             ],
             [
              0.8888888888888888,
              "#fdca26"
             ],
             [
              1,
              "#f0f921"
             ]
            ],
            "type": "histogram2d"
           }
          ],
          "histogram2dcontour": [
           {
            "colorbar": {
             "outlinewidth": 0,
             "ticks": ""
            },
            "colorscale": [
             [
              0,
              "#0d0887"
             ],
             [
              0.1111111111111111,
              "#46039f"
             ],
             [
              0.2222222222222222,
              "#7201a8"
             ],
             [
              0.3333333333333333,
              "#9c179e"
             ],
             [
              0.4444444444444444,
              "#bd3786"
             ],
             [
              0.5555555555555556,
              "#d8576b"
             ],
             [
              0.6666666666666666,
              "#ed7953"
             ],
             [
              0.7777777777777778,
              "#fb9f3a"
             ],
             [
              0.8888888888888888,
              "#fdca26"
             ],
             [
              1,
              "#f0f921"
             ]
            ],
            "type": "histogram2dcontour"
           }
          ],
          "mesh3d": [
           {
            "colorbar": {
             "outlinewidth": 0,
             "ticks": ""
            },
            "type": "mesh3d"
           }
          ],
          "parcoords": [
           {
            "line": {
             "colorbar": {
              "outlinewidth": 0,
              "ticks": ""
             }
            },
            "type": "parcoords"
           }
          ],
          "pie": [
           {
            "automargin": true,
            "type": "pie"
           }
          ],
          "scatter": [
           {
            "marker": {
             "colorbar": {
              "outlinewidth": 0,
              "ticks": ""
             }
            },
            "type": "scatter"
           }
          ],
          "scatter3d": [
           {
            "line": {
             "colorbar": {
              "outlinewidth": 0,
              "ticks": ""
             }
            },
            "marker": {
             "colorbar": {
              "outlinewidth": 0,
              "ticks": ""
             }
            },
            "type": "scatter3d"
           }
          ],
          "scattercarpet": [
           {
            "marker": {
             "colorbar": {
              "outlinewidth": 0,
              "ticks": ""
             }
            },
            "type": "scattercarpet"
           }
          ],
          "scattergeo": [
           {
            "marker": {
             "colorbar": {
              "outlinewidth": 0,
              "ticks": ""
             }
            },
            "type": "scattergeo"
           }
          ],
          "scattergl": [
           {
            "marker": {
             "colorbar": {
              "outlinewidth": 0,
              "ticks": ""
             }
            },
            "type": "scattergl"
           }
          ],
          "scattermapbox": [
           {
            "marker": {
             "colorbar": {
              "outlinewidth": 0,
              "ticks": ""
             }
            },
            "type": "scattermapbox"
           }
          ],
          "scatterpolar": [
           {
            "marker": {
             "colorbar": {
              "outlinewidth": 0,
              "ticks": ""
             }
            },
            "type": "scatterpolar"
           }
          ],
          "scatterpolargl": [
           {
            "marker": {
             "colorbar": {
              "outlinewidth": 0,
              "ticks": ""
             }
            },
            "type": "scatterpolargl"
           }
          ],
          "scatterternary": [
           {
            "marker": {
             "colorbar": {
              "outlinewidth": 0,
              "ticks": ""
             }
            },
            "type": "scatterternary"
           }
          ],
          "surface": [
           {
            "colorbar": {
             "outlinewidth": 0,
             "ticks": ""
            },
            "colorscale": [
             [
              0,
              "#0d0887"
             ],
             [
              0.1111111111111111,
              "#46039f"
             ],
             [
              0.2222222222222222,
              "#7201a8"
             ],
             [
              0.3333333333333333,
              "#9c179e"
             ],
             [
              0.4444444444444444,
              "#bd3786"
             ],
             [
              0.5555555555555556,
              "#d8576b"
             ],
             [
              0.6666666666666666,
              "#ed7953"
             ],
             [
              0.7777777777777778,
              "#fb9f3a"
             ],
             [
              0.8888888888888888,
              "#fdca26"
             ],
             [
              1,
              "#f0f921"
             ]
            ],
            "type": "surface"
           }
          ],
          "table": [
           {
            "cells": {
             "fill": {
              "color": "#EBF0F8"
             },
             "line": {
              "color": "white"
             }
            },
            "header": {
             "fill": {
              "color": "#C8D4E3"
             },
             "line": {
              "color": "white"
             }
            },
            "type": "table"
           }
          ]
         },
         "layout": {
          "annotationdefaults": {
           "arrowcolor": "#2a3f5f",
           "arrowhead": 0,
           "arrowwidth": 1
          },
          "autotypenumbers": "strict",
          "coloraxis": {
           "colorbar": {
            "outlinewidth": 0,
            "ticks": ""
           }
          },
          "colorscale": {
           "diverging": [
            [
             0,
             "#8e0152"
            ],
            [
             0.1,
             "#c51b7d"
            ],
            [
             0.2,
             "#de77ae"
            ],
            [
             0.3,
             "#f1b6da"
            ],
            [
             0.4,
             "#fde0ef"
            ],
            [
             0.5,
             "#f7f7f7"
            ],
            [
             0.6,
             "#e6f5d0"
            ],
            [
             0.7,
             "#b8e186"
            ],
            [
             0.8,
             "#7fbc41"
            ],
            [
             0.9,
             "#4d9221"
            ],
            [
             1,
             "#276419"
            ]
           ],
           "sequential": [
            [
             0,
             "#0d0887"
            ],
            [
             0.1111111111111111,
             "#46039f"
            ],
            [
             0.2222222222222222,
             "#7201a8"
            ],
            [
             0.3333333333333333,
             "#9c179e"
            ],
            [
             0.4444444444444444,
             "#bd3786"
            ],
            [
             0.5555555555555556,
             "#d8576b"
            ],
            [
             0.6666666666666666,
             "#ed7953"
            ],
            [
             0.7777777777777778,
             "#fb9f3a"
            ],
            [
             0.8888888888888888,
             "#fdca26"
            ],
            [
             1,
             "#f0f921"
            ]
           ],
           "sequentialminus": [
            [
             0,
             "#0d0887"
            ],
            [
             0.1111111111111111,
             "#46039f"
            ],
            [
             0.2222222222222222,
             "#7201a8"
            ],
            [
             0.3333333333333333,
             "#9c179e"
            ],
            [
             0.4444444444444444,
             "#bd3786"
            ],
            [
             0.5555555555555556,
             "#d8576b"
            ],
            [
             0.6666666666666666,
             "#ed7953"
            ],
            [
             0.7777777777777778,
             "#fb9f3a"
            ],
            [
             0.8888888888888888,
             "#fdca26"
            ],
            [
             1,
             "#f0f921"
            ]
           ]
          },
          "colorway": [
           "#636efa",
           "#EF553B",
           "#00cc96",
           "#ab63fa",
           "#FFA15A",
           "#19d3f3",
           "#FF6692",
           "#B6E880",
           "#FF97FF",
           "#FECB52"
          ],
          "font": {
           "color": "#2a3f5f"
          },
          "geo": {
           "bgcolor": "white",
           "lakecolor": "white",
           "landcolor": "#E5ECF6",
           "showlakes": true,
           "showland": true,
           "subunitcolor": "white"
          },
          "hoverlabel": {
           "align": "left"
          },
          "hovermode": "closest",
          "mapbox": {
           "style": "light"
          },
          "paper_bgcolor": "white",
          "plot_bgcolor": "#E5ECF6",
          "polar": {
           "angularaxis": {
            "gridcolor": "white",
            "linecolor": "white",
            "ticks": ""
           },
           "bgcolor": "#E5ECF6",
           "radialaxis": {
            "gridcolor": "white",
            "linecolor": "white",
            "ticks": ""
           }
          },
          "scene": {
           "xaxis": {
            "backgroundcolor": "#E5ECF6",
            "gridcolor": "white",
            "gridwidth": 2,
            "linecolor": "white",
            "showbackground": true,
            "ticks": "",
            "zerolinecolor": "white"
           },
           "yaxis": {
            "backgroundcolor": "#E5ECF6",
            "gridcolor": "white",
            "gridwidth": 2,
            "linecolor": "white",
            "showbackground": true,
            "ticks": "",
            "zerolinecolor": "white"
           },
           "zaxis": {
            "backgroundcolor": "#E5ECF6",
            "gridcolor": "white",
            "gridwidth": 2,
            "linecolor": "white",
            "showbackground": true,
            "ticks": "",
            "zerolinecolor": "white"
           }
          },
          "shapedefaults": {
           "line": {
            "color": "#2a3f5f"
           }
          },
          "ternary": {
           "aaxis": {
            "gridcolor": "white",
            "linecolor": "white",
            "ticks": ""
           },
           "baxis": {
            "gridcolor": "white",
            "linecolor": "white",
            "ticks": ""
           },
           "bgcolor": "#E5ECF6",
           "caxis": {
            "gridcolor": "white",
            "linecolor": "white",
            "ticks": ""
           }
          },
          "title": {
           "x": 0.05
          },
          "xaxis": {
           "automargin": true,
           "gridcolor": "white",
           "linecolor": "white",
           "ticks": "",
           "title": {
            "standoff": 15
           },
           "zerolinecolor": "white",
           "zerolinewidth": 2
          },
          "yaxis": {
           "automargin": true,
           "gridcolor": "white",
           "linecolor": "white",
           "ticks": "",
           "title": {
            "standoff": 15
           },
           "zerolinecolor": "white",
           "zerolinewidth": 2
          }
         }
        },
        "title": {
         "text": "Instance 3 Problem 1 Gantt Chart"
        },
        "xaxis": {
         "anchor": "y",
         "domain": [
          0,
          1
         ],
         "tickformat": "%H:%M",
         "type": "date"
        },
        "yaxis": {
         "anchor": "x",
         "categoryarray": [
          "4",
          "3",
          "2",
          "1"
         ],
         "categoryorder": "array",
         "domain": [
          0,
          1
         ],
         "title": {
          "text": "Machine_ID"
         }
        }
       }
      },
      "text/html": [
       "<div>                            <div id=\"f48a5612-857e-4b14-b252-9b356a6bd6bf\" class=\"plotly-graph-div\" style=\"height:525px; width:100%;\"></div>            <script type=\"text/javascript\">                require([\"plotly\"], function(Plotly) {                    window.PLOTLYENV=window.PLOTLYENV || {};                                    if (document.getElementById(\"f48a5612-857e-4b14-b252-9b356a6bd6bf\")) {                    Plotly.newPlot(                        \"f48a5612-857e-4b14-b252-9b356a6bd6bf\",                        [{\"alignmentgroup\":\"True\",\"base\":[\"2000-01-01T07:30:00\"],\"hovertemplate\":\"Job_ID=1<br>START_TIME=%{base}<br>END_TIME=%{x}<br>Machine_ID=%{y}<extra></extra>\",\"legendgroup\":\"1\",\"marker\":{\"color\":\"#C0392B\"},\"name\":\"1\",\"offsetgroup\":\"1\",\"orientation\":\"h\",\"showlegend\":true,\"textposition\":\"auto\",\"x\":[16200000.0],\"xaxis\":\"x\",\"y\":[\"1\"],\"yaxis\":\"y\",\"type\":\"bar\"},{\"alignmentgroup\":\"True\",\"base\":[\"2000-01-01T07:30:00\"],\"hovertemplate\":\"Job_ID=2<br>START_TIME=%{base}<br>END_TIME=%{x}<br>Machine_ID=%{y}<extra></extra>\",\"legendgroup\":\"2\",\"marker\":{\"color\":\"#EC7063\"},\"name\":\"2\",\"offsetgroup\":\"2\",\"orientation\":\"h\",\"showlegend\":true,\"textposition\":\"auto\",\"x\":[18000000.0],\"xaxis\":\"x\",\"y\":[\"2\"],\"yaxis\":\"y\",\"type\":\"bar\"},{\"alignmentgroup\":\"True\",\"base\":[\"2000-01-01T11:11:59.999996\"],\"hovertemplate\":\"Job_ID=3<br>START_TIME=%{base}<br>END_TIME=%{x}<br>Machine_ID=%{y}<extra></extra>\",\"legendgroup\":\"3\",\"marker\":{\"color\":\"#1F618D\"},\"name\":\"3\",\"offsetgroup\":\"3\",\"orientation\":\"h\",\"showlegend\":true,\"textposition\":\"auto\",\"x\":[23040000.0],\"xaxis\":\"x\",\"y\":[\"3\"],\"yaxis\":\"y\",\"type\":\"bar\"},{\"alignmentgroup\":\"True\",\"base\":[\"2000-01-01T07:30:00\"],\"hovertemplate\":\"Job_ID=4<br>START_TIME=%{base}<br>END_TIME=%{x}<br>Machine_ID=%{y}<extra></extra>\",\"legendgroup\":\"4\",\"marker\":{\"color\":\"#34495E\"},\"name\":\"4\",\"offsetgroup\":\"4\",\"orientation\":\"h\",\"showlegend\":true,\"textposition\":\"auto\",\"x\":[12960000.0],\"xaxis\":\"x\",\"y\":[\"4\"],\"yaxis\":\"y\",\"type\":\"bar\"},{\"alignmentgroup\":\"True\",\"base\":[\"2000-01-01T07:30:00\"],\"hovertemplate\":\"Job_ID=5<br>START_TIME=%{base}<br>END_TIME=%{x}<br>Machine_ID=%{y}<extra></extra>\",\"legendgroup\":\"5\",\"marker\":{\"color\":\"#3498DB\"},\"name\":\"5\",\"offsetgroup\":\"5\",\"orientation\":\"h\",\"showlegend\":true,\"textposition\":\"auto\",\"x\":[13320000.0],\"xaxis\":\"x\",\"y\":[\"3\"],\"yaxis\":\"y\",\"type\":\"bar\"},{\"alignmentgroup\":\"True\",\"base\":[\"2000-01-01T14:18:00\"],\"hovertemplate\":\"Job_ID=6<br>START_TIME=%{base}<br>END_TIME=%{x}<br>Machine_ID=%{y}<extra></extra>\",\"legendgroup\":\"6\",\"marker\":{\"color\":\"#1E8449\"},\"name\":\"6\",\"offsetgroup\":\"6\",\"orientation\":\"h\",\"showlegend\":true,\"textposition\":\"auto\",\"x\":[11880000.0],\"xaxis\":\"x\",\"y\":[\"4\"],\"yaxis\":\"y\",\"type\":\"bar\"},{\"alignmentgroup\":\"True\",\"base\":[\"2000-01-01T11:06:00\"],\"hovertemplate\":\"Job_ID=7<br>START_TIME=%{base}<br>END_TIME=%{x}<br>Machine_ID=%{y}<extra></extra>\",\"legendgroup\":\"7\",\"marker\":{\"color\":\"#28B463\"},\"name\":\"7\",\"offsetgroup\":\"7\",\"orientation\":\"h\",\"showlegend\":true,\"textposition\":\"auto\",\"x\":[11520000.0],\"xaxis\":\"x\",\"y\":[\"4\"],\"yaxis\":\"y\",\"type\":\"bar\"},{\"alignmentgroup\":\"True\",\"base\":[\"2000-01-01T12:12:00\"],\"hovertemplate\":\"Job_ID=8<br>START_TIME=%{base}<br>END_TIME=%{x}<br>Machine_ID=%{y}<extra></extra>\",\"legendgroup\":\"8\",\"marker\":{\"color\":\"#F1C40F\"},\"name\":\"8\",\"offsetgroup\":\"8\",\"orientation\":\"h\",\"showlegend\":true,\"textposition\":\"auto\",\"x\":[4680000.0],\"xaxis\":\"x\",\"y\":[\"1\"],\"yaxis\":\"y\",\"type\":\"bar\"},{\"alignmentgroup\":\"True\",\"base\":[\"2000-01-01T13:30:00\"],\"hovertemplate\":\"Job_ID=9<br>START_TIME=%{base}<br>END_TIME=%{x}<br>Machine_ID=%{y}<extra></extra>\",\"legendgroup\":\"9\",\"marker\":{\"color\":\"#F39C12\"},\"name\":\"9\",\"offsetgroup\":\"9\",\"orientation\":\"h\",\"showlegend\":true,\"textposition\":\"auto\",\"x\":[14400000.0],\"xaxis\":\"x\",\"y\":[\"1\"],\"yaxis\":\"y\",\"type\":\"bar\"},{\"alignmentgroup\":\"True\",\"base\":[\"2000-01-01T13:36:00\"],\"hovertemplate\":\"Job_ID=10<br>START_TIME=%{base}<br>END_TIME=%{x}<br>Machine_ID=%{y}<extra></extra>\",\"legendgroup\":\"10\",\"marker\":{\"color\":\"#A6ACAF\"},\"name\":\"10\",\"offsetgroup\":\"10\",\"orientation\":\"h\",\"showlegend\":true,\"textposition\":\"auto\",\"x\":[14040000.0],\"xaxis\":\"x\",\"y\":[\"2\"],\"yaxis\":\"y\",\"type\":\"bar\"}],                        {\"template\":{\"data\":{\"bar\":[{\"error_x\":{\"color\":\"#2a3f5f\"},\"error_y\":{\"color\":\"#2a3f5f\"},\"marker\":{\"line\":{\"color\":\"#E5ECF6\",\"width\":0.5},\"pattern\":{\"fillmode\":\"overlay\",\"size\":10,\"solidity\":0.2}},\"type\":\"bar\"}],\"barpolar\":[{\"marker\":{\"line\":{\"color\":\"#E5ECF6\",\"width\":0.5},\"pattern\":{\"fillmode\":\"overlay\",\"size\":10,\"solidity\":0.2}},\"type\":\"barpolar\"}],\"carpet\":[{\"aaxis\":{\"endlinecolor\":\"#2a3f5f\",\"gridcolor\":\"white\",\"linecolor\":\"white\",\"minorgridcolor\":\"white\",\"startlinecolor\":\"#2a3f5f\"},\"baxis\":{\"endlinecolor\":\"#2a3f5f\",\"gridcolor\":\"white\",\"linecolor\":\"white\",\"minorgridcolor\":\"white\",\"startlinecolor\":\"#2a3f5f\"},\"type\":\"carpet\"}],\"choropleth\":[{\"colorbar\":{\"outlinewidth\":0,\"ticks\":\"\"},\"type\":\"choropleth\"}],\"contour\":[{\"colorbar\":{\"outlinewidth\":0,\"ticks\":\"\"},\"colorscale\":[[0.0,\"#0d0887\"],[0.1111111111111111,\"#46039f\"],[0.2222222222222222,\"#7201a8\"],[0.3333333333333333,\"#9c179e\"],[0.4444444444444444,\"#bd3786\"],[0.5555555555555556,\"#d8576b\"],[0.6666666666666666,\"#ed7953\"],[0.7777777777777778,\"#fb9f3a\"],[0.8888888888888888,\"#fdca26\"],[1.0,\"#f0f921\"]],\"type\":\"contour\"}],\"contourcarpet\":[{\"colorbar\":{\"outlinewidth\":0,\"ticks\":\"\"},\"type\":\"contourcarpet\"}],\"heatmap\":[{\"colorbar\":{\"outlinewidth\":0,\"ticks\":\"\"},\"colorscale\":[[0.0,\"#0d0887\"],[0.1111111111111111,\"#46039f\"],[0.2222222222222222,\"#7201a8\"],[0.3333333333333333,\"#9c179e\"],[0.4444444444444444,\"#bd3786\"],[0.5555555555555556,\"#d8576b\"],[0.6666666666666666,\"#ed7953\"],[0.7777777777777778,\"#fb9f3a\"],[0.8888888888888888,\"#fdca26\"],[1.0,\"#f0f921\"]],\"type\":\"heatmap\"}],\"heatmapgl\":[{\"colorbar\":{\"outlinewidth\":0,\"ticks\":\"\"},\"colorscale\":[[0.0,\"#0d0887\"],[0.1111111111111111,\"#46039f\"],[0.2222222222222222,\"#7201a8\"],[0.3333333333333333,\"#9c179e\"],[0.4444444444444444,\"#bd3786\"],[0.5555555555555556,\"#d8576b\"],[0.6666666666666666,\"#ed7953\"],[0.7777777777777778,\"#fb9f3a\"],[0.8888888888888888,\"#fdca26\"],[1.0,\"#f0f921\"]],\"type\":\"heatmapgl\"}],\"histogram\":[{\"marker\":{\"pattern\":{\"fillmode\":\"overlay\",\"size\":10,\"solidity\":0.2}},\"type\":\"histogram\"}],\"histogram2d\":[{\"colorbar\":{\"outlinewidth\":0,\"ticks\":\"\"},\"colorscale\":[[0.0,\"#0d0887\"],[0.1111111111111111,\"#46039f\"],[0.2222222222222222,\"#7201a8\"],[0.3333333333333333,\"#9c179e\"],[0.4444444444444444,\"#bd3786\"],[0.5555555555555556,\"#d8576b\"],[0.6666666666666666,\"#ed7953\"],[0.7777777777777778,\"#fb9f3a\"],[0.8888888888888888,\"#fdca26\"],[1.0,\"#f0f921\"]],\"type\":\"histogram2d\"}],\"histogram2dcontour\":[{\"colorbar\":{\"outlinewidth\":0,\"ticks\":\"\"},\"colorscale\":[[0.0,\"#0d0887\"],[0.1111111111111111,\"#46039f\"],[0.2222222222222222,\"#7201a8\"],[0.3333333333333333,\"#9c179e\"],[0.4444444444444444,\"#bd3786\"],[0.5555555555555556,\"#d8576b\"],[0.6666666666666666,\"#ed7953\"],[0.7777777777777778,\"#fb9f3a\"],[0.8888888888888888,\"#fdca26\"],[1.0,\"#f0f921\"]],\"type\":\"histogram2dcontour\"}],\"mesh3d\":[{\"colorbar\":{\"outlinewidth\":0,\"ticks\":\"\"},\"type\":\"mesh3d\"}],\"parcoords\":[{\"line\":{\"colorbar\":{\"outlinewidth\":0,\"ticks\":\"\"}},\"type\":\"parcoords\"}],\"pie\":[{\"automargin\":true,\"type\":\"pie\"}],\"scatter\":[{\"marker\":{\"colorbar\":{\"outlinewidth\":0,\"ticks\":\"\"}},\"type\":\"scatter\"}],\"scatter3d\":[{\"line\":{\"colorbar\":{\"outlinewidth\":0,\"ticks\":\"\"}},\"marker\":{\"colorbar\":{\"outlinewidth\":0,\"ticks\":\"\"}},\"type\":\"scatter3d\"}],\"scattercarpet\":[{\"marker\":{\"colorbar\":{\"outlinewidth\":0,\"ticks\":\"\"}},\"type\":\"scattercarpet\"}],\"scattergeo\":[{\"marker\":{\"colorbar\":{\"outlinewidth\":0,\"ticks\":\"\"}},\"type\":\"scattergeo\"}],\"scattergl\":[{\"marker\":{\"colorbar\":{\"outlinewidth\":0,\"ticks\":\"\"}},\"type\":\"scattergl\"}],\"scattermapbox\":[{\"marker\":{\"colorbar\":{\"outlinewidth\":0,\"ticks\":\"\"}},\"type\":\"scattermapbox\"}],\"scatterpolar\":[{\"marker\":{\"colorbar\":{\"outlinewidth\":0,\"ticks\":\"\"}},\"type\":\"scatterpolar\"}],\"scatterpolargl\":[{\"marker\":{\"colorbar\":{\"outlinewidth\":0,\"ticks\":\"\"}},\"type\":\"scatterpolargl\"}],\"scatterternary\":[{\"marker\":{\"colorbar\":{\"outlinewidth\":0,\"ticks\":\"\"}},\"type\":\"scatterternary\"}],\"surface\":[{\"colorbar\":{\"outlinewidth\":0,\"ticks\":\"\"},\"colorscale\":[[0.0,\"#0d0887\"],[0.1111111111111111,\"#46039f\"],[0.2222222222222222,\"#7201a8\"],[0.3333333333333333,\"#9c179e\"],[0.4444444444444444,\"#bd3786\"],[0.5555555555555556,\"#d8576b\"],[0.6666666666666666,\"#ed7953\"],[0.7777777777777778,\"#fb9f3a\"],[0.8888888888888888,\"#fdca26\"],[1.0,\"#f0f921\"]],\"type\":\"surface\"}],\"table\":[{\"cells\":{\"fill\":{\"color\":\"#EBF0F8\"},\"line\":{\"color\":\"white\"}},\"header\":{\"fill\":{\"color\":\"#C8D4E3\"},\"line\":{\"color\":\"white\"}},\"type\":\"table\"}]},\"layout\":{\"annotationdefaults\":{\"arrowcolor\":\"#2a3f5f\",\"arrowhead\":0,\"arrowwidth\":1},\"autotypenumbers\":\"strict\",\"coloraxis\":{\"colorbar\":{\"outlinewidth\":0,\"ticks\":\"\"}},\"colorscale\":{\"diverging\":[[0,\"#8e0152\"],[0.1,\"#c51b7d\"],[0.2,\"#de77ae\"],[0.3,\"#f1b6da\"],[0.4,\"#fde0ef\"],[0.5,\"#f7f7f7\"],[0.6,\"#e6f5d0\"],[0.7,\"#b8e186\"],[0.8,\"#7fbc41\"],[0.9,\"#4d9221\"],[1,\"#276419\"]],\"sequential\":[[0.0,\"#0d0887\"],[0.1111111111111111,\"#46039f\"],[0.2222222222222222,\"#7201a8\"],[0.3333333333333333,\"#9c179e\"],[0.4444444444444444,\"#bd3786\"],[0.5555555555555556,\"#d8576b\"],[0.6666666666666666,\"#ed7953\"],[0.7777777777777778,\"#fb9f3a\"],[0.8888888888888888,\"#fdca26\"],[1.0,\"#f0f921\"]],\"sequentialminus\":[[0.0,\"#0d0887\"],[0.1111111111111111,\"#46039f\"],[0.2222222222222222,\"#7201a8\"],[0.3333333333333333,\"#9c179e\"],[0.4444444444444444,\"#bd3786\"],[0.5555555555555556,\"#d8576b\"],[0.6666666666666666,\"#ed7953\"],[0.7777777777777778,\"#fb9f3a\"],[0.8888888888888888,\"#fdca26\"],[1.0,\"#f0f921\"]]},\"colorway\":[\"#636efa\",\"#EF553B\",\"#00cc96\",\"#ab63fa\",\"#FFA15A\",\"#19d3f3\",\"#FF6692\",\"#B6E880\",\"#FF97FF\",\"#FECB52\"],\"font\":{\"color\":\"#2a3f5f\"},\"geo\":{\"bgcolor\":\"white\",\"lakecolor\":\"white\",\"landcolor\":\"#E5ECF6\",\"showlakes\":true,\"showland\":true,\"subunitcolor\":\"white\"},\"hoverlabel\":{\"align\":\"left\"},\"hovermode\":\"closest\",\"mapbox\":{\"style\":\"light\"},\"paper_bgcolor\":\"white\",\"plot_bgcolor\":\"#E5ECF6\",\"polar\":{\"angularaxis\":{\"gridcolor\":\"white\",\"linecolor\":\"white\",\"ticks\":\"\"},\"bgcolor\":\"#E5ECF6\",\"radialaxis\":{\"gridcolor\":\"white\",\"linecolor\":\"white\",\"ticks\":\"\"}},\"scene\":{\"xaxis\":{\"backgroundcolor\":\"#E5ECF6\",\"gridcolor\":\"white\",\"gridwidth\":2,\"linecolor\":\"white\",\"showbackground\":true,\"ticks\":\"\",\"zerolinecolor\":\"white\"},\"yaxis\":{\"backgroundcolor\":\"#E5ECF6\",\"gridcolor\":\"white\",\"gridwidth\":2,\"linecolor\":\"white\",\"showbackground\":true,\"ticks\":\"\",\"zerolinecolor\":\"white\"},\"zaxis\":{\"backgroundcolor\":\"#E5ECF6\",\"gridcolor\":\"white\",\"gridwidth\":2,\"linecolor\":\"white\",\"showbackground\":true,\"ticks\":\"\",\"zerolinecolor\":\"white\"}},\"shapedefaults\":{\"line\":{\"color\":\"#2a3f5f\"}},\"ternary\":{\"aaxis\":{\"gridcolor\":\"white\",\"linecolor\":\"white\",\"ticks\":\"\"},\"baxis\":{\"gridcolor\":\"white\",\"linecolor\":\"white\",\"ticks\":\"\"},\"bgcolor\":\"#E5ECF6\",\"caxis\":{\"gridcolor\":\"white\",\"linecolor\":\"white\",\"ticks\":\"\"}},\"title\":{\"x\":0.05},\"xaxis\":{\"automargin\":true,\"gridcolor\":\"white\",\"linecolor\":\"white\",\"ticks\":\"\",\"title\":{\"standoff\":15},\"zerolinecolor\":\"white\",\"zerolinewidth\":2},\"yaxis\":{\"automargin\":true,\"gridcolor\":\"white\",\"linecolor\":\"white\",\"ticks\":\"\",\"title\":{\"standoff\":15},\"zerolinecolor\":\"white\",\"zerolinewidth\":2}}},\"xaxis\":{\"anchor\":\"y\",\"domain\":[0.0,1.0],\"type\":\"date\",\"tickformat\":\"%H:%M\"},\"yaxis\":{\"anchor\":\"x\",\"domain\":[0.0,1.0],\"title\":{\"text\":\"Machine_ID\"},\"categoryorder\":\"array\",\"categoryarray\":[\"4\",\"3\",\"2\",\"1\"]},\"legend\":{\"title\":{\"text\":\"Lot ID\"},\"tracegroupgap\":0},\"title\":{\"text\":\"Instance 3 Problem 1 Gantt Chart\"},\"barmode\":\"overlay\"},                        {\"responsive\": true}                    ).then(function(){\n",
       "                            \n",
       "var gd = document.getElementById('f48a5612-857e-4b14-b252-9b356a6bd6bf');\n",
       "var x = new MutationObserver(function (mutations, observer) {{\n",
       "        var display = window.getComputedStyle(gd).display;\n",
       "        if (!display || display === 'none') {{\n",
       "            console.log([gd, 'removed!']);\n",
       "            Plotly.purge(gd);\n",
       "            observer.disconnect();\n",
       "        }}\n",
       "}});\n",
       "\n",
       "// Listen for the removal of the full notebook cells\n",
       "var notebookContainer = gd.closest('#notebook-container');\n",
       "if (notebookContainer) {{\n",
       "    x.observe(notebookContainer, {childList: true});\n",
       "}}\n",
       "\n",
       "// Listen for the clearing of the current output cell\n",
       "var outputEl = gd.closest('.output');\n",
       "if (outputEl) {{\n",
       "    x.observe(outputEl, {childList: true});\n",
       "}}\n",
       "\n",
       "                        })                };                });            </script>        </div>"
      ]
     },
     "metadata": {},
     "output_type": "display_data"
    }
   ],
   "source": [
    "gantt_plot_1(x_opt, P, y_opt, instance_no)"
   ]
  },
  {
   "cell_type": "markdown",
   "metadata": {},
   "source": [
    "### 2."
   ]
  },
  {
   "cell_type": "markdown",
   "metadata": {},
   "source": [
    "### Constant Data"
   ]
  },
  {
   "cell_type": "code",
   "execution_count": 185,
   "metadata": {},
   "outputs": [],
   "source": [
    "order_num = [12, 11, 10]\n",
    "I = order_num[instance_no - 1]\n",
    "M = 4 # machine num\n",
    "S = 2 # stage num\n",
    "orders = range(0, I)\n",
    "machines = range(0, M)\n",
    "stages = range(0, S)"
   ]
  },
  {
   "cell_type": "code",
   "execution_count": 186,
   "metadata": {},
   "outputs": [],
   "source": [
    "# process time for order i at stage s\n",
    "process_time = [[[2.7, 1.3],\n",
    "                 [1.6, 1.4],\n",
    "                 [0.7, 1.9],\n",
    "                 [0.5, 0.7],\n",
    "                 [0.8, 1],\n",
    "                 [2.5, 0],\n",
    "                 [1.4, 2],\n",
    "                 [1.1, 1.1],\n",
    "                 [0.8, 0.7],\n",
    "                 [1, 0.5],\n",
    "                 [3, 1.4],\n",
    "                 [2, 0]],\n",
    "                [[2.7, 1.5],\n",
    "                 [1.6, 2.3],\n",
    "                 [1, 2.7],\n",
    "                 [2.8, 0.8],\n",
    "                 [0.8, 1.9],\n",
    "                 [2.7, 0],\n",
    "                 [1.4, 1.5],\n",
    "                 [2.2, 0],\n",
    "                 [0.8, 1.8],\n",
    "                 [2.2, 2.2],\n",
    "                 [2.5, 1.5]],\n",
    "                [[3, 1.5],\n",
    "                 [3, 2],\n",
    "                 [3, 3.4],\n",
    "                 [3, 0.6],\n",
    "                 [1.2, 2.5],\n",
    "                 [3.3, 0],\n",
    "                 [1.7, 1.5],\n",
    "                 [1.3, 0],\n",
    "                 [1.8, 2.2],\n",
    "                 [2.6, 1.3]]]\n",
    "\n",
    "P = process_time[instance_no - 1]"
   ]
  },
  {
   "cell_type": "markdown",
   "metadata": {},
   "source": [
    "### Decision variable – Delay"
   ]
  },
  {
   "cell_type": "code",
   "execution_count": 187,
   "metadata": {},
   "outputs": [],
   "source": [
    "Q2_delay = Model('Q2-delay')\n",
    "\n",
    "# x_is is the finish time of order i at stage s\n",
    "x = {}\n",
    "for i in orders:\n",
    "    x[i] = {}\n",
    "    for s in stages:\n",
    "        x[i][s] = Q2_delay.addVar(lb = 0, vtype = GRB.CONTINUOUS, name = \"x_\" + str(i) + \",\" + str(s))\n",
    "\n",
    "# y_ism = 1 if order i process on machine m  at stage s otherwise 0\n",
    "y = {}\n",
    "for i in orders:\n",
    "    y[i] = {}\n",
    "    for s in stages:\n",
    "        y[i][s] = {}\n",
    "        for m in machines:\n",
    "            y[i][s][m] = Q2_delay.addVar(lb = 0, vtype = GRB.BINARY, name = \"y_\" + str(i) + \",\" + str(s) + \",\" + str(m))\n",
    "        \n",
    "# z_isjt = 1 if order i's stage s process before order j's stage t and they both process on the same machine otherwise 0\n",
    "z = {}\n",
    "for i in orders:\n",
    "    z[i] = {}\n",
    "    for s in stages:\n",
    "        z[i][s] = {}\n",
    "        for j in orders:\n",
    "            z[i][s][j] = {}\n",
    "            for t in stages:\n",
    "                z[i][s][j][t] = Q2_delay.addVar(lb = 0, vtype = GRB.BINARY, name = \"z_\" + str(i) + \",\" + str(s) + \",\" + str(j) + \",\" + str(t))\n",
    "        \n",
    "# l_i = 1 if order i is late otherwise 0\n",
    "l = {}\n",
    "for i in orders:\n",
    "    l[i] = Q2_delay.addVar(lb = 0, vtype = GRB.BINARY, name = \"l_\" + str(i))\n",
    "\n",
    "Q2_delay.update()"
   ]
  },
  {
   "cell_type": "markdown",
   "metadata": {},
   "source": [
    "### Setting the objective function"
   ]
  },
  {
   "cell_type": "code",
   "execution_count": 188,
   "metadata": {},
   "outputs": [],
   "source": [
    "Q2_delay.setObjective(quicksum(l[i] for i in orders), GRB.MINIMIZE)"
   ]
  },
  {
   "cell_type": "markdown",
   "metadata": {},
   "source": [
    "### Add constraints"
   ]
  },
  {
   "cell_type": "code",
   "execution_count": 189,
   "metadata": {},
   "outputs": [],
   "source": [
    "Q2_delay.addConstrs((x[j][t] + P[i][s] - x[i][s] <= (quicksum(P[i][s] for i in orders for s in stages)+P[i][s]) * (z[i][s][j][t] + 2-y[i][s][m]-y[j][t][m]) for i in orders for j in range(i+1, I) for m in machines for s in stages for t in stages), 'constraints for x_is, z_isjt')\n",
    "Q2_delay.addConstrs((x[i][s] + P[j][t] - x[j][t] <= (quicksum(P[i][s] for i in orders for s in stages)+P[j][t]) * (1-z[i][s][j][t] + 2-y[i][s][m]-y[j][t][m]) for i in orders for j in range(i+1, I) for m in machines for s in stages for t in stages), 'constraints for x_is, z_isjt')\n",
    "Q2_delay.addConstrs((x[i][1] <= D[i] + quicksum(P[i][s] for s in stages for i in orders) * l[i] for i in orders), 'constraints for l_i')\n",
    "Q2_delay.addConstrs((quicksum(y[i][s][m] for m in machines) == 1 for i in orders for s in stages), 'allocate orders to machines')\n",
    "Q2_delay.addConstrs((x[i][s] >= P[i][s] for i in orders for s in stages), 'minimum x_i')\n",
    "Q2_delay.addConstrs((x[i][1] >= x[i][0] + P[i][1] for i in orders), 'stage 2 should start after stage 1 is finished')\n",
    "\n",
    "Q2_delay.update()"
   ]
  },
  {
   "cell_type": "code",
   "execution_count": 190,
   "metadata": {
    "collapsed": true,
    "jupyter": {
     "outputs_hidden": true
    }
   },
   "outputs": [
    {
     "name": "stdout",
     "output_type": "stream",
     "text": [
      "Gurobi Optimizer version 9.1.1 build v9.1.1rc0 (mac64)\n",
      "Thread count: 2 physical cores, 4 logical processors, using up to 4 threads\n",
      "Optimize a model with 1500 rows, 510 columns and 7340 nonzeros\n",
      "Model fingerprint: 0x27f846aa\n",
      "Variable types: 20 continuous, 490 integer (490 binary)\n",
      "Coefficient statistics:\n",
      "  Matrix range     [1e+00, 4e+01]\n",
      "  Objective range  [1e+00, 1e+00]\n",
      "  Bounds range     [1e+00, 1e+00]\n",
      "  RHS range        [6e-01, 1e+02]\n",
      "Found heuristic solution: objective 5.0000000\n",
      "Presolve removed 21 rows and 221 columns\n",
      "Presolve time: 0.01s\n",
      "Presolved: 1479 rows, 289 columns, 7346 nonzeros\n",
      "Variable types: 20 continuous, 269 integer (269 binary)\n",
      "\n",
      "Root relaxation: objective 1.000000e+00, 161 iterations, 0.00 seconds\n",
      "\n",
      "    Nodes    |    Current Node    |     Objective Bounds      |     Work\n",
      " Expl Unexpl |  Obj  Depth IntInf | Incumbent    BestBd   Gap | It/Node Time\n",
      "\n",
      "     0     0    1.00000    0    1    5.00000    1.00000  80.0%     -    0s\n",
      "H    0     0                       3.0000000    1.00000  66.7%     -    0s\n",
      "H    0     0                       2.0000000    1.00000  50.0%     -    0s\n",
      "     0     0    1.00000    0    4    2.00000    1.00000  50.0%     -    0s\n",
      "     0     0    1.00000    0    4    2.00000    1.00000  50.0%     -    0s\n",
      "     0     0    1.00000    0    7    2.00000    1.00000  50.0%     -    0s\n",
      "     0     0    1.00000    0    7    2.00000    1.00000  50.0%     -    0s\n",
      "     0     0    1.00000    0    6    2.00000    1.00000  50.0%     -    0s\n",
      "     0     0    1.00000    0    2    2.00000    1.00000  50.0%     -    0s\n",
      "     0     0    1.00000    0    4    2.00000    1.00000  50.0%     -    0s\n",
      "     0     0    1.00000    0    4    2.00000    1.00000  50.0%     -    0s\n",
      "     0     0    1.00000    0    3    2.00000    1.00000  50.0%     -    0s\n",
      "     0     0    1.00000    0    8    2.00000    1.00000  50.0%     -    0s\n",
      "     0     0 infeasible    0         2.00000    2.00000  0.00%     -    0s\n",
      "\n",
      "Cutting planes:\n",
      "  Learned: 16\n",
      "  Cover: 6\n",
      "  MIR: 3\n",
      "  Relax-and-lift: 4\n",
      "\n",
      "Explored 1 nodes (866 simplex iterations) in 0.30 seconds\n",
      "Thread count was 4 (of 4 available processors)\n",
      "\n",
      "Solution count 3: 2 3 5 \n",
      "\n",
      "Optimal solution found (tolerance 1.00e-04)\n",
      "Best objective 2.000000000000e+00, best bound 2.000000000000e+00, gap 0.0000%\n"
     ]
    }
   ],
   "source": [
    "Q2_delay.optimize()"
   ]
  },
  {
   "cell_type": "code",
   "execution_count": 191,
   "metadata": {},
   "outputs": [
    {
     "name": "stdout",
     "output_type": "stream",
     "text": [
      "objective value = 2.0\n"
     ]
    }
   ],
   "source": [
    "a = Q2_delay.objVal\n",
    "print(\"objective value =\", a)"
   ]
  },
  {
   "cell_type": "markdown",
   "metadata": {},
   "source": [
    "### Decision variable – makespan"
   ]
  },
  {
   "cell_type": "code",
   "execution_count": 192,
   "metadata": {},
   "outputs": [],
   "source": [
    "Q2_makespan = Model('Q2-makespan')\n",
    "\n",
    "# x_is is the finish time of order i at stage s\n",
    "x = {}\n",
    "for i in orders:\n",
    "    x[i] = {}\n",
    "    for s in stages:\n",
    "        x[i][s] = Q2_makespan.addVar(lb = 0, vtype = GRB.CONTINUOUS, name = \"x_\" + str(i) + \",\" + str(s))\n",
    "\n",
    "# y_ism = 1 if order i process on machine m  at stage s otherwise 0\n",
    "y = {}\n",
    "for i in orders:\n",
    "    y[i] = {}\n",
    "    for s in stages:\n",
    "        y[i][s] = {}\n",
    "        for m in machines:\n",
    "            y[i][s][m] = Q2_makespan.addVar(lb = 0, vtype = GRB.BINARY, name = \"y_\" + str(i) + \",\" + str(s) + \",\" + str(m))\n",
    "        \n",
    "# z_isjt = 1 if order i's stage s process before order j's stage t and they both process on the same machine otherwise 0\n",
    "z = {}\n",
    "for i in orders:\n",
    "    z[i] = {}\n",
    "    for s in stages:\n",
    "        z[i][s] = {}\n",
    "        for j in orders:\n",
    "            z[i][s][j] = {}\n",
    "            for t in stages:\n",
    "                z[i][s][j][t] = Q2_makespan.addVar(lb = 0, vtype = GRB.BINARY, name = \"z_\" + str(i) + \",\" + str(s) + \",\" + str(j) + \",\" + str(t))\n",
    "        \n",
    "# l_i = 1 if order i is late otherwise 0\n",
    "l = {}\n",
    "for i in orders:\n",
    "    l[i] = Q2_makespan.addVar(lb = 0, vtype = GRB.BINARY, name = \"l_\" + str(i))\n",
    "\n",
    "# w is the makespan of the solution\n",
    "w = Q2_makespan.addVar(lb = 0, vtype = GRB.CONTINUOUS, name = \"w\")\n",
    "\n",
    "Q2_makespan.update()"
   ]
  },
  {
   "cell_type": "markdown",
   "metadata": {},
   "source": [
    "### Setting the objective function"
   ]
  },
  {
   "cell_type": "code",
   "execution_count": 193,
   "metadata": {},
   "outputs": [],
   "source": [
    "Q2_makespan.setObjective(w, GRB.MINIMIZE)"
   ]
  },
  {
   "cell_type": "markdown",
   "metadata": {},
   "source": [
    "### Add constraints"
   ]
  },
  {
   "cell_type": "code",
   "execution_count": 194,
   "metadata": {},
   "outputs": [],
   "source": [
    "Q2_makespan.addConstrs((x[j][t] + P[i][s] - x[i][s] <= (quicksum(P[i][s] for i in orders for s in stages)+P[i][s]) * (z[i][s][j][t] + 2-y[i][s][m]-y[j][t][m]) for i in orders for j in range(i+1, I) for m in machines for s in stages for t in stages), 'constraints for x_is, z_isjt')\n",
    "Q2_makespan.addConstrs((x[i][s] + P[j][t] - x[j][t] <= (quicksum(P[i][s] for i in orders for s in stages)+P[j][t]) * (1-z[i][s][j][t] + 2-y[i][s][m]-y[j][t][m]) for i in orders for j in range(i+1, I) for m in machines for s in stages for t in stages), 'constraints for x_is, z_isjt')\n",
    "Q2_makespan.addConstrs((x[i][1] <= D[i] + quicksum(P[i][s] for s in stages for i in orders) * l[i] for i in orders), 'constraints for l_i')\n",
    "Q2_makespan.addConstrs((quicksum(y[i][s][m] for m in machines) == 1 for i in orders for s in stages), 'allocate orders to machines')\n",
    "Q2_makespan.addConstrs((x[i][s] >= P[i][s] for i in orders for s in stages), 'minimum x_i')\n",
    "Q2_makespan.addConstrs((x[i][1] >= x[i][0] + P[i][1] for i in orders), 'stage 2 should start after stage 1 is finished')\n",
    "Q2_makespan.addConstrs((w >= x[i][1] for i in orders), 'makespan')\n",
    "Q2_makespan.addConstr((quicksum(l[i] for i in orders) == a), 'delay num')\n",
    "\n",
    "Q2_makespan.update()"
   ]
  },
  {
   "cell_type": "code",
   "execution_count": 195,
   "metadata": {
    "collapsed": true,
    "jupyter": {
     "outputs_hidden": true
    }
   },
   "outputs": [
    {
     "name": "stdout",
     "output_type": "stream",
     "text": [
      "Gurobi Optimizer version 9.1.1 build v9.1.1rc0 (mac64)\n",
      "Thread count: 2 physical cores, 4 logical processors, using up to 4 threads\n",
      "Optimize a model with 1511 rows, 511 columns and 7370 nonzeros\n",
      "Model fingerprint: 0x7e27c2d4\n",
      "Variable types: 21 continuous, 490 integer (490 binary)\n",
      "Coefficient statistics:\n",
      "  Matrix range     [1e+00, 4e+01]\n",
      "  Objective range  [1e+00, 1e+00]\n",
      "  Bounds range     [1e+00, 1e+00]\n",
      "  RHS range        [6e-01, 1e+02]\n",
      "Presolve removed 22 rows and 222 columns\n",
      "Presolve time: 0.02s\n",
      "Presolved: 1489 rows, 289 columns, 7345 nonzeros\n",
      "Variable types: 21 continuous, 268 integer (268 binary)\n",
      "\n",
      "Root relaxation: objective 6.400000e+00, 161 iterations, 0.00 seconds\n",
      "\n",
      "    Nodes    |    Current Node    |     Objective Bounds      |     Work\n",
      " Expl Unexpl |  Obj  Depth IntInf | Incumbent    BestBd   Gap | It/Node Time\n",
      "\n",
      "     0     0    6.40000    0   12          -    6.40000      -     -    0s\n",
      "     0     0    6.40000    0   22          -    6.40000      -     -    0s\n",
      "     0     0    6.40000    0   19          -    6.40000      -     -    0s\n",
      "     0     0    6.40000    0    9          -    6.40000      -     -    0s\n",
      "H    0     0                      14.0000000    6.40000  54.3%     -    0s\n",
      "H    0     0                      11.6000000    6.40000  44.8%     -    0s\n",
      "     0     0    6.40000    0   11   11.60000    6.40000  44.8%     -    0s\n",
      "     0     0    6.40000    0   11   11.60000    6.40000  44.8%     -    0s\n",
      "     0     0    6.40000    0   12   11.60000    6.40000  44.8%     -    0s\n",
      "     0     0    6.40000    0   11   11.60000    6.40000  44.8%     -    0s\n",
      "     0     0    6.40000    0    8   11.60000    6.40000  44.8%     -    0s\n",
      "H    0     0                      11.4000000    6.40000  43.9%     -    0s\n",
      "     0     0    6.40000    0   14   11.40000    6.40000  43.9%     -    0s\n",
      "     0     0    6.40000    0   11   11.40000    6.40000  43.9%     -    0s\n",
      "H    0     0                      11.0000000    6.40000  41.8%     -    0s\n",
      "     0     0    6.40000    0   12   11.00000    6.40000  41.8%     -    0s\n",
      "     0     0    6.40000    0   12   11.00000    6.40000  41.8%     -    0s\n",
      "     0     0    6.40000    0   12   11.00000    6.40000  41.8%     -    0s\n",
      "     0     2    6.40000    0   10   11.00000    6.40000  41.8%     -    0s\n",
      "H  271   157                      10.1000000    6.40000  36.6%   4.2    0s\n",
      "* 1761   707              36      10.0000000    6.40000  36.0%   7.0    1s\n",
      "H 2008   650                       9.9000000    6.40000  35.4%   6.8    1s\n",
      "* 5702  1837              38       9.8000000    6.40000  34.7%   6.1    3s\n",
      " 10228  3347    6.40000   24   14    9.80000    6.40000  34.7%   6.1    5s\n",
      " 27770  5576 infeasible   38         9.80000    9.40000  4.08%   5.5   10s\n",
      " 56473  7069    9.40000   48    6    9.80000    9.40000  4.08%   4.8   15s\n",
      " 88702  9467    9.40000   30    3    9.80000    9.40000  4.08%   4.7   20s\n",
      " 118411 11661 infeasible   48         9.80000    9.40000  4.08%   4.6   25s\n",
      " 149217 13932    9.40000   39    4    9.80000    9.40000  4.08%   4.5   30s\n",
      "*159062 14507              49       9.8000000    9.40000  4.08%   4.5   31s\n",
      " 178285 15561 infeasible   44         9.80000    9.40000  4.08%   4.5   35s\n",
      " 211881 18016 infeasible   36         9.80000    9.40000  4.08%   4.4   40s\n",
      " 252216 21120 infeasible   43         9.80000    9.40000  4.08%   4.4   45s\n",
      "H266903 22145                       9.7999999    9.40000  4.08%   4.3   47s\n",
      " 282168 23146 infeasible   42         9.80000    9.40000  4.08%   4.3   50s\n",
      " 306512 24537    9.40000   53    4    9.80000    9.40000  4.08%   4.2   55s\n",
      " 341264 26642    9.40000   35    9    9.80000    9.40000  4.08%   4.2   60s\n",
      " 378580 29102 infeasible   40         9.80000    9.40000  4.08%   4.2   65s\n",
      " 410606 30950    9.40000   23    6    9.80000    9.40000  4.08%   4.2   70s\n",
      " 445580 33273     cutoff   40         9.80000    9.40000  4.08%   4.2   75s\n",
      " 480315 36081    9.40000   25   11    9.80000    9.40000  4.08%   4.2   80s\n",
      " 516082 38667    9.40000   36    7    9.80000    9.40000  4.08%   4.1   85s\n",
      " 542726 40936    9.40000   37    8    9.80000    9.40000  4.08%   4.1   90s\n",
      " 569401 42992    9.40000   35    4    9.80000    9.40000  4.08%   4.1   95s\n",
      " 606966 46074    9.70000   39    4    9.80000    9.40000  4.08%   4.1  100s\n",
      " 643002 49154    9.40000   45    4    9.80000    9.40000  4.08%   4.1  105s\n",
      " 680420 52293    9.60000   40    4    9.80000    9.40000  4.08%   4.1  110s\n",
      " 713884 54595 infeasible   42         9.80000    9.40000  4.08%   4.1  115s\n",
      " 745457 56188 infeasible   40         9.80000    9.40000  4.08%   4.1  120s\n",
      " 775095 57506    9.40000   34   10    9.80000    9.40000  4.08%   4.2  125s\n",
      " 809015 59233    9.70000   45    4    9.80000    9.40000  4.08%   4.2  130s\n",
      " 843721 60863    9.40000   47    3    9.80000    9.40000  4.08%   4.2  135s\n",
      " 874824 62263 infeasible   48         9.80000    9.40000  4.08%   4.3  140s\n",
      " 911311 64340    9.40000   29   10    9.80000    9.40000  4.08%   4.3  145s\n",
      " 945546 66191    9.50000   48    2    9.80000    9.40000  4.08%   4.3  150s\n",
      " 977840 67654    9.40000   44    5    9.80000    9.40000  4.08%   4.3  155s\n",
      " 1009765 69259    9.70000   26    4    9.80000    9.40000  4.08%   4.3  160s\n",
      " 1048981 71310    9.40000   44    2    9.80000    9.40000  4.08%   4.3  165s\n",
      " 1082373 72930    9.40000   27    5    9.80000    9.40000  4.08%   4.3  170s\n",
      " 1115063 75610 infeasible   45         9.80000    9.40000  4.08%   4.4  175s\n",
      " 1149543 77884 infeasible   41         9.80000    9.40000  4.08%   4.4  180s\n",
      " 1188400 81021    9.70000   35    3    9.80000    9.40000  4.08%   4.4  185s\n",
      " 1225606 84211    9.40000   37   10    9.80000    9.40000  4.08%   4.4  190s\n",
      " 1261886 86944 infeasible   37         9.80000    9.40000  4.08%   4.4  195s\n",
      " 1294919 89969    9.70000   39    2    9.80000    9.40000  4.08%   4.4  200s\n",
      " 1330989 93686    9.40000   37    3    9.80000    9.40000  4.08%   4.4  205s\n",
      " 1369318 97374    9.40000   29    7    9.80000    9.40000  4.08%   4.3  210s\n",
      " 1406516 101128 infeasible   44         9.80000    9.40000  4.08%   4.3  215s\n",
      " 1443807 104348    9.60000   30    6    9.80000    9.40000  4.08%   4.3  220s\n",
      " 1475095 107179 infeasible   38         9.80000    9.40000  4.08%   4.4  225s\n",
      " 1502685 109191    9.70000   33    3    9.80000    9.40000  4.08%   4.4  230s\n",
      " 1529156 111281    9.40000   29    3    9.80000    9.40000  4.08%   4.4  235s\n",
      " 1552331 112902    9.70000   36    3    9.80000    9.40000  4.08%   4.4  240s\n",
      " 1577218 114714 infeasible   40         9.80000    9.40000  4.08%   4.4  245s\n",
      " 1597826 116244    9.60000   40    7    9.80000    9.40000  4.08%   4.4  250s\n",
      " 1623291 114093    9.70000   41    2    9.80000    9.50000  3.06%   4.4  255s\n",
      " 1672758 109649     cutoff   44         9.80000    9.50000  3.06%   4.4  260s\n",
      " 1716516 108483    9.70000   47    2    9.80000    9.50000  3.06%   4.3  265s\n",
      " 1759947 106728 infeasible   39         9.80000    9.50000  3.06%   4.3  270s\n",
      " 1799547 105639 infeasible   43         9.80000    9.50000  3.06%   4.3  275s\n",
      " 1843296 105419    9.70000   39    2    9.80000    9.50000  3.06%   4.3  280s\n",
      " 1885991 106061    9.50000   39    3    9.80000    9.50000  3.06%   4.2  285s\n",
      " 1927240 107829    9.60000   37    6    9.80000    9.50000  3.06%   4.2  290s\n",
      " 1965295 109515 infeasible   40         9.80000    9.50000  3.06%   4.2  295s\n",
      " 2002140 111567 infeasible   35         9.80000    9.50000  3.06%   4.2  300s\n",
      " 2050207 105443    9.60000   44    2    9.80000    9.60000  2.04%   4.2  305s\n",
      " 2089265 100697 infeasible   40         9.80000    9.60000  2.04%   4.2  310s\n",
      " 2134302 97510    9.60000   45    3    9.80000    9.60000  2.04%   4.1  315s\n",
      " 2179355 94063    9.60000   43    3    9.80000    9.60000  2.04%   4.1  320s\n",
      " 2225060 90939 infeasible   46         9.80000    9.60000  2.04%   4.1  325s\n",
      " 2273965 87782    9.60000   45    4    9.80000    9.60000  2.04%   4.1  330s\n",
      " 2319025 85976    9.60000   39    2    9.80000    9.60000  2.04%   4.1  335s\n",
      " 2363927 84505 infeasible   40         9.80000    9.60000  2.04%   4.0  340s\n",
      " 2409712 83759    9.60000   41    4    9.80000    9.60000  2.04%   4.0  345s\n",
      " 2450580 83353    9.60000   43    3    9.80000    9.60000  2.04%   4.0  350s\n",
      " 2491380 83466 infeasible   43         9.80000    9.60000  2.04%   4.0  355s\n",
      " 2531563 83411    9.70000   41    3    9.80000    9.60000  2.04%   4.0  360s\n",
      " 2574929 84323    9.60000   41    3    9.80000    9.60000  2.04%   4.0  365s\n",
      " 2618941 81861    9.70000   43    1    9.80000    9.70000  1.02%   4.0  370s\n",
      " 2666042 73816    9.70000   43    2    9.80000    9.70000  1.02%   4.0  375s\n",
      " 2715912 61077 infeasible   47         9.80000    9.70000  1.02%   3.9  380s\n",
      " 2768844 49294 infeasible   42         9.80000    9.70000  1.02%   3.9  385s\n",
      " 2819140 41715    9.70000   39    2    9.80000    9.70000  1.02%   3.9  390s\n",
      " 2860500 36731    9.70000   39    3    9.80000    9.70000  1.02%   3.9  395s\n",
      "H2887140 33744                       9.7999939    9.70000  1.02%   3.9  397s\n",
      " 2908004 31613 infeasible   45         9.79999    9.70000  1.02%   3.8  400s\n",
      " 2952704 26711    9.70000   37    5    9.79999    9.70000  1.02%   3.8  405s\n",
      " 2998661 22580    9.70000   41    3    9.79999    9.70000  1.02%   3.8  410s\n",
      " 3042684 18707    9.70000   46    2    9.79999    9.70000  1.02%   3.8  415s\n",
      " 3085457 15137 infeasible   46         9.79999    9.70000  1.02%   3.8  420s\n",
      " 3131474 12126    9.70000   36    6    9.79999    9.70000  1.02%   3.8  425s\n",
      "*3163030 10076              48       9.7999939    9.70000  1.02%   3.8  428s\n",
      " 3176888  9109 infeasible   41         9.79999    9.70000  1.02%   3.8  430s\n",
      " 3218762  6169    9.70000   42    3    9.79999    9.70000  1.02%   3.8  435s\n",
      " 3261094  5277 infeasible   43         9.79999    9.70000  1.02%   3.8  440s\n",
      " 3306692  3832    9.70000   41    3    9.79999    9.70000  1.02%   3.8  445s\n",
      " 3346151  3437 infeasible   42         9.79999    9.70000  1.02%   3.8  450s\n",
      " 3386057  3357    9.70000   42    3    9.79999    9.70000  1.02%   3.8  455s\n",
      " 3422030  3550 infeasible   39         9.79999    9.70000  1.02%   3.8  460s\n",
      " 3464444  3724    9.70000   38    3    9.79999    9.70000  1.02%   3.8  465s\n",
      " 3513319  3663    9.70000   36    3    9.79999    9.70000  1.02%   3.8  470s\n",
      " 3550534  3755 infeasible   47         9.79999    9.70000  1.02%   3.8  475s\n",
      " 3591323  3623 infeasible   42         9.79999    9.70000  1.02%   3.8  480s\n",
      " 3635381  3722 infeasible   41         9.79999    9.70000  1.02%   3.8  485s\n",
      " 3684443  3441    9.70000   47    3    9.79999    9.70000  1.02%   3.7  490s\n",
      " 3723952  2887 infeasible   46         9.79999    9.70000  1.02%   3.7  495s\n",
      " 3765305  2227 infeasible   42         9.79999    9.70000  1.02%   3.7  500s\n",
      " 3815112  2279 infeasible   44         9.79999    9.70000  1.02%   3.7  505s\n",
      " 3859634  2215    9.70000   37    1    9.79999    9.70000  1.02%   3.7  510s\n",
      " 3903300  2132    9.70000   45    1    9.79999    9.70000  1.02%   3.7  515s\n",
      " 3947975  2101 infeasible   50         9.79999    9.70000  1.02%   3.7  520s\n",
      " 3988980  2108    9.70000   42    4    9.79999    9.70000  1.02%   3.7  525s\n",
      " 4020924  2087 infeasible   49         9.79999    9.70000  1.02%   3.7  530s\n",
      " 4047334  2078 infeasible   35         9.79999    9.70000  1.02%   3.7  535s\n",
      " 4084315  2094 infeasible   42         9.79999    9.70000  1.02%   3.7  540s\n",
      " 4109112  2170 infeasible   45         9.79999    9.70000  1.02%   3.7  545s\n",
      " 4138421  2163    9.70000   47    2    9.79999    9.70000  1.02%   3.7  550s\n",
      " 4174032  2142    9.70000   46    1    9.79999    9.70000  1.02%   3.7  555s\n",
      " 4196400  2106 infeasible   43         9.79999    9.70000  1.02%   3.7  560s\n",
      " 4223697  2050    9.70000   47    2    9.79999    9.70000  1.02%   3.7  565s\n",
      " 4254526  2183    9.70000   44    2    9.79999    9.70000  1.02%   3.7  570s\n",
      " 4283749  2103 infeasible   43         9.79999    9.70000  1.02%   3.7  575s\n",
      " 4317629  2123 infeasible   48         9.79999    9.70000  1.02%   3.7  580s\n",
      " 4343699  2086 infeasible   49         9.79999    9.70000  1.02%   3.7  585s\n",
      " 4370032  1974 infeasible   36         9.79999    9.70000  1.02%   3.7  590s\n",
      " 4395737  2000 infeasible   39         9.79999    9.70000  1.02%   3.7  595s\n",
      " 4427945  1954    9.70000   35    5    9.79999    9.70000  1.02%   3.7  600s\n",
      " 4457239  1909    9.70000   48    1    9.79999    9.70000  1.02%   3.7  605s\n",
      " 4474838  1907 infeasible   41         9.79999    9.70000  1.02%   3.7  610s\n",
      " 4497737  1826    9.70000   47    1    9.79999    9.70000  1.02%   3.7  615s\n",
      " 4533545  1796    9.70000   45    7    9.79999    9.70000  1.02%   3.7  620s\n",
      " 4566766  1804    9.70000   39    5    9.79999    9.70000  1.02%   3.7  625s\n",
      " 4600838  1739 infeasible   46         9.79999    9.70000  1.02%   3.7  630s\n",
      " 4636218  1699 infeasible   44         9.79999    9.70000  1.02%   3.7  635s\n",
      " 4676432  1636 infeasible   44         9.79999    9.70000  1.02%   3.7  640s\n",
      " 4706223  1677    9.70000   39    3    9.79999    9.70000  1.02%   3.7  645s\n",
      " 4743315  1633 infeasible   31         9.79999    9.70000  1.02%   3.7  650s\n",
      " 4783026  1930    9.70000   52    1    9.79999    9.70000  1.02%   3.7  655s\n",
      " 4822259  1976    9.70000   43    5    9.79999    9.70000  1.02%   3.7  660s\n",
      " 4859753  1974 infeasible   46         9.79999    9.70000  1.02%   3.7  665s\n",
      " 4897375  1900 infeasible   37         9.79999    9.70000  1.02%   3.7  670s\n",
      " 4932329  1845    9.70000   49    3    9.79999    9.70000  1.02%   3.7  675s\n",
      " 4970344  1799 infeasible   54         9.79999    9.70000  1.02%   3.7  680s\n",
      " 5003803  1779    9.70000   53    2    9.79999    9.70000  1.02%   3.7  685s\n",
      " 5041293  1726    9.70000   47    3    9.79999    9.70000  1.02%   3.7  690s\n",
      " 5078181  1709 infeasible   48         9.79999    9.70000  1.02%   3.7  695s\n",
      " 5113325  1648    9.70000   53    3    9.79999    9.70000  1.02%   3.7  700s\n",
      " 5153948  1576    9.70000   34    7    9.79999    9.70000  1.02%   3.7  705s\n",
      " 5192551  1506    9.70000   35    2    9.79999    9.70000  1.02%   3.7  710s\n",
      " 5232694  1612    9.70000   43    6    9.79999    9.70000  1.02%   3.7  715s\n",
      " 5270557  1654 infeasible   59         9.79999    9.70000  1.02%   3.7  720s\n",
      " 5315305  1674    9.70000   48    4    9.79999    9.70000  1.02%   3.7  725s\n",
      " 5361034  1635    9.70000   42    4    9.79999    9.70000  1.02%   3.7  730s\n",
      " 5404459  1564 infeasible   36         9.79999    9.70000  1.02%   3.7  735s\n",
      " 5445859  1545    9.70000   43    6    9.79999    9.70000  1.02%   3.7  740s\n",
      " 5483444  1543    9.70000   42    6    9.79999    9.70000  1.02%   3.7  745s\n",
      " 5524997  1416    9.70000   39    6    9.79999    9.70000  1.02%   3.7  750s\n",
      " 5565225  1338    9.70000   47    1    9.79999    9.70000  1.02%   3.7  755s\n",
      " 5609211  1336 infeasible   44         9.79999    9.70000  1.02%   3.7  760s\n",
      " 5647764  1198    9.70000   37    3    9.79999    9.70000  1.02%   3.7  765s\n",
      " 5685329  1199 infeasible   46         9.79999    9.70000  1.02%   3.7  770s\n",
      " 5724547  1187 infeasible   38         9.79999    9.70000  1.02%   3.7  775s\n",
      " 5763144  1094    9.70000   31    9    9.79999    9.70000  1.02%   3.7  780s\n",
      " 5804831  1089    9.70000   35    2    9.79999    9.70000  1.02%   3.7  785s\n",
      " 5847064  1081    9.70000   27    8    9.79999    9.70000  1.02%   3.7  790s\n",
      " 5889577  1046 infeasible   35         9.79999    9.70000  1.02%   3.7  795s\n",
      " 5931204   927    9.70000   26   11    9.79999    9.70000  1.02%   3.7  800s\n",
      " 5957759   898    9.70000   42    3    9.79999    9.70000  1.02%   3.7  805s\n",
      " 5988948   840 infeasible   41         9.79999    9.70000  1.02%   3.7  810s\n",
      " 6014522   781 infeasible   38         9.79999    9.70000  1.02%   3.7  815s\n",
      " 6038983   720    9.70000   27    9    9.79999    9.70000  1.02%   3.7  820s\n",
      " 6060907   674 infeasible   45         9.79999    9.70000  1.02%   3.7  825s\n",
      " 6086661   658    9.70000   32    8    9.79999    9.70000  1.02%   3.7  830s\n",
      " 6124035   604    9.70000   39    1    9.79999    9.70000  1.02%   3.7  835s\n",
      " 6165543   620 infeasible   42         9.79999    9.70000  1.02%   3.7  840s\n",
      " 6205342   548    9.70000   38    2    9.79999    9.70000  1.02%   3.7  845s\n",
      "\n",
      "Cutting planes:\n",
      "  Gomory: 3\n",
      "  Cover: 2\n",
      "  MIR: 2\n",
      "  Flow cover: 3\n",
      "  RLT: 1\n",
      "\n",
      "Explored 6243003 nodes (22877711 simplex iterations) in 849.68 seconds\n",
      "Thread count was 4 (of 4 available processors)\n",
      "\n",
      "Solution count 10: 9.79999 9.79999 9.8 ... 11\n",
      "\n",
      "Optimal solution found (tolerance 1.00e-04)\n",
      "Best objective 9.800000000000e+00, best bound 9.800000000000e+00, gap 0.0000%\n"
     ]
    }
   ],
   "source": [
    "Q2_makespan.optimize()"
   ]
  },
  {
   "cell_type": "code",
   "execution_count": 196,
   "metadata": {},
   "outputs": [
    {
     "name": "stdout",
     "output_type": "stream",
     "text": [
      "objective value = 9.800000000000008\n"
     ]
    }
   ],
   "source": [
    "print(\"objective value =\", Q2_makespan.objVal)"
   ]
  },
  {
   "cell_type": "markdown",
   "metadata": {},
   "source": [
    "## Results"
   ]
  },
  {
   "cell_type": "code",
   "execution_count": 197,
   "metadata": {},
   "outputs": [],
   "source": [
    "x_opt = {}\n",
    "for i in orders:\n",
    "    x_opt[i] = {}\n",
    "    for s in stages:\n",
    "        x_opt[i][s] = {}\n",
    "\n",
    "y_opt = {}\n",
    "for i in orders:\n",
    "    y_opt[i] = {}\n",
    "    for s in stages:\n",
    "        y_opt[i][s] = {}\n",
    "        for m in machines:\n",
    "            y_opt[i][s][m] = {}\n",
    "\n",
    "for var in Q2_makespan.getVars():\n",
    "    index = [i for i in var.varName[2:].split(',')]\n",
    "    if var.varName[0] == 'x':\n",
    "        x_opt[int(index[0])][int(index[1])] = var.x\n",
    "    elif var.varName[0] == 'y':\n",
    "        y_opt[int(index[0])][int(index[1])][int(index[2])] = var.x"
   ]
  },
  {
   "cell_type": "markdown",
   "metadata": {},
   "source": [
    "## Plot Gantt Charts"
   ]
  },
  {
   "cell_type": "code",
   "execution_count": 198,
   "metadata": {},
   "outputs": [
    {
     "data": {
      "application/vnd.plotly.v1+json": {
       "config": {
        "plotlyServerURL": "https://plot.ly"
       },
       "data": [
        {
         "alignmentgroup": "True",
         "base": [
          "2000-01-01T07:30:00",
          "2000-01-01T10:30:00"
         ],
         "hovertemplate": "Job_ID=1<br>START_TIME=%{base}<br>END_TIME=%{x}<br>Machine_ID=%{y}<extra></extra>",
         "legendgroup": "1",
         "marker": {
          "color": "#C0392B"
         },
         "name": "1",
         "offsetgroup": "1",
         "orientation": "h",
         "showlegend": true,
         "textposition": "auto",
         "type": "bar",
         "x": [
          10800000,
          5400000
         ],
         "xaxis": "x",
         "y": [
          "1",
          "2"
         ],
         "yaxis": "y"
        },
        {
         "alignmentgroup": "True",
         "base": [
          "2000-01-01T10:48:00",
          "2000-01-01T15:18:00"
         ],
         "hovertemplate": "Job_ID=2<br>START_TIME=%{base}<br>END_TIME=%{x}<br>Machine_ID=%{y}<extra></extra>",
         "legendgroup": "2",
         "marker": {
          "color": "#EC7063"
         },
         "name": "2",
         "offsetgroup": "2",
         "orientation": "h",
         "showlegend": true,
         "textposition": "auto",
         "type": "bar",
         "x": [
          10800000,
          7200000
         ],
         "xaxis": "x",
         "y": [
          "4",
          "3"
         ],
         "yaxis": "y"
        },
        {
         "alignmentgroup": "True",
         "base": [
          "2000-01-01T10:30:00",
          "2000-01-01T13:48:00"
         ],
         "hovertemplate": "Job_ID=3<br>START_TIME=%{base}<br>END_TIME=%{x}<br>Machine_ID=%{y}<extra></extra>",
         "legendgroup": "3",
         "marker": {
          "color": "#1F618D"
         },
         "name": "3",
         "offsetgroup": "3",
         "orientation": "h",
         "showlegend": true,
         "textposition": "auto",
         "type": "bar",
         "x": [
          10800000,
          12240000
         ],
         "xaxis": "x",
         "y": [
          "1",
          "4"
         ],
         "yaxis": "y"
        },
        {
         "alignmentgroup": "True",
         "base": [
          "2000-01-01T07:30:00",
          "2000-01-01T11:12:00"
         ],
         "hovertemplate": "Job_ID=4<br>START_TIME=%{base}<br>END_TIME=%{x}<br>Machine_ID=%{y}<extra></extra>",
         "legendgroup": "4",
         "marker": {
          "color": "#34495E"
         },
         "name": "4",
         "offsetgroup": "4",
         "orientation": "h",
         "showlegend": true,
         "textposition": "auto",
         "type": "bar",
         "x": [
          10800000,
          2160000
         ],
         "xaxis": "x",
         "y": [
          "2",
          "3"
         ],
         "yaxis": "y"
        },
        {
         "alignmentgroup": "True",
         "base": [
          "2000-01-01T07:30:00",
          "2000-01-01T08:42:00"
         ],
         "hovertemplate": "Job_ID=5<br>START_TIME=%{base}<br>END_TIME=%{x}<br>Machine_ID=%{y}<extra></extra>",
         "legendgroup": "5",
         "marker": {
          "color": "#3498DB"
         },
         "name": "5",
         "offsetgroup": "5",
         "orientation": "h",
         "showlegend": true,
         "textposition": "auto",
         "type": "bar",
         "x": [
          4320000,
          9000000
         ],
         "xaxis": "x",
         "y": [
          "3",
          "3"
         ],
         "yaxis": "y"
        },
        {
         "alignmentgroup": "True",
         "base": [
          "2000-01-01T07:30:00",
          "2000-01-01T11:12:00"
         ],
         "hovertemplate": "Job_ID=6<br>START_TIME=%{base}<br>END_TIME=%{x}<br>Machine_ID=%{y}<extra></extra>",
         "legendgroup": "6",
         "marker": {
          "color": "#1E8449"
         },
         "name": "6",
         "offsetgroup": "6",
         "orientation": "h",
         "showlegend": true,
         "textposition": "auto",
         "type": "bar",
         "x": [
          11880000,
          0
         ],
         "xaxis": "x",
         "y": [
          "4",
          "3"
         ],
         "yaxis": "y"
        },
        {
         "alignmentgroup": "True",
         "base": [
          "2000-01-01T13:36:00",
          "2000-01-01T15:48:00"
         ],
         "hovertemplate": "Job_ID=7<br>START_TIME=%{base}<br>END_TIME=%{x}<br>Machine_ID=%{y}<extra></extra>",
         "legendgroup": "7",
         "marker": {
          "color": "#28B463"
         },
         "name": "7",
         "offsetgroup": "7",
         "orientation": "h",
         "showlegend": true,
         "textposition": "auto",
         "type": "bar",
         "x": [
          6120000,
          5400000
         ],
         "xaxis": "x",
         "y": [
          "3",
          "1"
         ],
         "yaxis": "y"
        },
        {
         "alignmentgroup": "True",
         "base": [
          "2000-01-01T12:00:00",
          "2000-01-01T17:18:00"
         ],
         "hovertemplate": "Job_ID=8<br>START_TIME=%{base}<br>END_TIME=%{x}<br>Machine_ID=%{y}<extra></extra>",
         "legendgroup": "8",
         "marker": {
          "color": "#F1C40F"
         },
         "name": "8",
         "offsetgroup": "8",
         "orientation": "h",
         "showlegend": true,
         "textposition": "auto",
         "type": "bar",
         "x": [
          4680000,
          0
         ],
         "xaxis": "x",
         "y": [
          "2",
          "3"
         ],
         "yaxis": "y"
        },
        {
         "alignmentgroup": "True",
         "base": [
          "2000-01-01T11:48:00",
          "2000-01-01T13:36:00"
         ],
         "hovertemplate": "Job_ID=9<br>START_TIME=%{base}<br>END_TIME=%{x}<br>Machine_ID=%{y}<extra></extra>",
         "legendgroup": "9",
         "marker": {
          "color": "#F39C12"
         },
         "name": "9",
         "offsetgroup": "9",
         "orientation": "h",
         "showlegend": true,
         "textposition": "auto",
         "type": "bar",
         "x": [
          6480000,
          7920000
         ],
         "xaxis": "x",
         "y": [
          "3",
          "1"
         ],
         "yaxis": "y"
        },
        {
         "alignmentgroup": "True",
         "base": [
          "2000-01-01T13:18:00",
          "2000-01-01T15:54:00"
         ],
         "hovertemplate": "Job_ID=10<br>START_TIME=%{base}<br>END_TIME=%{x}<br>Machine_ID=%{y}<extra></extra>",
         "legendgroup": "10",
         "marker": {
          "color": "#A6ACAF"
         },
         "name": "10",
         "offsetgroup": "10",
         "orientation": "h",
         "showlegend": true,
         "textposition": "auto",
         "type": "bar",
         "x": [
          9360000,
          4680000
         ],
         "xaxis": "x",
         "y": [
          "2",
          "2"
         ],
         "yaxis": "y"
        }
       ],
       "layout": {
        "barmode": "overlay",
        "legend": {
         "title": {
          "text": "Lot ID"
         },
         "tracegroupgap": 0
        },
        "template": {
         "data": {
          "bar": [
           {
            "error_x": {
             "color": "#2a3f5f"
            },
            "error_y": {
             "color": "#2a3f5f"
            },
            "marker": {
             "line": {
              "color": "#E5ECF6",
              "width": 0.5
             },
             "pattern": {
              "fillmode": "overlay",
              "size": 10,
              "solidity": 0.2
             }
            },
            "type": "bar"
           }
          ],
          "barpolar": [
           {
            "marker": {
             "line": {
              "color": "#E5ECF6",
              "width": 0.5
             },
             "pattern": {
              "fillmode": "overlay",
              "size": 10,
              "solidity": 0.2
             }
            },
            "type": "barpolar"
           }
          ],
          "carpet": [
           {
            "aaxis": {
             "endlinecolor": "#2a3f5f",
             "gridcolor": "white",
             "linecolor": "white",
             "minorgridcolor": "white",
             "startlinecolor": "#2a3f5f"
            },
            "baxis": {
             "endlinecolor": "#2a3f5f",
             "gridcolor": "white",
             "linecolor": "white",
             "minorgridcolor": "white",
             "startlinecolor": "#2a3f5f"
            },
            "type": "carpet"
           }
          ],
          "choropleth": [
           {
            "colorbar": {
             "outlinewidth": 0,
             "ticks": ""
            },
            "type": "choropleth"
           }
          ],
          "contour": [
           {
            "colorbar": {
             "outlinewidth": 0,
             "ticks": ""
            },
            "colorscale": [
             [
              0,
              "#0d0887"
             ],
             [
              0.1111111111111111,
              "#46039f"
             ],
             [
              0.2222222222222222,
              "#7201a8"
             ],
             [
              0.3333333333333333,
              "#9c179e"
             ],
             [
              0.4444444444444444,
              "#bd3786"
             ],
             [
              0.5555555555555556,
              "#d8576b"
             ],
             [
              0.6666666666666666,
              "#ed7953"
             ],
             [
              0.7777777777777778,
              "#fb9f3a"
             ],
             [
              0.8888888888888888,
              "#fdca26"
             ],
             [
              1,
              "#f0f921"
             ]
            ],
            "type": "contour"
           }
          ],
          "contourcarpet": [
           {
            "colorbar": {
             "outlinewidth": 0,
             "ticks": ""
            },
            "type": "contourcarpet"
           }
          ],
          "heatmap": [
           {
            "colorbar": {
             "outlinewidth": 0,
             "ticks": ""
            },
            "colorscale": [
             [
              0,
              "#0d0887"
             ],
             [
              0.1111111111111111,
              "#46039f"
             ],
             [
              0.2222222222222222,
              "#7201a8"
             ],
             [
              0.3333333333333333,
              "#9c179e"
             ],
             [
              0.4444444444444444,
              "#bd3786"
             ],
             [
              0.5555555555555556,
              "#d8576b"
             ],
             [
              0.6666666666666666,
              "#ed7953"
             ],
             [
              0.7777777777777778,
              "#fb9f3a"
             ],
             [
              0.8888888888888888,
              "#fdca26"
             ],
             [
              1,
              "#f0f921"
             ]
            ],
            "type": "heatmap"
           }
          ],
          "heatmapgl": [
           {
            "colorbar": {
             "outlinewidth": 0,
             "ticks": ""
            },
            "colorscale": [
             [
              0,
              "#0d0887"
             ],
             [
              0.1111111111111111,
              "#46039f"
             ],
             [
              0.2222222222222222,
              "#7201a8"
             ],
             [
              0.3333333333333333,
              "#9c179e"
             ],
             [
              0.4444444444444444,
              "#bd3786"
             ],
             [
              0.5555555555555556,
              "#d8576b"
             ],
             [
              0.6666666666666666,
              "#ed7953"
             ],
             [
              0.7777777777777778,
              "#fb9f3a"
             ],
             [
              0.8888888888888888,
              "#fdca26"
             ],
             [
              1,
              "#f0f921"
             ]
            ],
            "type": "heatmapgl"
           }
          ],
          "histogram": [
           {
            "marker": {
             "pattern": {
              "fillmode": "overlay",
              "size": 10,
              "solidity": 0.2
             }
            },
            "type": "histogram"
           }
          ],
          "histogram2d": [
           {
            "colorbar": {
             "outlinewidth": 0,
             "ticks": ""
            },
            "colorscale": [
             [
              0,
              "#0d0887"
             ],
             [
              0.1111111111111111,
              "#46039f"
             ],
             [
              0.2222222222222222,
              "#7201a8"
             ],
             [
              0.3333333333333333,
              "#9c179e"
             ],
             [
              0.4444444444444444,
              "#bd3786"
             ],
             [
              0.5555555555555556,
              "#d8576b"
             ],
             [
              0.6666666666666666,
              "#ed7953"
             ],
             [
              0.7777777777777778,
              "#fb9f3a"
             ],
             [
              0.8888888888888888,
              "#fdca26"
             ],
             [
              1,
              "#f0f921"
             ]
            ],
            "type": "histogram2d"
           }
          ],
          "histogram2dcontour": [
           {
            "colorbar": {
             "outlinewidth": 0,
             "ticks": ""
            },
            "colorscale": [
             [
              0,
              "#0d0887"
             ],
             [
              0.1111111111111111,
              "#46039f"
             ],
             [
              0.2222222222222222,
              "#7201a8"
             ],
             [
              0.3333333333333333,
              "#9c179e"
             ],
             [
              0.4444444444444444,
              "#bd3786"
             ],
             [
              0.5555555555555556,
              "#d8576b"
             ],
             [
              0.6666666666666666,
              "#ed7953"
             ],
             [
              0.7777777777777778,
              "#fb9f3a"
             ],
             [
              0.8888888888888888,
              "#fdca26"
             ],
             [
              1,
              "#f0f921"
             ]
            ],
            "type": "histogram2dcontour"
           }
          ],
          "mesh3d": [
           {
            "colorbar": {
             "outlinewidth": 0,
             "ticks": ""
            },
            "type": "mesh3d"
           }
          ],
          "parcoords": [
           {
            "line": {
             "colorbar": {
              "outlinewidth": 0,
              "ticks": ""
             }
            },
            "type": "parcoords"
           }
          ],
          "pie": [
           {
            "automargin": true,
            "type": "pie"
           }
          ],
          "scatter": [
           {
            "marker": {
             "colorbar": {
              "outlinewidth": 0,
              "ticks": ""
             }
            },
            "type": "scatter"
           }
          ],
          "scatter3d": [
           {
            "line": {
             "colorbar": {
              "outlinewidth": 0,
              "ticks": ""
             }
            },
            "marker": {
             "colorbar": {
              "outlinewidth": 0,
              "ticks": ""
             }
            },
            "type": "scatter3d"
           }
          ],
          "scattercarpet": [
           {
            "marker": {
             "colorbar": {
              "outlinewidth": 0,
              "ticks": ""
             }
            },
            "type": "scattercarpet"
           }
          ],
          "scattergeo": [
           {
            "marker": {
             "colorbar": {
              "outlinewidth": 0,
              "ticks": ""
             }
            },
            "type": "scattergeo"
           }
          ],
          "scattergl": [
           {
            "marker": {
             "colorbar": {
              "outlinewidth": 0,
              "ticks": ""
             }
            },
            "type": "scattergl"
           }
          ],
          "scattermapbox": [
           {
            "marker": {
             "colorbar": {
              "outlinewidth": 0,
              "ticks": ""
             }
            },
            "type": "scattermapbox"
           }
          ],
          "scatterpolar": [
           {
            "marker": {
             "colorbar": {
              "outlinewidth": 0,
              "ticks": ""
             }
            },
            "type": "scatterpolar"
           }
          ],
          "scatterpolargl": [
           {
            "marker": {
             "colorbar": {
              "outlinewidth": 0,
              "ticks": ""
             }
            },
            "type": "scatterpolargl"
           }
          ],
          "scatterternary": [
           {
            "marker": {
             "colorbar": {
              "outlinewidth": 0,
              "ticks": ""
             }
            },
            "type": "scatterternary"
           }
          ],
          "surface": [
           {
            "colorbar": {
             "outlinewidth": 0,
             "ticks": ""
            },
            "colorscale": [
             [
              0,
              "#0d0887"
             ],
             [
              0.1111111111111111,
              "#46039f"
             ],
             [
              0.2222222222222222,
              "#7201a8"
             ],
             [
              0.3333333333333333,
              "#9c179e"
             ],
             [
              0.4444444444444444,
              "#bd3786"
             ],
             [
              0.5555555555555556,
              "#d8576b"
             ],
             [
              0.6666666666666666,
              "#ed7953"
             ],
             [
              0.7777777777777778,
              "#fb9f3a"
             ],
             [
              0.8888888888888888,
              "#fdca26"
             ],
             [
              1,
              "#f0f921"
             ]
            ],
            "type": "surface"
           }
          ],
          "table": [
           {
            "cells": {
             "fill": {
              "color": "#EBF0F8"
             },
             "line": {
              "color": "white"
             }
            },
            "header": {
             "fill": {
              "color": "#C8D4E3"
             },
             "line": {
              "color": "white"
             }
            },
            "type": "table"
           }
          ]
         },
         "layout": {
          "annotationdefaults": {
           "arrowcolor": "#2a3f5f",
           "arrowhead": 0,
           "arrowwidth": 1
          },
          "autotypenumbers": "strict",
          "coloraxis": {
           "colorbar": {
            "outlinewidth": 0,
            "ticks": ""
           }
          },
          "colorscale": {
           "diverging": [
            [
             0,
             "#8e0152"
            ],
            [
             0.1,
             "#c51b7d"
            ],
            [
             0.2,
             "#de77ae"
            ],
            [
             0.3,
             "#f1b6da"
            ],
            [
             0.4,
             "#fde0ef"
            ],
            [
             0.5,
             "#f7f7f7"
            ],
            [
             0.6,
             "#e6f5d0"
            ],
            [
             0.7,
             "#b8e186"
            ],
            [
             0.8,
             "#7fbc41"
            ],
            [
             0.9,
             "#4d9221"
            ],
            [
             1,
             "#276419"
            ]
           ],
           "sequential": [
            [
             0,
             "#0d0887"
            ],
            [
             0.1111111111111111,
             "#46039f"
            ],
            [
             0.2222222222222222,
             "#7201a8"
            ],
            [
             0.3333333333333333,
             "#9c179e"
            ],
            [
             0.4444444444444444,
             "#bd3786"
            ],
            [
             0.5555555555555556,
             "#d8576b"
            ],
            [
             0.6666666666666666,
             "#ed7953"
            ],
            [
             0.7777777777777778,
             "#fb9f3a"
            ],
            [
             0.8888888888888888,
             "#fdca26"
            ],
            [
             1,
             "#f0f921"
            ]
           ],
           "sequentialminus": [
            [
             0,
             "#0d0887"
            ],
            [
             0.1111111111111111,
             "#46039f"
            ],
            [
             0.2222222222222222,
             "#7201a8"
            ],
            [
             0.3333333333333333,
             "#9c179e"
            ],
            [
             0.4444444444444444,
             "#bd3786"
            ],
            [
             0.5555555555555556,
             "#d8576b"
            ],
            [
             0.6666666666666666,
             "#ed7953"
            ],
            [
             0.7777777777777778,
             "#fb9f3a"
            ],
            [
             0.8888888888888888,
             "#fdca26"
            ],
            [
             1,
             "#f0f921"
            ]
           ]
          },
          "colorway": [
           "#636efa",
           "#EF553B",
           "#00cc96",
           "#ab63fa",
           "#FFA15A",
           "#19d3f3",
           "#FF6692",
           "#B6E880",
           "#FF97FF",
           "#FECB52"
          ],
          "font": {
           "color": "#2a3f5f"
          },
          "geo": {
           "bgcolor": "white",
           "lakecolor": "white",
           "landcolor": "#E5ECF6",
           "showlakes": true,
           "showland": true,
           "subunitcolor": "white"
          },
          "hoverlabel": {
           "align": "left"
          },
          "hovermode": "closest",
          "mapbox": {
           "style": "light"
          },
          "paper_bgcolor": "white",
          "plot_bgcolor": "#E5ECF6",
          "polar": {
           "angularaxis": {
            "gridcolor": "white",
            "linecolor": "white",
            "ticks": ""
           },
           "bgcolor": "#E5ECF6",
           "radialaxis": {
            "gridcolor": "white",
            "linecolor": "white",
            "ticks": ""
           }
          },
          "scene": {
           "xaxis": {
            "backgroundcolor": "#E5ECF6",
            "gridcolor": "white",
            "gridwidth": 2,
            "linecolor": "white",
            "showbackground": true,
            "ticks": "",
            "zerolinecolor": "white"
           },
           "yaxis": {
            "backgroundcolor": "#E5ECF6",
            "gridcolor": "white",
            "gridwidth": 2,
            "linecolor": "white",
            "showbackground": true,
            "ticks": "",
            "zerolinecolor": "white"
           },
           "zaxis": {
            "backgroundcolor": "#E5ECF6",
            "gridcolor": "white",
            "gridwidth": 2,
            "linecolor": "white",
            "showbackground": true,
            "ticks": "",
            "zerolinecolor": "white"
           }
          },
          "shapedefaults": {
           "line": {
            "color": "#2a3f5f"
           }
          },
          "ternary": {
           "aaxis": {
            "gridcolor": "white",
            "linecolor": "white",
            "ticks": ""
           },
           "baxis": {
            "gridcolor": "white",
            "linecolor": "white",
            "ticks": ""
           },
           "bgcolor": "#E5ECF6",
           "caxis": {
            "gridcolor": "white",
            "linecolor": "white",
            "ticks": ""
           }
          },
          "title": {
           "x": 0.05
          },
          "xaxis": {
           "automargin": true,
           "gridcolor": "white",
           "linecolor": "white",
           "ticks": "",
           "title": {
            "standoff": 15
           },
           "zerolinecolor": "white",
           "zerolinewidth": 2
          },
          "yaxis": {
           "automargin": true,
           "gridcolor": "white",
           "linecolor": "white",
           "ticks": "",
           "title": {
            "standoff": 15
           },
           "zerolinecolor": "white",
           "zerolinewidth": 2
          }
         }
        },
        "title": {
         "text": "Instance 3 Problem 2 Gantt Chart"
        },
        "xaxis": {
         "anchor": "y",
         "domain": [
          0,
          1
         ],
         "tickformat": "%H:%M",
         "type": "date"
        },
        "yaxis": {
         "anchor": "x",
         "categoryarray": [
          "4",
          "3",
          "2",
          "1"
         ],
         "categoryorder": "array",
         "domain": [
          0,
          1
         ],
         "title": {
          "text": "Machine_ID"
         }
        }
       }
      },
      "text/html": [
       "<div>                            <div id=\"3db04132-1933-4565-8369-b14d1364f97a\" class=\"plotly-graph-div\" style=\"height:525px; width:100%;\"></div>            <script type=\"text/javascript\">                require([\"plotly\"], function(Plotly) {                    window.PLOTLYENV=window.PLOTLYENV || {};                                    if (document.getElementById(\"3db04132-1933-4565-8369-b14d1364f97a\")) {                    Plotly.newPlot(                        \"3db04132-1933-4565-8369-b14d1364f97a\",                        [{\"alignmentgroup\":\"True\",\"base\":[\"2000-01-01T07:30:00\",\"2000-01-01T10:30:00\"],\"hovertemplate\":\"Job_ID=1<br>START_TIME=%{base}<br>END_TIME=%{x}<br>Machine_ID=%{y}<extra></extra>\",\"legendgroup\":\"1\",\"marker\":{\"color\":\"#C0392B\"},\"name\":\"1\",\"offsetgroup\":\"1\",\"orientation\":\"h\",\"showlegend\":true,\"textposition\":\"auto\",\"x\":[10800000.0,5400000.0],\"xaxis\":\"x\",\"y\":[\"1\",\"2\"],\"yaxis\":\"y\",\"type\":\"bar\"},{\"alignmentgroup\":\"True\",\"base\":[\"2000-01-01T10:48:00\",\"2000-01-01T15:18:00\"],\"hovertemplate\":\"Job_ID=2<br>START_TIME=%{base}<br>END_TIME=%{x}<br>Machine_ID=%{y}<extra></extra>\",\"legendgroup\":\"2\",\"marker\":{\"color\":\"#EC7063\"},\"name\":\"2\",\"offsetgroup\":\"2\",\"orientation\":\"h\",\"showlegend\":true,\"textposition\":\"auto\",\"x\":[10800000.0,7200000.0],\"xaxis\":\"x\",\"y\":[\"4\",\"3\"],\"yaxis\":\"y\",\"type\":\"bar\"},{\"alignmentgroup\":\"True\",\"base\":[\"2000-01-01T10:30:00\",\"2000-01-01T13:48:00\"],\"hovertemplate\":\"Job_ID=3<br>START_TIME=%{base}<br>END_TIME=%{x}<br>Machine_ID=%{y}<extra></extra>\",\"legendgroup\":\"3\",\"marker\":{\"color\":\"#1F618D\"},\"name\":\"3\",\"offsetgroup\":\"3\",\"orientation\":\"h\",\"showlegend\":true,\"textposition\":\"auto\",\"x\":[10800000.0,12240000.0],\"xaxis\":\"x\",\"y\":[\"1\",\"4\"],\"yaxis\":\"y\",\"type\":\"bar\"},{\"alignmentgroup\":\"True\",\"base\":[\"2000-01-01T07:30:00\",\"2000-01-01T11:12:00\"],\"hovertemplate\":\"Job_ID=4<br>START_TIME=%{base}<br>END_TIME=%{x}<br>Machine_ID=%{y}<extra></extra>\",\"legendgroup\":\"4\",\"marker\":{\"color\":\"#34495E\"},\"name\":\"4\",\"offsetgroup\":\"4\",\"orientation\":\"h\",\"showlegend\":true,\"textposition\":\"auto\",\"x\":[10800000.0,2160000.0],\"xaxis\":\"x\",\"y\":[\"2\",\"3\"],\"yaxis\":\"y\",\"type\":\"bar\"},{\"alignmentgroup\":\"True\",\"base\":[\"2000-01-01T07:30:00\",\"2000-01-01T08:42:00\"],\"hovertemplate\":\"Job_ID=5<br>START_TIME=%{base}<br>END_TIME=%{x}<br>Machine_ID=%{y}<extra></extra>\",\"legendgroup\":\"5\",\"marker\":{\"color\":\"#3498DB\"},\"name\":\"5\",\"offsetgroup\":\"5\",\"orientation\":\"h\",\"showlegend\":true,\"textposition\":\"auto\",\"x\":[4320000.0,9000000.0],\"xaxis\":\"x\",\"y\":[\"3\",\"3\"],\"yaxis\":\"y\",\"type\":\"bar\"},{\"alignmentgroup\":\"True\",\"base\":[\"2000-01-01T07:30:00\",\"2000-01-01T11:12:00\"],\"hovertemplate\":\"Job_ID=6<br>START_TIME=%{base}<br>END_TIME=%{x}<br>Machine_ID=%{y}<extra></extra>\",\"legendgroup\":\"6\",\"marker\":{\"color\":\"#1E8449\"},\"name\":\"6\",\"offsetgroup\":\"6\",\"orientation\":\"h\",\"showlegend\":true,\"textposition\":\"auto\",\"x\":[11880000.0,0.0],\"xaxis\":\"x\",\"y\":[\"4\",\"3\"],\"yaxis\":\"y\",\"type\":\"bar\"},{\"alignmentgroup\":\"True\",\"base\":[\"2000-01-01T13:36:00\",\"2000-01-01T15:48:00\"],\"hovertemplate\":\"Job_ID=7<br>START_TIME=%{base}<br>END_TIME=%{x}<br>Machine_ID=%{y}<extra></extra>\",\"legendgroup\":\"7\",\"marker\":{\"color\":\"#28B463\"},\"name\":\"7\",\"offsetgroup\":\"7\",\"orientation\":\"h\",\"showlegend\":true,\"textposition\":\"auto\",\"x\":[6120000.0,5400000.0],\"xaxis\":\"x\",\"y\":[\"3\",\"1\"],\"yaxis\":\"y\",\"type\":\"bar\"},{\"alignmentgroup\":\"True\",\"base\":[\"2000-01-01T12:00:00\",\"2000-01-01T17:18:00\"],\"hovertemplate\":\"Job_ID=8<br>START_TIME=%{base}<br>END_TIME=%{x}<br>Machine_ID=%{y}<extra></extra>\",\"legendgroup\":\"8\",\"marker\":{\"color\":\"#F1C40F\"},\"name\":\"8\",\"offsetgroup\":\"8\",\"orientation\":\"h\",\"showlegend\":true,\"textposition\":\"auto\",\"x\":[4680000.0,0.0],\"xaxis\":\"x\",\"y\":[\"2\",\"3\"],\"yaxis\":\"y\",\"type\":\"bar\"},{\"alignmentgroup\":\"True\",\"base\":[\"2000-01-01T11:48:00\",\"2000-01-01T13:36:00\"],\"hovertemplate\":\"Job_ID=9<br>START_TIME=%{base}<br>END_TIME=%{x}<br>Machine_ID=%{y}<extra></extra>\",\"legendgroup\":\"9\",\"marker\":{\"color\":\"#F39C12\"},\"name\":\"9\",\"offsetgroup\":\"9\",\"orientation\":\"h\",\"showlegend\":true,\"textposition\":\"auto\",\"x\":[6480000.0,7920000.0],\"xaxis\":\"x\",\"y\":[\"3\",\"1\"],\"yaxis\":\"y\",\"type\":\"bar\"},{\"alignmentgroup\":\"True\",\"base\":[\"2000-01-01T13:18:00\",\"2000-01-01T15:54:00\"],\"hovertemplate\":\"Job_ID=10<br>START_TIME=%{base}<br>END_TIME=%{x}<br>Machine_ID=%{y}<extra></extra>\",\"legendgroup\":\"10\",\"marker\":{\"color\":\"#A6ACAF\"},\"name\":\"10\",\"offsetgroup\":\"10\",\"orientation\":\"h\",\"showlegend\":true,\"textposition\":\"auto\",\"x\":[9360000.0,4680000.0],\"xaxis\":\"x\",\"y\":[\"2\",\"2\"],\"yaxis\":\"y\",\"type\":\"bar\"}],                        {\"template\":{\"data\":{\"bar\":[{\"error_x\":{\"color\":\"#2a3f5f\"},\"error_y\":{\"color\":\"#2a3f5f\"},\"marker\":{\"line\":{\"color\":\"#E5ECF6\",\"width\":0.5},\"pattern\":{\"fillmode\":\"overlay\",\"size\":10,\"solidity\":0.2}},\"type\":\"bar\"}],\"barpolar\":[{\"marker\":{\"line\":{\"color\":\"#E5ECF6\",\"width\":0.5},\"pattern\":{\"fillmode\":\"overlay\",\"size\":10,\"solidity\":0.2}},\"type\":\"barpolar\"}],\"carpet\":[{\"aaxis\":{\"endlinecolor\":\"#2a3f5f\",\"gridcolor\":\"white\",\"linecolor\":\"white\",\"minorgridcolor\":\"white\",\"startlinecolor\":\"#2a3f5f\"},\"baxis\":{\"endlinecolor\":\"#2a3f5f\",\"gridcolor\":\"white\",\"linecolor\":\"white\",\"minorgridcolor\":\"white\",\"startlinecolor\":\"#2a3f5f\"},\"type\":\"carpet\"}],\"choropleth\":[{\"colorbar\":{\"outlinewidth\":0,\"ticks\":\"\"},\"type\":\"choropleth\"}],\"contour\":[{\"colorbar\":{\"outlinewidth\":0,\"ticks\":\"\"},\"colorscale\":[[0.0,\"#0d0887\"],[0.1111111111111111,\"#46039f\"],[0.2222222222222222,\"#7201a8\"],[0.3333333333333333,\"#9c179e\"],[0.4444444444444444,\"#bd3786\"],[0.5555555555555556,\"#d8576b\"],[0.6666666666666666,\"#ed7953\"],[0.7777777777777778,\"#fb9f3a\"],[0.8888888888888888,\"#fdca26\"],[1.0,\"#f0f921\"]],\"type\":\"contour\"}],\"contourcarpet\":[{\"colorbar\":{\"outlinewidth\":0,\"ticks\":\"\"},\"type\":\"contourcarpet\"}],\"heatmap\":[{\"colorbar\":{\"outlinewidth\":0,\"ticks\":\"\"},\"colorscale\":[[0.0,\"#0d0887\"],[0.1111111111111111,\"#46039f\"],[0.2222222222222222,\"#7201a8\"],[0.3333333333333333,\"#9c179e\"],[0.4444444444444444,\"#bd3786\"],[0.5555555555555556,\"#d8576b\"],[0.6666666666666666,\"#ed7953\"],[0.7777777777777778,\"#fb9f3a\"],[0.8888888888888888,\"#fdca26\"],[1.0,\"#f0f921\"]],\"type\":\"heatmap\"}],\"heatmapgl\":[{\"colorbar\":{\"outlinewidth\":0,\"ticks\":\"\"},\"colorscale\":[[0.0,\"#0d0887\"],[0.1111111111111111,\"#46039f\"],[0.2222222222222222,\"#7201a8\"],[0.3333333333333333,\"#9c179e\"],[0.4444444444444444,\"#bd3786\"],[0.5555555555555556,\"#d8576b\"],[0.6666666666666666,\"#ed7953\"],[0.7777777777777778,\"#fb9f3a\"],[0.8888888888888888,\"#fdca26\"],[1.0,\"#f0f921\"]],\"type\":\"heatmapgl\"}],\"histogram\":[{\"marker\":{\"pattern\":{\"fillmode\":\"overlay\",\"size\":10,\"solidity\":0.2}},\"type\":\"histogram\"}],\"histogram2d\":[{\"colorbar\":{\"outlinewidth\":0,\"ticks\":\"\"},\"colorscale\":[[0.0,\"#0d0887\"],[0.1111111111111111,\"#46039f\"],[0.2222222222222222,\"#7201a8\"],[0.3333333333333333,\"#9c179e\"],[0.4444444444444444,\"#bd3786\"],[0.5555555555555556,\"#d8576b\"],[0.6666666666666666,\"#ed7953\"],[0.7777777777777778,\"#fb9f3a\"],[0.8888888888888888,\"#fdca26\"],[1.0,\"#f0f921\"]],\"type\":\"histogram2d\"}],\"histogram2dcontour\":[{\"colorbar\":{\"outlinewidth\":0,\"ticks\":\"\"},\"colorscale\":[[0.0,\"#0d0887\"],[0.1111111111111111,\"#46039f\"],[0.2222222222222222,\"#7201a8\"],[0.3333333333333333,\"#9c179e\"],[0.4444444444444444,\"#bd3786\"],[0.5555555555555556,\"#d8576b\"],[0.6666666666666666,\"#ed7953\"],[0.7777777777777778,\"#fb9f3a\"],[0.8888888888888888,\"#fdca26\"],[1.0,\"#f0f921\"]],\"type\":\"histogram2dcontour\"}],\"mesh3d\":[{\"colorbar\":{\"outlinewidth\":0,\"ticks\":\"\"},\"type\":\"mesh3d\"}],\"parcoords\":[{\"line\":{\"colorbar\":{\"outlinewidth\":0,\"ticks\":\"\"}},\"type\":\"parcoords\"}],\"pie\":[{\"automargin\":true,\"type\":\"pie\"}],\"scatter\":[{\"marker\":{\"colorbar\":{\"outlinewidth\":0,\"ticks\":\"\"}},\"type\":\"scatter\"}],\"scatter3d\":[{\"line\":{\"colorbar\":{\"outlinewidth\":0,\"ticks\":\"\"}},\"marker\":{\"colorbar\":{\"outlinewidth\":0,\"ticks\":\"\"}},\"type\":\"scatter3d\"}],\"scattercarpet\":[{\"marker\":{\"colorbar\":{\"outlinewidth\":0,\"ticks\":\"\"}},\"type\":\"scattercarpet\"}],\"scattergeo\":[{\"marker\":{\"colorbar\":{\"outlinewidth\":0,\"ticks\":\"\"}},\"type\":\"scattergeo\"}],\"scattergl\":[{\"marker\":{\"colorbar\":{\"outlinewidth\":0,\"ticks\":\"\"}},\"type\":\"scattergl\"}],\"scattermapbox\":[{\"marker\":{\"colorbar\":{\"outlinewidth\":0,\"ticks\":\"\"}},\"type\":\"scattermapbox\"}],\"scatterpolar\":[{\"marker\":{\"colorbar\":{\"outlinewidth\":0,\"ticks\":\"\"}},\"type\":\"scatterpolar\"}],\"scatterpolargl\":[{\"marker\":{\"colorbar\":{\"outlinewidth\":0,\"ticks\":\"\"}},\"type\":\"scatterpolargl\"}],\"scatterternary\":[{\"marker\":{\"colorbar\":{\"outlinewidth\":0,\"ticks\":\"\"}},\"type\":\"scatterternary\"}],\"surface\":[{\"colorbar\":{\"outlinewidth\":0,\"ticks\":\"\"},\"colorscale\":[[0.0,\"#0d0887\"],[0.1111111111111111,\"#46039f\"],[0.2222222222222222,\"#7201a8\"],[0.3333333333333333,\"#9c179e\"],[0.4444444444444444,\"#bd3786\"],[0.5555555555555556,\"#d8576b\"],[0.6666666666666666,\"#ed7953\"],[0.7777777777777778,\"#fb9f3a\"],[0.8888888888888888,\"#fdca26\"],[1.0,\"#f0f921\"]],\"type\":\"surface\"}],\"table\":[{\"cells\":{\"fill\":{\"color\":\"#EBF0F8\"},\"line\":{\"color\":\"white\"}},\"header\":{\"fill\":{\"color\":\"#C8D4E3\"},\"line\":{\"color\":\"white\"}},\"type\":\"table\"}]},\"layout\":{\"annotationdefaults\":{\"arrowcolor\":\"#2a3f5f\",\"arrowhead\":0,\"arrowwidth\":1},\"autotypenumbers\":\"strict\",\"coloraxis\":{\"colorbar\":{\"outlinewidth\":0,\"ticks\":\"\"}},\"colorscale\":{\"diverging\":[[0,\"#8e0152\"],[0.1,\"#c51b7d\"],[0.2,\"#de77ae\"],[0.3,\"#f1b6da\"],[0.4,\"#fde0ef\"],[0.5,\"#f7f7f7\"],[0.6,\"#e6f5d0\"],[0.7,\"#b8e186\"],[0.8,\"#7fbc41\"],[0.9,\"#4d9221\"],[1,\"#276419\"]],\"sequential\":[[0.0,\"#0d0887\"],[0.1111111111111111,\"#46039f\"],[0.2222222222222222,\"#7201a8\"],[0.3333333333333333,\"#9c179e\"],[0.4444444444444444,\"#bd3786\"],[0.5555555555555556,\"#d8576b\"],[0.6666666666666666,\"#ed7953\"],[0.7777777777777778,\"#fb9f3a\"],[0.8888888888888888,\"#fdca26\"],[1.0,\"#f0f921\"]],\"sequentialminus\":[[0.0,\"#0d0887\"],[0.1111111111111111,\"#46039f\"],[0.2222222222222222,\"#7201a8\"],[0.3333333333333333,\"#9c179e\"],[0.4444444444444444,\"#bd3786\"],[0.5555555555555556,\"#d8576b\"],[0.6666666666666666,\"#ed7953\"],[0.7777777777777778,\"#fb9f3a\"],[0.8888888888888888,\"#fdca26\"],[1.0,\"#f0f921\"]]},\"colorway\":[\"#636efa\",\"#EF553B\",\"#00cc96\",\"#ab63fa\",\"#FFA15A\",\"#19d3f3\",\"#FF6692\",\"#B6E880\",\"#FF97FF\",\"#FECB52\"],\"font\":{\"color\":\"#2a3f5f\"},\"geo\":{\"bgcolor\":\"white\",\"lakecolor\":\"white\",\"landcolor\":\"#E5ECF6\",\"showlakes\":true,\"showland\":true,\"subunitcolor\":\"white\"},\"hoverlabel\":{\"align\":\"left\"},\"hovermode\":\"closest\",\"mapbox\":{\"style\":\"light\"},\"paper_bgcolor\":\"white\",\"plot_bgcolor\":\"#E5ECF6\",\"polar\":{\"angularaxis\":{\"gridcolor\":\"white\",\"linecolor\":\"white\",\"ticks\":\"\"},\"bgcolor\":\"#E5ECF6\",\"radialaxis\":{\"gridcolor\":\"white\",\"linecolor\":\"white\",\"ticks\":\"\"}},\"scene\":{\"xaxis\":{\"backgroundcolor\":\"#E5ECF6\",\"gridcolor\":\"white\",\"gridwidth\":2,\"linecolor\":\"white\",\"showbackground\":true,\"ticks\":\"\",\"zerolinecolor\":\"white\"},\"yaxis\":{\"backgroundcolor\":\"#E5ECF6\",\"gridcolor\":\"white\",\"gridwidth\":2,\"linecolor\":\"white\",\"showbackground\":true,\"ticks\":\"\",\"zerolinecolor\":\"white\"},\"zaxis\":{\"backgroundcolor\":\"#E5ECF6\",\"gridcolor\":\"white\",\"gridwidth\":2,\"linecolor\":\"white\",\"showbackground\":true,\"ticks\":\"\",\"zerolinecolor\":\"white\"}},\"shapedefaults\":{\"line\":{\"color\":\"#2a3f5f\"}},\"ternary\":{\"aaxis\":{\"gridcolor\":\"white\",\"linecolor\":\"white\",\"ticks\":\"\"},\"baxis\":{\"gridcolor\":\"white\",\"linecolor\":\"white\",\"ticks\":\"\"},\"bgcolor\":\"#E5ECF6\",\"caxis\":{\"gridcolor\":\"white\",\"linecolor\":\"white\",\"ticks\":\"\"}},\"title\":{\"x\":0.05},\"xaxis\":{\"automargin\":true,\"gridcolor\":\"white\",\"linecolor\":\"white\",\"ticks\":\"\",\"title\":{\"standoff\":15},\"zerolinecolor\":\"white\",\"zerolinewidth\":2},\"yaxis\":{\"automargin\":true,\"gridcolor\":\"white\",\"linecolor\":\"white\",\"ticks\":\"\",\"title\":{\"standoff\":15},\"zerolinecolor\":\"white\",\"zerolinewidth\":2}}},\"xaxis\":{\"anchor\":\"y\",\"domain\":[0.0,1.0],\"type\":\"date\",\"tickformat\":\"%H:%M\"},\"yaxis\":{\"anchor\":\"x\",\"domain\":[0.0,1.0],\"title\":{\"text\":\"Machine_ID\"},\"categoryorder\":\"array\",\"categoryarray\":[\"4\",\"3\",\"2\",\"1\"]},\"legend\":{\"title\":{\"text\":\"Lot ID\"},\"tracegroupgap\":0},\"title\":{\"text\":\"Instance 3 Problem 2 Gantt Chart\"},\"barmode\":\"overlay\"},                        {\"responsive\": true}                    ).then(function(){\n",
       "                            \n",
       "var gd = document.getElementById('3db04132-1933-4565-8369-b14d1364f97a');\n",
       "var x = new MutationObserver(function (mutations, observer) {{\n",
       "        var display = window.getComputedStyle(gd).display;\n",
       "        if (!display || display === 'none') {{\n",
       "            console.log([gd, 'removed!']);\n",
       "            Plotly.purge(gd);\n",
       "            observer.disconnect();\n",
       "        }}\n",
       "}});\n",
       "\n",
       "// Listen for the removal of the full notebook cells\n",
       "var notebookContainer = gd.closest('#notebook-container');\n",
       "if (notebookContainer) {{\n",
       "    x.observe(notebookContainer, {childList: true});\n",
       "}}\n",
       "\n",
       "// Listen for the clearing of the current output cell\n",
       "var outputEl = gd.closest('.output');\n",
       "if (outputEl) {{\n",
       "    x.observe(outputEl, {childList: true});\n",
       "}}\n",
       "\n",
       "                        })                };                });            </script>        </div>"
      ]
     },
     "metadata": {},
     "output_type": "display_data"
    }
   ],
   "source": [
    "gantt_plot_2_3(x_opt, P, y_opt, instance_no, 2)"
   ]
  },
  {
   "cell_type": "markdown",
   "metadata": {},
   "source": [
    "### 3."
   ]
  },
  {
   "cell_type": "markdown",
   "metadata": {},
   "source": [
    "### Constant Data"
   ]
  },
  {
   "cell_type": "code",
   "execution_count": 221,
   "metadata": {},
   "outputs": [],
   "source": [
    "order_num = [12, 11, 10]\n",
    "I = order_num[instance_no - 1] # order num\n",
    "M = 5 # machine num\n",
    "S = 2 # stage num\n",
    "M_C = 1\n",
    "orders = range(0, I)\n",
    "machines = range(0, M)\n",
    "stages = range(0, S)\n",
    "cook_machines = range(0, M_C)"
   ]
  },
  {
   "cell_type": "code",
   "execution_count": 222,
   "metadata": {},
   "outputs": [],
   "source": [
    "# process time for order i at stage s\n",
    "process_time = [[[2.7, 1.3],\n",
    "                 [1.6, 1.4],\n",
    "                 [0.7, 1.9],\n",
    "                 [0.5, 0.7],\n",
    "                 [0.8, 1],\n",
    "                 [2.5, 0],\n",
    "                 [1.4, 2],\n",
    "                 [1.1, 1.1],\n",
    "                 [0.8, 0.7],\n",
    "                 [1, 0.5],\n",
    "                 [3, 1.4],\n",
    "                 [2, 0]],\n",
    "                [[2.7, 1.5],\n",
    "                 [1.6, 2.3],\n",
    "                 [1, 2.7],\n",
    "                 [2.8, 0.8],\n",
    "                 [0.8, 1.9],\n",
    "                 [2.7, 0],\n",
    "                 [1.4, 1.5],\n",
    "                 [2.2, 0],\n",
    "                 [0.8, 1.8],\n",
    "                 [2.2, 2.2],\n",
    "                 [2.5, 1.5]],\n",
    "                [[3, 1.5],\n",
    "                 [3, 2],\n",
    "                 [3, 3.4],\n",
    "                 [3, 0.6],\n",
    "                 [1.2, 2.5],\n",
    "                 [3.3, 0],\n",
    "                 [1.7, 1.5],\n",
    "                 [1.3, 0],\n",
    "                 [1.8, 2.2],\n",
    "                 [2.6, 1.3]]]\n",
    "\n",
    "P = process_time[instance_no - 1]\n",
    "\n",
    "# thers's only cook for order i at stage s\n",
    "onlycook = [[[1, 0],\n",
    "             [0, 1],\n",
    "             [1, 0],\n",
    "             [0, 1],\n",
    "             [1, 0],\n",
    "             [1, 0],\n",
    "             [0, 0],\n",
    "             [0, 0],\n",
    "             [1, 0],\n",
    "             [0, 1],\n",
    "             [1, 0],\n",
    "             [0, 0]],\n",
    "            [[1, 0],\n",
    "             [1, 0],\n",
    "             [1, 0],\n",
    "             [0, 0],\n",
    "             [1, 0],\n",
    "             [1, 0],\n",
    "             [0, 0],\n",
    "             [0, 0],\n",
    "             [1, 0],\n",
    "             [0, 0],\n",
    "             [0, 1]],\n",
    "            [[0, 0],\n",
    "             [0, 1],\n",
    "             [1, 0],\n",
    "             [0, 1],\n",
    "             [1, 0],\n",
    "             [1, 0],\n",
    "             [0, 0],\n",
    "             [0, 0],\n",
    "             [0, 1],\n",
    "             [0, 0]]]\n",
    "\n",
    "C = onlycook[instance_no - 1]"
   ]
  },
  {
   "cell_type": "markdown",
   "metadata": {},
   "source": [
    "### Decision variable – Delay"
   ]
  },
  {
   "cell_type": "code",
   "execution_count": 223,
   "metadata": {},
   "outputs": [],
   "source": [
    "Q3_delay = Model('Q3-delay')\n",
    "\n",
    "# x_is is the finish time of order i at stage s\n",
    "x = {}\n",
    "for i in orders:\n",
    "    x[i] = {}\n",
    "    for s in stages:\n",
    "        x[i][s] = Q3_delay.addVar(lb = 0, vtype = GRB.CONTINUOUS, name = \"x_\" + str(i) + \",\" + str(s))\n",
    "\n",
    "# y_ism = 1 if order i process on machine m  at stage s otherwise 0\n",
    "y = {}\n",
    "for i in orders:\n",
    "    y[i] = {}\n",
    "    for s in stages:\n",
    "        y[i][s] = {}\n",
    "        for m in machines:\n",
    "            y[i][s][m] = Q3_delay.addVar(lb = 0, vtype = GRB.BINARY, name = \"y_\" + str(i) + \",\" + str(s) + \",\" + str(m))\n",
    "        \n",
    "# z_isjt = 1 if order i's stage s process before order j's stage t and they both process on the same machine otherwise 0\n",
    "z = {}\n",
    "for i in orders:\n",
    "    z[i] = {}\n",
    "    for s in stages:\n",
    "        z[i][s] = {}\n",
    "        for j in orders:\n",
    "            z[i][s][j] = {}\n",
    "            for t in stages:\n",
    "                z[i][s][j][t] = Q3_delay.addVar(lb = 0, vtype = GRB.BINARY, name = \"z_\" + str(i) + \",\" + str(s) + \",\" + str(j) + \",\" + str(t))\n",
    "        \n",
    "# l_i = 1 if order i is late otherwise 0\n",
    "l = {}\n",
    "for i in orders:\n",
    "    l[i] = Q3_delay.addVar(lb = 0, vtype = GRB.BINARY, name = \"l_\" + str(i))\n",
    "\n",
    "Q3_delay.update()"
   ]
  },
  {
   "cell_type": "markdown",
   "metadata": {},
   "source": [
    "### Setting the objective function"
   ]
  },
  {
   "cell_type": "code",
   "execution_count": 224,
   "metadata": {},
   "outputs": [],
   "source": [
    "Q3_delay.setObjective(quicksum(l[i] for i in orders), GRB.MINIMIZE)"
   ]
  },
  {
   "cell_type": "markdown",
   "metadata": {},
   "source": [
    "### Add constraints"
   ]
  },
  {
   "cell_type": "code",
   "execution_count": 225,
   "metadata": {},
   "outputs": [],
   "source": [
    "Q3_delay.addConstrs((x[j][t] + P[i][s] - x[i][s] <= (quicksum(P[i][s] for i in orders for s in stages)+P[i][s]) * (z[i][s][j][t] + 2-y[i][s][m]-y[j][t][m]) for i in orders for j in range(i+1, I) for m in machines for s in stages for t in stages), 'constraints for x_is, z_isjt')\n",
    "Q3_delay.addConstrs((x[i][s] + P[j][t] - x[j][t] <= (quicksum(P[i][s] for i in orders for s in stages)+P[j][t]) * (1-z[i][s][j][t] + 2-y[i][s][m]-y[j][t][m]) for i in orders for j in range(i+1, I) for m in machines for s in stages for t in stages), 'constraints for x_is, z_isjt')\n",
    "Q3_delay.addConstrs((x[i][1] <= D[i] + quicksum(P[i][s] for s in stages for i in orders) * l[i] for i in orders), 'constraints for l_i')\n",
    "Q3_delay.addConstrs((quicksum(y[i][s][m] for m in machines) == 1 for i in orders for s in stages), 'allocate orders to machines')\n",
    "Q3_delay.addConstrs((x[i][s] >= P[i][s] for i in orders for s in stages), 'minimum x_i')\n",
    "Q3_delay.addConstrs((x[i][1] >= x[i][0] + P[i][1] for i in orders), 'stage 2 should start after stage 1 is finished')\n",
    "Q3_delay.addConstrs((y[i][s][m] <= C[i][s] for i in orders for s in stages for m in cook_machines), 'constraints for cook machines')\n",
    "\n",
    "Q3_delay.update()"
   ]
  },
  {
   "cell_type": "code",
   "execution_count": 226,
   "metadata": {
    "collapsed": true,
    "jupyter": {
     "outputs_hidden": true
    }
   },
   "outputs": [
    {
     "name": "stdout",
     "output_type": "stream",
     "text": [
      "Gurobi Optimizer version 9.1.1 build v9.1.1rc0 (mac64)\n",
      "Thread count: 2 physical cores, 4 logical processors, using up to 4 threads\n",
      "Optimize a model with 2736 rows, 732 columns and 13416 nonzeros\n",
      "Model fingerprint: 0xedbcdcfa\n",
      "Variable types: 24 continuous, 708 integer (708 binary)\n",
      "Coefficient statistics:\n",
      "  Matrix range     [1e+00, 3e+01]\n",
      "  Objective range  [1e+00, 1e+00]\n",
      "  Bounds range     [1e+00, 1e+00]\n",
      "  RHS range        [5e-01, 1e+02]\n",
      "Found heuristic solution: objective 6.0000000\n",
      "Presolve removed 260 rows and 327 columns\n",
      "Presolve time: 0.02s\n",
      "Presolved: 2476 rows, 405 columns, 12293 nonzeros\n",
      "Variable types: 24 continuous, 381 integer (381 binary)\n",
      "\n",
      "Root relaxation: objective 0.000000e+00, 132 iterations, 0.01 seconds\n",
      "\n",
      "    Nodes    |    Current Node    |     Objective Bounds      |     Work\n",
      " Expl Unexpl |  Obj  Depth IntInf | Incumbent    BestBd   Gap | It/Node Time\n",
      "\n",
      "H    0     0                       0.0000000    0.00000  0.00%     -    0s\n",
      "     0     0    0.00000    0    1    0.00000    0.00000  0.00%     -    0s\n",
      "\n",
      "Explored 0 nodes (380 simplex iterations) in 0.07 seconds\n",
      "Thread count was 4 (of 4 available processors)\n",
      "\n",
      "Solution count 2: 0 6 \n",
      "\n",
      "Optimal solution found (tolerance 1.00e-04)\n",
      "Best objective 0.000000000000e+00, best bound 0.000000000000e+00, gap 0.0000%\n"
     ]
    }
   ],
   "source": [
    "Q3_delay.optimize()"
   ]
  },
  {
   "cell_type": "code",
   "execution_count": 227,
   "metadata": {},
   "outputs": [
    {
     "name": "stdout",
     "output_type": "stream",
     "text": [
      "objective value = 0.0\n"
     ]
    }
   ],
   "source": [
    "a = Q3_delay.objVal\n",
    "print(\"objective value =\", a)"
   ]
  },
  {
   "cell_type": "markdown",
   "metadata": {},
   "source": [
    "### Decision variable – makespan"
   ]
  },
  {
   "cell_type": "code",
   "execution_count": 228,
   "metadata": {},
   "outputs": [],
   "source": [
    "Q3_makespan = Model('Q3-makespan')\n",
    "\n",
    "# x_is is the finish time of order i at stage s\n",
    "x = {}\n",
    "for i in orders:\n",
    "    x[i] = {}\n",
    "    for s in stages:\n",
    "        x[i][s] = Q3_makespan.addVar(lb = 0, vtype = GRB.CONTINUOUS, name = \"x_\" + str(i) + \",\" + str(s))\n",
    "\n",
    "# y_ism = 1 if order i process on machine m  at stage s otherwise 0\n",
    "y = {}\n",
    "for i in orders:\n",
    "    y[i] = {}\n",
    "    for s in stages:\n",
    "        y[i][s] = {}\n",
    "        for m in machines:\n",
    "            y[i][s][m] = Q3_makespan.addVar(lb = 0, vtype = GRB.BINARY, name = \"y_\" + str(i) + \",\" + str(s) + \",\" + str(m))\n",
    "        \n",
    "# z_isjt = 1 if order i's stage s process before order j's stage t and they both process on the same machine otherwise 0\n",
    "z = {}\n",
    "for i in orders:\n",
    "    z[i] = {}\n",
    "    for s in stages:\n",
    "        z[i][s] = {}\n",
    "        for j in orders:\n",
    "            z[i][s][j] = {}\n",
    "            for t in stages:\n",
    "                z[i][s][j][t] = Q3_makespan.addVar(lb = 0, vtype = GRB.BINARY, name = \"z_\" + str(i) + \",\" + str(s) + \",\" + str(j) + \",\" + str(t))\n",
    "        \n",
    "# l_i = 1 if order i is late otherwise 0\n",
    "l = {}\n",
    "for i in orders:\n",
    "    l[i] = Q3_makespan.addVar(lb = 0, vtype = GRB.BINARY, name = \"l_\" + str(i))\n",
    "\n",
    "# w is the makespan of the solution\n",
    "w = Q3_makespan.addVar(lb = 0, vtype = GRB.CONTINUOUS, name = \"w\")\n",
    "\n",
    "Q3_makespan.update()"
   ]
  },
  {
   "cell_type": "markdown",
   "metadata": {},
   "source": [
    "### Setting the objective function"
   ]
  },
  {
   "cell_type": "code",
   "execution_count": 229,
   "metadata": {},
   "outputs": [],
   "source": [
    "Q3_makespan.setObjective(w, GRB.MINIMIZE)"
   ]
  },
  {
   "cell_type": "markdown",
   "metadata": {},
   "source": [
    "### Add constraints"
   ]
  },
  {
   "cell_type": "code",
   "execution_count": 230,
   "metadata": {},
   "outputs": [],
   "source": [
    "Q3_makespan.addConstrs((x[j][t] + P[i][s] - x[i][s] <= (quicksum(P[i][s] for i in orders for s in stages)+P[i][s]) * (z[i][s][j][t] + 2-y[i][s][m]-y[j][t][m]) for i in orders for j in range(i+1, I) for m in machines for s in stages for t in stages), 'constraints for x_is, z_isjt')\n",
    "Q3_makespan.addConstrs((x[i][s] + P[j][t] - x[j][t] <= (quicksum(P[i][s] for i in orders for s in stages)+P[j][t]) * (1-z[i][s][j][t] + 2-y[i][s][m]-y[j][t][m]) for i in orders for j in range(i+1, I) for m in machines for s in stages for t in stages), 'constraints for x_is, z_isjt')\n",
    "Q3_makespan.addConstrs((x[i][1] <= D[i] + quicksum(P[i][s] for s in stages for i in orders) * l[i] for i in orders), 'constraints for l_i')\n",
    "Q3_makespan.addConstrs((quicksum(y[i][s][m] for m in machines) == 1 for i in orders for s in stages), 'allocate orders to machines')\n",
    "Q3_makespan.addConstrs((x[i][s] >= P[i][s] for i in orders for s in stages), 'minimum x_i')\n",
    "Q3_makespan.addConstrs((x[i][1] >= x[i][0] + P[i][1] for i in orders), 'stage 2 should start after stage 1 is finished')\n",
    "Q3_makespan.addConstrs((y[i][s][m] <= C[i][s] for i in orders for s in stages for m in cook_machines), 'constraints for cook machines')\n",
    "Q3_makespan.addConstrs((w >= x[i][1] for i in orders), 'makespan')\n",
    "Q3_makespan.addConstr((quicksum(l[i] for i in orders) == a), 'delay num')\n",
    "# Q3_makespan.addConstr((w == 6.1), 'delay num')\n",
    "\n",
    "Q3_makespan.update()"
   ]
  },
  {
   "cell_type": "code",
   "execution_count": 231,
   "metadata": {
    "collapsed": true,
    "jupyter": {
     "outputs_hidden": true
    }
   },
   "outputs": [
    {
     "name": "stdout",
     "output_type": "stream",
     "text": [
      "Gurobi Optimizer version 9.1.1 build v9.1.1rc0 (mac64)\n",
      "Thread count: 2 physical cores, 4 logical processors, using up to 4 threads\n",
      "Optimize a model with 2749 rows, 733 columns and 13452 nonzeros\n",
      "Model fingerprint: 0x61b948ca\n",
      "Variable types: 25 continuous, 708 integer (708 binary)\n",
      "Coefficient statistics:\n",
      "  Matrix range     [1e+00, 3e+01]\n",
      "  Objective range  [1e+00, 1e+00]\n",
      "  Bounds range     [1e+00, 1e+00]\n",
      "  RHS range        [5e-01, 1e+02]\n",
      "Presolve removed 525 rows and 340 columns\n",
      "Presolve time: 0.03s\n",
      "Presolved: 2224 rows, 393 columns, 11033 nonzeros\n",
      "Variable types: 25 continuous, 368 integer (368 binary)\n",
      "\n",
      "Root relaxation: objective 4.400000e+00, 134 iterations, 0.01 seconds\n",
      "\n",
      "    Nodes    |    Current Node    |     Objective Bounds      |     Work\n",
      " Expl Unexpl |  Obj  Depth IntInf | Incumbent    BestBd   Gap | It/Node Time\n",
      "\n",
      "     0     0    4.40000    0   10          -    4.40000      -     -    0s\n",
      "H    0     0                       9.4000000    4.40000  53.2%     -    0s\n",
      "     0     0    4.40000    0   20    9.40000    4.40000  53.2%     -    0s\n",
      "H    0     0                       9.2000000    4.40000  52.2%     -    0s\n",
      "H    0     0                       8.8000000    4.40000  50.0%     -    0s\n",
      "     0     0    4.40000    0   19    8.80000    4.40000  50.0%     -    0s\n",
      "     0     0    4.40000    0   10    8.80000    4.40000  50.0%     -    0s\n",
      "H    0     0                       8.5000000    4.40000  48.2%     -    0s\n",
      "H    0     0                       8.3000000    4.40000  47.0%     -    0s\n",
      "     0     0    4.40000    0   16    8.30000    4.40000  47.0%     -    0s\n",
      "     0     0    4.40000    0    7    8.30000    4.40000  47.0%     -    0s\n",
      "     0     0    4.40000    0   12    8.30000    4.40000  47.0%     -    0s\n",
      "     0     0    4.40000    0   13    8.30000    4.40000  47.0%     -    0s\n",
      "     0     0    4.40000    0   14    8.30000    4.40000  47.0%     -    0s\n",
      "     0     0    4.40000    0   10    8.30000    4.40000  47.0%     -    0s\n",
      "     0     0    4.40000    0   14    8.30000    4.40000  47.0%     -    0s\n",
      "     0     0    4.40000    0   11    8.30000    4.40000  47.0%     -    0s\n",
      "     0     0    4.40000    0    9    8.30000    4.40000  47.0%     -    0s\n",
      "     0     2    4.40000    0    9    8.30000    4.40000  47.0%     -    0s\n",
      "*  159   139              62       7.7000000    4.40000  42.9%   3.4    0s\n",
      "H  413   259                       7.2000000    4.40000  38.9%   3.7    0s\n",
      "H  462   269                       7.0000000    4.40000  37.1%   3.6    1s\n",
      "H  836   471                       6.8000000    4.40000  35.3%   3.6    1s\n",
      "H 1105   582                       6.7000000    4.40000  34.3%   8.0    2s\n",
      "* 1168   593              49       6.6000000    4.40000  33.3%   7.8    2s\n",
      "H 1244   549                       6.6000000    4.40000  33.3%   7.6    2s\n",
      "H 1298   572                       6.4000000    4.40000  31.3%   7.5    3s\n",
      "H 2672  1184                       6.3000000    4.40000  30.2%   6.4    4s\n",
      "  3866  1776    4.40000   37   17    6.30000    4.40000  30.2%   6.2    5s\n",
      "* 9393  3856              61       6.1000000    4.40000  27.9%   6.2    9s\n",
      " 10676  4530    6.00000   54    8    6.10000    4.40000  27.9%   6.2   10s\n",
      " 21498  8762 infeasible   37         6.10000    4.40000  27.9%   6.6   17s\n",
      " 24461 10008    5.50000   43   13    6.10000    4.40000  27.9%   6.6   20s\n",
      " 36897 15129    4.60000   37   13    6.10000    4.40000  27.9%   6.6   25s\n",
      " 47070 19737 infeasible   43         6.10000    4.40000  27.9%   6.5   30s\n",
      " 55198 23460    5.70000   39    7    6.10000    4.40000  27.9%   6.5   35s\n",
      " 64745 27346    4.40000   34   18    6.10000    4.40000  27.9%   6.5   40s\n",
      " 73586 31013    6.00000   52   11    6.10000    4.40000  27.9%   6.5   45s\n",
      " 83744 34820    4.90000   50   12    6.10000    4.40000  27.9%   6.5   50s\n",
      " 90887 37511    6.00000   44   10    6.10000    4.40000  27.9%   6.5   55s\n",
      " 100007 40527     cutoff   42         6.10000    4.40000  27.9%   6.5   60s\n",
      " 108853 44492    6.00000   54    4    6.10000    4.40000  27.9%   6.5   65s\n",
      " 117583 48016 infeasible   41         6.10000    4.40000  27.9%   6.4   70s\n",
      " 126893 52297    5.40000   26   10    6.10000    4.40000  27.9%   6.4   75s\n",
      " 139066 57356 infeasible   60         6.10000    4.40000  27.9%   6.4   80s\n",
      " 147750 61623    4.40000   34   18    6.10000    4.40000  27.9%   6.4   85s\n",
      " 158677 66246    6.00000   34   10    6.10000    4.40000  27.9%   6.3   90s\n",
      " 169902 71141    5.80000   43    9    6.10000    4.40000  27.9%   6.3   95s\n",
      " 182937 76388 infeasible   52         6.10000    4.40000  27.9%   6.3  100s\n",
      "H183315 75954                       6.0999996    4.40000  27.9%   6.3  100s\n",
      " 191967 79333    5.60000   36   13    6.10000    4.40000  27.9%   6.3  105s\n",
      " 199815 82482    4.90000   34   11    6.10000    4.40000  27.9%   6.2  110s\n",
      " 211705 87037 infeasible   49         6.10000    4.40000  27.9%   6.2  115s\n",
      "\n",
      "Cutting planes:\n",
      "  Learned: 1\n",
      "  Implied bound: 3\n",
      "  Flow cover: 2\n",
      "\n",
      "Explored 221615 nodes (1384992 simplex iterations) in 119.23 seconds\n",
      "Thread count was 4 (of 4 available processors)\n",
      "\n",
      "Solution count 10: 6.1 6.1 6.3 ... 7\n",
      "\n",
      "Solve interrupted\n",
      "Best objective 6.099999559443e+00, best bound 4.400000000000e+00, gap 27.8688%\n"
     ]
    }
   ],
   "source": [
    "Q3_makespan.optimize()"
   ]
  },
  {
   "cell_type": "code",
   "execution_count": 210,
   "metadata": {},
   "outputs": [
    {
     "name": "stdout",
     "output_type": "stream",
     "text": [
      "objective value = 9.399999999999997\n"
     ]
    }
   ],
   "source": [
    "print(\"objective value =\", Q3_makespan.objVal)"
   ]
  },
  {
   "cell_type": "markdown",
   "metadata": {},
   "source": [
    "## Results"
   ]
  },
  {
   "cell_type": "code",
   "execution_count": 211,
   "metadata": {},
   "outputs": [],
   "source": [
    "x_opt = {}\n",
    "for i in orders:\n",
    "    x_opt[i] = {}\n",
    "    for s in stages:\n",
    "        x_opt[i][s] = {}\n",
    "\n",
    "y_opt = {}\n",
    "for i in orders:\n",
    "    y_opt[i] = {}\n",
    "    for s in stages:\n",
    "        y_opt[i][s] = {}\n",
    "        for m in machines:\n",
    "            y_opt[i][s][m] = {}\n",
    "\n",
    "for var in Q3_makespan.getVars():\n",
    "    index = [i for i in var.varName[2:].split(',')]\n",
    "    if var.varName[0] == 'x':\n",
    "        x_opt[int(index[0])][int(index[1])] = var.x\n",
    "    elif var.varName[0] == 'y':\n",
    "        y_opt[int(index[0])][int(index[1])][int(index[2])] = var.x"
   ]
  },
  {
   "cell_type": "markdown",
   "metadata": {},
   "source": [
    "## Plot Gantt Charts"
   ]
  },
  {
   "cell_type": "code",
   "execution_count": 212,
   "metadata": {},
   "outputs": [
    {
     "data": {
      "application/vnd.plotly.v1+json": {
       "config": {
        "plotlyServerURL": "https://plot.ly"
       },
       "data": [
        {
         "alignmentgroup": "True",
         "base": [
          "2000-01-01T07:30:00",
          "2000-01-01T10:30:00"
         ],
         "hovertemplate": "Job_ID=1<br>START_TIME=%{base}<br>END_TIME=%{x}<br>Machine_ID=%{y}<extra></extra>",
         "legendgroup": "1",
         "marker": {
          "color": "#C0392B"
         },
         "name": "1",
         "offsetgroup": "1",
         "orientation": "h",
         "showlegend": true,
         "textposition": "auto",
         "type": "bar",
         "x": [
          10800000,
          5400000
         ],
         "xaxis": "x",
         "y": [
          "2",
          "2"
         ],
         "yaxis": "y"
        },
        {
         "alignmentgroup": "True",
         "base": [
          "2000-01-01T07:30:00",
          "2000-01-01T10:30:00"
         ],
         "hovertemplate": "Job_ID=2<br>START_TIME=%{base}<br>END_TIME=%{x}<br>Machine_ID=%{y}<extra></extra>",
         "legendgroup": "2",
         "marker": {
          "color": "#EC7063"
         },
         "name": "2",
         "offsetgroup": "2",
         "orientation": "h",
         "showlegend": true,
         "textposition": "auto",
         "type": "bar",
         "x": [
          10800000,
          7200000
         ],
         "xaxis": "x",
         "y": [
          "4",
          "3"
         ],
         "yaxis": "y"
        },
        {
         "alignmentgroup": "True",
         "base": [
          "2000-01-01T10:30:00",
          "2000-01-01T13:30:00"
         ],
         "hovertemplate": "Job_ID=3<br>START_TIME=%{base}<br>END_TIME=%{x}<br>Machine_ID=%{y}<extra></extra>",
         "legendgroup": "3",
         "marker": {
          "color": "#1F618D"
         },
         "name": "3",
         "offsetgroup": "3",
         "orientation": "h",
         "showlegend": true,
         "textposition": "auto",
         "type": "bar",
         "x": [
          10800000,
          12240000
         ],
         "xaxis": "x",
         "y": [
          "4",
          "4"
         ],
         "yaxis": "y"
        },
        {
         "alignmentgroup": "True",
         "base": [
          "2000-01-01T07:30:00",
          "2000-01-01T11:48:00"
         ],
         "hovertemplate": "Job_ID=4<br>START_TIME=%{base}<br>END_TIME=%{x}<br>Machine_ID=%{y}<extra></extra>",
         "legendgroup": "4",
         "marker": {
          "color": "#34495E"
         },
         "name": "4",
         "offsetgroup": "4",
         "orientation": "h",
         "showlegend": true,
         "textposition": "auto",
         "type": "bar",
         "x": [
          10800000,
          2160000
         ],
         "xaxis": "x",
         "y": [
          "3",
          "5"
         ],
         "yaxis": "y"
        },
        {
         "alignmentgroup": "True",
         "base": [
          "2000-01-01T07:30:00",
          "2000-01-01T09:18:00"
         ],
         "hovertemplate": "Job_ID=5<br>START_TIME=%{base}<br>END_TIME=%{x}<br>Machine_ID=%{y}<extra></extra>",
         "legendgroup": "5",
         "marker": {
          "color": "#3498DB"
         },
         "name": "5",
         "offsetgroup": "5",
         "orientation": "h",
         "showlegend": true,
         "textposition": "auto",
         "type": "bar",
         "x": [
          4320000,
          9000000
         ],
         "xaxis": "x",
         "y": [
          "1",
          "5"
         ],
         "yaxis": "y"
        },
        {
         "alignmentgroup": "True",
         "base": [
          "2000-01-01T08:42:00",
          "2000-01-01T12:24:00"
         ],
         "hovertemplate": "Job_ID=6<br>START_TIME=%{base}<br>END_TIME=%{x}<br>Machine_ID=%{y}<extra></extra>",
         "legendgroup": "6",
         "marker": {
          "color": "#1E8449"
         },
         "name": "6",
         "offsetgroup": "6",
         "orientation": "h",
         "showlegend": true,
         "textposition": "auto",
         "type": "bar",
         "x": [
          11880000,
          0
         ],
         "xaxis": "x",
         "y": [
          "1",
          "5"
         ],
         "yaxis": "y"
        },
        {
         "alignmentgroup": "True",
         "base": [
          "2000-01-01T12:30:00",
          "2000-01-01T14:12:00"
         ],
         "hovertemplate": "Job_ID=7<br>START_TIME=%{base}<br>END_TIME=%{x}<br>Machine_ID=%{y}<extra></extra>",
         "legendgroup": "7",
         "marker": {
          "color": "#28B463"
         },
         "name": "7",
         "offsetgroup": "7",
         "orientation": "h",
         "showlegend": true,
         "textposition": "auto",
         "type": "bar",
         "x": [
          6120000,
          5400000
         ],
         "xaxis": "x",
         "y": [
          "3",
          "2"
         ],
         "yaxis": "y"
        },
        {
         "alignmentgroup": "True",
         "base": [
          "2000-01-01T12:00:00",
          "2000-01-01T14:12:00"
         ],
         "hovertemplate": "Job_ID=8<br>START_TIME=%{base}<br>END_TIME=%{x}<br>Machine_ID=%{y}<extra></extra>",
         "legendgroup": "8",
         "marker": {
          "color": "#F1C40F"
         },
         "name": "8",
         "offsetgroup": "8",
         "orientation": "h",
         "showlegend": true,
         "textposition": "auto",
         "type": "bar",
         "x": [
          4680000,
          0
         ],
         "xaxis": "x",
         "y": [
          "2",
          "3"
         ],
         "yaxis": "y"
        },
        {
         "alignmentgroup": "True",
         "base": [
          "2000-01-01T07:30:00",
          "2000-01-01T12:00:00"
         ],
         "hovertemplate": "Job_ID=9<br>START_TIME=%{base}<br>END_TIME=%{x}<br>Machine_ID=%{y}<extra></extra>",
         "legendgroup": "9",
         "marker": {
          "color": "#F39C12"
         },
         "name": "9",
         "offsetgroup": "9",
         "orientation": "h",
         "showlegend": true,
         "textposition": "auto",
         "type": "bar",
         "x": [
          6480000,
          7920000
         ],
         "xaxis": "x",
         "y": [
          "5",
          "1"
         ],
         "yaxis": "y"
        },
        {
         "alignmentgroup": "True",
         "base": [
          "2000-01-01T12:24:00",
          "2000-01-01T15:00:00"
         ],
         "hovertemplate": "Job_ID=10<br>START_TIME=%{base}<br>END_TIME=%{x}<br>Machine_ID=%{y}<extra></extra>",
         "legendgroup": "10",
         "marker": {
          "color": "#A6ACAF"
         },
         "name": "10",
         "offsetgroup": "10",
         "orientation": "h",
         "showlegend": true,
         "textposition": "auto",
         "type": "bar",
         "x": [
          9360000,
          4680000
         ],
         "xaxis": "x",
         "y": [
          "5",
          "5"
         ],
         "yaxis": "y"
        }
       ],
       "layout": {
        "barmode": "overlay",
        "legend": {
         "title": {
          "text": "Lot ID"
         },
         "tracegroupgap": 0
        },
        "template": {
         "data": {
          "bar": [
           {
            "error_x": {
             "color": "#2a3f5f"
            },
            "error_y": {
             "color": "#2a3f5f"
            },
            "marker": {
             "line": {
              "color": "#E5ECF6",
              "width": 0.5
             },
             "pattern": {
              "fillmode": "overlay",
              "size": 10,
              "solidity": 0.2
             }
            },
            "type": "bar"
           }
          ],
          "barpolar": [
           {
            "marker": {
             "line": {
              "color": "#E5ECF6",
              "width": 0.5
             },
             "pattern": {
              "fillmode": "overlay",
              "size": 10,
              "solidity": 0.2
             }
            },
            "type": "barpolar"
           }
          ],
          "carpet": [
           {
            "aaxis": {
             "endlinecolor": "#2a3f5f",
             "gridcolor": "white",
             "linecolor": "white",
             "minorgridcolor": "white",
             "startlinecolor": "#2a3f5f"
            },
            "baxis": {
             "endlinecolor": "#2a3f5f",
             "gridcolor": "white",
             "linecolor": "white",
             "minorgridcolor": "white",
             "startlinecolor": "#2a3f5f"
            },
            "type": "carpet"
           }
          ],
          "choropleth": [
           {
            "colorbar": {
             "outlinewidth": 0,
             "ticks": ""
            },
            "type": "choropleth"
           }
          ],
          "contour": [
           {
            "colorbar": {
             "outlinewidth": 0,
             "ticks": ""
            },
            "colorscale": [
             [
              0,
              "#0d0887"
             ],
             [
              0.1111111111111111,
              "#46039f"
             ],
             [
              0.2222222222222222,
              "#7201a8"
             ],
             [
              0.3333333333333333,
              "#9c179e"
             ],
             [
              0.4444444444444444,
              "#bd3786"
             ],
             [
              0.5555555555555556,
              "#d8576b"
             ],
             [
              0.6666666666666666,
              "#ed7953"
             ],
             [
              0.7777777777777778,
              "#fb9f3a"
             ],
             [
              0.8888888888888888,
              "#fdca26"
             ],
             [
              1,
              "#f0f921"
             ]
            ],
            "type": "contour"
           }
          ],
          "contourcarpet": [
           {
            "colorbar": {
             "outlinewidth": 0,
             "ticks": ""
            },
            "type": "contourcarpet"
           }
          ],
          "heatmap": [
           {
            "colorbar": {
             "outlinewidth": 0,
             "ticks": ""
            },
            "colorscale": [
             [
              0,
              "#0d0887"
             ],
             [
              0.1111111111111111,
              "#46039f"
             ],
             [
              0.2222222222222222,
              "#7201a8"
             ],
             [
              0.3333333333333333,
              "#9c179e"
             ],
             [
              0.4444444444444444,
              "#bd3786"
             ],
             [
              0.5555555555555556,
              "#d8576b"
             ],
             [
              0.6666666666666666,
              "#ed7953"
             ],
             [
              0.7777777777777778,
              "#fb9f3a"
             ],
             [
              0.8888888888888888,
              "#fdca26"
             ],
             [
              1,
              "#f0f921"
             ]
            ],
            "type": "heatmap"
           }
          ],
          "heatmapgl": [
           {
            "colorbar": {
             "outlinewidth": 0,
             "ticks": ""
            },
            "colorscale": [
             [
              0,
              "#0d0887"
             ],
             [
              0.1111111111111111,
              "#46039f"
             ],
             [
              0.2222222222222222,
              "#7201a8"
             ],
             [
              0.3333333333333333,
              "#9c179e"
             ],
             [
              0.4444444444444444,
              "#bd3786"
             ],
             [
              0.5555555555555556,
              "#d8576b"
             ],
             [
              0.6666666666666666,
              "#ed7953"
             ],
             [
              0.7777777777777778,
              "#fb9f3a"
             ],
             [
              0.8888888888888888,
              "#fdca26"
             ],
             [
              1,
              "#f0f921"
             ]
            ],
            "type": "heatmapgl"
           }
          ],
          "histogram": [
           {
            "marker": {
             "pattern": {
              "fillmode": "overlay",
              "size": 10,
              "solidity": 0.2
             }
            },
            "type": "histogram"
           }
          ],
          "histogram2d": [
           {
            "colorbar": {
             "outlinewidth": 0,
             "ticks": ""
            },
            "colorscale": [
             [
              0,
              "#0d0887"
             ],
             [
              0.1111111111111111,
              "#46039f"
             ],
             [
              0.2222222222222222,
              "#7201a8"
             ],
             [
              0.3333333333333333,
              "#9c179e"
             ],
             [
              0.4444444444444444,
              "#bd3786"
             ],
             [
              0.5555555555555556,
              "#d8576b"
             ],
             [
              0.6666666666666666,
              "#ed7953"
             ],
             [
              0.7777777777777778,
              "#fb9f3a"
             ],
             [
              0.8888888888888888,
              "#fdca26"
             ],
             [
              1,
              "#f0f921"
             ]
            ],
            "type": "histogram2d"
           }
          ],
          "histogram2dcontour": [
           {
            "colorbar": {
             "outlinewidth": 0,
             "ticks": ""
            },
            "colorscale": [
             [
              0,
              "#0d0887"
             ],
             [
              0.1111111111111111,
              "#46039f"
             ],
             [
              0.2222222222222222,
              "#7201a8"
             ],
             [
              0.3333333333333333,
              "#9c179e"
             ],
             [
              0.4444444444444444,
              "#bd3786"
             ],
             [
              0.5555555555555556,
              "#d8576b"
             ],
             [
              0.6666666666666666,
              "#ed7953"
             ],
             [
              0.7777777777777778,
              "#fb9f3a"
             ],
             [
              0.8888888888888888,
              "#fdca26"
             ],
             [
              1,
              "#f0f921"
             ]
            ],
            "type": "histogram2dcontour"
           }
          ],
          "mesh3d": [
           {
            "colorbar": {
             "outlinewidth": 0,
             "ticks": ""
            },
            "type": "mesh3d"
           }
          ],
          "parcoords": [
           {
            "line": {
             "colorbar": {
              "outlinewidth": 0,
              "ticks": ""
             }
            },
            "type": "parcoords"
           }
          ],
          "pie": [
           {
            "automargin": true,
            "type": "pie"
           }
          ],
          "scatter": [
           {
            "marker": {
             "colorbar": {
              "outlinewidth": 0,
              "ticks": ""
             }
            },
            "type": "scatter"
           }
          ],
          "scatter3d": [
           {
            "line": {
             "colorbar": {
              "outlinewidth": 0,
              "ticks": ""
             }
            },
            "marker": {
             "colorbar": {
              "outlinewidth": 0,
              "ticks": ""
             }
            },
            "type": "scatter3d"
           }
          ],
          "scattercarpet": [
           {
            "marker": {
             "colorbar": {
              "outlinewidth": 0,
              "ticks": ""
             }
            },
            "type": "scattercarpet"
           }
          ],
          "scattergeo": [
           {
            "marker": {
             "colorbar": {
              "outlinewidth": 0,
              "ticks": ""
             }
            },
            "type": "scattergeo"
           }
          ],
          "scattergl": [
           {
            "marker": {
             "colorbar": {
              "outlinewidth": 0,
              "ticks": ""
             }
            },
            "type": "scattergl"
           }
          ],
          "scattermapbox": [
           {
            "marker": {
             "colorbar": {
              "outlinewidth": 0,
              "ticks": ""
             }
            },
            "type": "scattermapbox"
           }
          ],
          "scatterpolar": [
           {
            "marker": {
             "colorbar": {
              "outlinewidth": 0,
              "ticks": ""
             }
            },
            "type": "scatterpolar"
           }
          ],
          "scatterpolargl": [
           {
            "marker": {
             "colorbar": {
              "outlinewidth": 0,
              "ticks": ""
             }
            },
            "type": "scatterpolargl"
           }
          ],
          "scatterternary": [
           {
            "marker": {
             "colorbar": {
              "outlinewidth": 0,
              "ticks": ""
             }
            },
            "type": "scatterternary"
           }
          ],
          "surface": [
           {
            "colorbar": {
             "outlinewidth": 0,
             "ticks": ""
            },
            "colorscale": [
             [
              0,
              "#0d0887"
             ],
             [
              0.1111111111111111,
              "#46039f"
             ],
             [
              0.2222222222222222,
              "#7201a8"
             ],
             [
              0.3333333333333333,
              "#9c179e"
             ],
             [
              0.4444444444444444,
              "#bd3786"
             ],
             [
              0.5555555555555556,
              "#d8576b"
             ],
             [
              0.6666666666666666,
              "#ed7953"
             ],
             [
              0.7777777777777778,
              "#fb9f3a"
             ],
             [
              0.8888888888888888,
              "#fdca26"
             ],
             [
              1,
              "#f0f921"
             ]
            ],
            "type": "surface"
           }
          ],
          "table": [
           {
            "cells": {
             "fill": {
              "color": "#EBF0F8"
             },
             "line": {
              "color": "white"
             }
            },
            "header": {
             "fill": {
              "color": "#C8D4E3"
             },
             "line": {
              "color": "white"
             }
            },
            "type": "table"
           }
          ]
         },
         "layout": {
          "annotationdefaults": {
           "arrowcolor": "#2a3f5f",
           "arrowhead": 0,
           "arrowwidth": 1
          },
          "autotypenumbers": "strict",
          "coloraxis": {
           "colorbar": {
            "outlinewidth": 0,
            "ticks": ""
           }
          },
          "colorscale": {
           "diverging": [
            [
             0,
             "#8e0152"
            ],
            [
             0.1,
             "#c51b7d"
            ],
            [
             0.2,
             "#de77ae"
            ],
            [
             0.3,
             "#f1b6da"
            ],
            [
             0.4,
             "#fde0ef"
            ],
            [
             0.5,
             "#f7f7f7"
            ],
            [
             0.6,
             "#e6f5d0"
            ],
            [
             0.7,
             "#b8e186"
            ],
            [
             0.8,
             "#7fbc41"
            ],
            [
             0.9,
             "#4d9221"
            ],
            [
             1,
             "#276419"
            ]
           ],
           "sequential": [
            [
             0,
             "#0d0887"
            ],
            [
             0.1111111111111111,
             "#46039f"
            ],
            [
             0.2222222222222222,
             "#7201a8"
            ],
            [
             0.3333333333333333,
             "#9c179e"
            ],
            [
             0.4444444444444444,
             "#bd3786"
            ],
            [
             0.5555555555555556,
             "#d8576b"
            ],
            [
             0.6666666666666666,
             "#ed7953"
            ],
            [
             0.7777777777777778,
             "#fb9f3a"
            ],
            [
             0.8888888888888888,
             "#fdca26"
            ],
            [
             1,
             "#f0f921"
            ]
           ],
           "sequentialminus": [
            [
             0,
             "#0d0887"
            ],
            [
             0.1111111111111111,
             "#46039f"
            ],
            [
             0.2222222222222222,
             "#7201a8"
            ],
            [
             0.3333333333333333,
             "#9c179e"
            ],
            [
             0.4444444444444444,
             "#bd3786"
            ],
            [
             0.5555555555555556,
             "#d8576b"
            ],
            [
             0.6666666666666666,
             "#ed7953"
            ],
            [
             0.7777777777777778,
             "#fb9f3a"
            ],
            [
             0.8888888888888888,
             "#fdca26"
            ],
            [
             1,
             "#f0f921"
            ]
           ]
          },
          "colorway": [
           "#636efa",
           "#EF553B",
           "#00cc96",
           "#ab63fa",
           "#FFA15A",
           "#19d3f3",
           "#FF6692",
           "#B6E880",
           "#FF97FF",
           "#FECB52"
          ],
          "font": {
           "color": "#2a3f5f"
          },
          "geo": {
           "bgcolor": "white",
           "lakecolor": "white",
           "landcolor": "#E5ECF6",
           "showlakes": true,
           "showland": true,
           "subunitcolor": "white"
          },
          "hoverlabel": {
           "align": "left"
          },
          "hovermode": "closest",
          "mapbox": {
           "style": "light"
          },
          "paper_bgcolor": "white",
          "plot_bgcolor": "#E5ECF6",
          "polar": {
           "angularaxis": {
            "gridcolor": "white",
            "linecolor": "white",
            "ticks": ""
           },
           "bgcolor": "#E5ECF6",
           "radialaxis": {
            "gridcolor": "white",
            "linecolor": "white",
            "ticks": ""
           }
          },
          "scene": {
           "xaxis": {
            "backgroundcolor": "#E5ECF6",
            "gridcolor": "white",
            "gridwidth": 2,
            "linecolor": "white",
            "showbackground": true,
            "ticks": "",
            "zerolinecolor": "white"
           },
           "yaxis": {
            "backgroundcolor": "#E5ECF6",
            "gridcolor": "white",
            "gridwidth": 2,
            "linecolor": "white",
            "showbackground": true,
            "ticks": "",
            "zerolinecolor": "white"
           },
           "zaxis": {
            "backgroundcolor": "#E5ECF6",
            "gridcolor": "white",
            "gridwidth": 2,
            "linecolor": "white",
            "showbackground": true,
            "ticks": "",
            "zerolinecolor": "white"
           }
          },
          "shapedefaults": {
           "line": {
            "color": "#2a3f5f"
           }
          },
          "ternary": {
           "aaxis": {
            "gridcolor": "white",
            "linecolor": "white",
            "ticks": ""
           },
           "baxis": {
            "gridcolor": "white",
            "linecolor": "white",
            "ticks": ""
           },
           "bgcolor": "#E5ECF6",
           "caxis": {
            "gridcolor": "white",
            "linecolor": "white",
            "ticks": ""
           }
          },
          "title": {
           "x": 0.05
          },
          "xaxis": {
           "automargin": true,
           "gridcolor": "white",
           "linecolor": "white",
           "ticks": "",
           "title": {
            "standoff": 15
           },
           "zerolinecolor": "white",
           "zerolinewidth": 2
          },
          "yaxis": {
           "automargin": true,
           "gridcolor": "white",
           "linecolor": "white",
           "ticks": "",
           "title": {
            "standoff": 15
           },
           "zerolinecolor": "white",
           "zerolinewidth": 2
          }
         }
        },
        "title": {
         "text": "Instance 3 Problem 3 Gantt Chart"
        },
        "xaxis": {
         "anchor": "y",
         "domain": [
          0,
          1
         ],
         "tickformat": "%H:%M",
         "type": "date"
        },
        "yaxis": {
         "anchor": "x",
         "categoryarray": [
          "5",
          "4",
          "3",
          "2",
          "1"
         ],
         "categoryorder": "array",
         "domain": [
          0,
          1
         ],
         "title": {
          "text": "Machine_ID"
         }
        }
       }
      },
      "text/html": [
       "<div>                            <div id=\"5f6511dd-f602-44b4-9e39-9bb61c82a61a\" class=\"plotly-graph-div\" style=\"height:525px; width:100%;\"></div>            <script type=\"text/javascript\">                require([\"plotly\"], function(Plotly) {                    window.PLOTLYENV=window.PLOTLYENV || {};                                    if (document.getElementById(\"5f6511dd-f602-44b4-9e39-9bb61c82a61a\")) {                    Plotly.newPlot(                        \"5f6511dd-f602-44b4-9e39-9bb61c82a61a\",                        [{\"alignmentgroup\":\"True\",\"base\":[\"2000-01-01T07:30:00\",\"2000-01-01T10:30:00\"],\"hovertemplate\":\"Job_ID=1<br>START_TIME=%{base}<br>END_TIME=%{x}<br>Machine_ID=%{y}<extra></extra>\",\"legendgroup\":\"1\",\"marker\":{\"color\":\"#C0392B\"},\"name\":\"1\",\"offsetgroup\":\"1\",\"orientation\":\"h\",\"showlegend\":true,\"textposition\":\"auto\",\"x\":[10800000.0,5400000.0],\"xaxis\":\"x\",\"y\":[\"2\",\"2\"],\"yaxis\":\"y\",\"type\":\"bar\"},{\"alignmentgroup\":\"True\",\"base\":[\"2000-01-01T07:30:00\",\"2000-01-01T10:30:00\"],\"hovertemplate\":\"Job_ID=2<br>START_TIME=%{base}<br>END_TIME=%{x}<br>Machine_ID=%{y}<extra></extra>\",\"legendgroup\":\"2\",\"marker\":{\"color\":\"#EC7063\"},\"name\":\"2\",\"offsetgroup\":\"2\",\"orientation\":\"h\",\"showlegend\":true,\"textposition\":\"auto\",\"x\":[10800000.0,7200000.0],\"xaxis\":\"x\",\"y\":[\"4\",\"3\"],\"yaxis\":\"y\",\"type\":\"bar\"},{\"alignmentgroup\":\"True\",\"base\":[\"2000-01-01T10:30:00\",\"2000-01-01T13:30:00\"],\"hovertemplate\":\"Job_ID=3<br>START_TIME=%{base}<br>END_TIME=%{x}<br>Machine_ID=%{y}<extra></extra>\",\"legendgroup\":\"3\",\"marker\":{\"color\":\"#1F618D\"},\"name\":\"3\",\"offsetgroup\":\"3\",\"orientation\":\"h\",\"showlegend\":true,\"textposition\":\"auto\",\"x\":[10800000.0,12240000.0],\"xaxis\":\"x\",\"y\":[\"4\",\"4\"],\"yaxis\":\"y\",\"type\":\"bar\"},{\"alignmentgroup\":\"True\",\"base\":[\"2000-01-01T07:30:00\",\"2000-01-01T11:48:00\"],\"hovertemplate\":\"Job_ID=4<br>START_TIME=%{base}<br>END_TIME=%{x}<br>Machine_ID=%{y}<extra></extra>\",\"legendgroup\":\"4\",\"marker\":{\"color\":\"#34495E\"},\"name\":\"4\",\"offsetgroup\":\"4\",\"orientation\":\"h\",\"showlegend\":true,\"textposition\":\"auto\",\"x\":[10800000.0,2160000.0],\"xaxis\":\"x\",\"y\":[\"3\",\"5\"],\"yaxis\":\"y\",\"type\":\"bar\"},{\"alignmentgroup\":\"True\",\"base\":[\"2000-01-01T07:30:00\",\"2000-01-01T09:18:00\"],\"hovertemplate\":\"Job_ID=5<br>START_TIME=%{base}<br>END_TIME=%{x}<br>Machine_ID=%{y}<extra></extra>\",\"legendgroup\":\"5\",\"marker\":{\"color\":\"#3498DB\"},\"name\":\"5\",\"offsetgroup\":\"5\",\"orientation\":\"h\",\"showlegend\":true,\"textposition\":\"auto\",\"x\":[4320000.0,9000000.0],\"xaxis\":\"x\",\"y\":[\"1\",\"5\"],\"yaxis\":\"y\",\"type\":\"bar\"},{\"alignmentgroup\":\"True\",\"base\":[\"2000-01-01T08:42:00\",\"2000-01-01T12:24:00\"],\"hovertemplate\":\"Job_ID=6<br>START_TIME=%{base}<br>END_TIME=%{x}<br>Machine_ID=%{y}<extra></extra>\",\"legendgroup\":\"6\",\"marker\":{\"color\":\"#1E8449\"},\"name\":\"6\",\"offsetgroup\":\"6\",\"orientation\":\"h\",\"showlegend\":true,\"textposition\":\"auto\",\"x\":[11880000.0,0.0],\"xaxis\":\"x\",\"y\":[\"1\",\"5\"],\"yaxis\":\"y\",\"type\":\"bar\"},{\"alignmentgroup\":\"True\",\"base\":[\"2000-01-01T12:30:00\",\"2000-01-01T14:12:00\"],\"hovertemplate\":\"Job_ID=7<br>START_TIME=%{base}<br>END_TIME=%{x}<br>Machine_ID=%{y}<extra></extra>\",\"legendgroup\":\"7\",\"marker\":{\"color\":\"#28B463\"},\"name\":\"7\",\"offsetgroup\":\"7\",\"orientation\":\"h\",\"showlegend\":true,\"textposition\":\"auto\",\"x\":[6120000.0,5400000.0],\"xaxis\":\"x\",\"y\":[\"3\",\"2\"],\"yaxis\":\"y\",\"type\":\"bar\"},{\"alignmentgroup\":\"True\",\"base\":[\"2000-01-01T12:00:00\",\"2000-01-01T14:12:00\"],\"hovertemplate\":\"Job_ID=8<br>START_TIME=%{base}<br>END_TIME=%{x}<br>Machine_ID=%{y}<extra></extra>\",\"legendgroup\":\"8\",\"marker\":{\"color\":\"#F1C40F\"},\"name\":\"8\",\"offsetgroup\":\"8\",\"orientation\":\"h\",\"showlegend\":true,\"textposition\":\"auto\",\"x\":[4680000.0,0.0],\"xaxis\":\"x\",\"y\":[\"2\",\"3\"],\"yaxis\":\"y\",\"type\":\"bar\"},{\"alignmentgroup\":\"True\",\"base\":[\"2000-01-01T07:30:00\",\"2000-01-01T12:00:00\"],\"hovertemplate\":\"Job_ID=9<br>START_TIME=%{base}<br>END_TIME=%{x}<br>Machine_ID=%{y}<extra></extra>\",\"legendgroup\":\"9\",\"marker\":{\"color\":\"#F39C12\"},\"name\":\"9\",\"offsetgroup\":\"9\",\"orientation\":\"h\",\"showlegend\":true,\"textposition\":\"auto\",\"x\":[6480000.0,7920000.0],\"xaxis\":\"x\",\"y\":[\"5\",\"1\"],\"yaxis\":\"y\",\"type\":\"bar\"},{\"alignmentgroup\":\"True\",\"base\":[\"2000-01-01T12:24:00\",\"2000-01-01T15:00:00\"],\"hovertemplate\":\"Job_ID=10<br>START_TIME=%{base}<br>END_TIME=%{x}<br>Machine_ID=%{y}<extra></extra>\",\"legendgroup\":\"10\",\"marker\":{\"color\":\"#A6ACAF\"},\"name\":\"10\",\"offsetgroup\":\"10\",\"orientation\":\"h\",\"showlegend\":true,\"textposition\":\"auto\",\"x\":[9360000.0,4680000.0],\"xaxis\":\"x\",\"y\":[\"5\",\"5\"],\"yaxis\":\"y\",\"type\":\"bar\"}],                        {\"template\":{\"data\":{\"bar\":[{\"error_x\":{\"color\":\"#2a3f5f\"},\"error_y\":{\"color\":\"#2a3f5f\"},\"marker\":{\"line\":{\"color\":\"#E5ECF6\",\"width\":0.5},\"pattern\":{\"fillmode\":\"overlay\",\"size\":10,\"solidity\":0.2}},\"type\":\"bar\"}],\"barpolar\":[{\"marker\":{\"line\":{\"color\":\"#E5ECF6\",\"width\":0.5},\"pattern\":{\"fillmode\":\"overlay\",\"size\":10,\"solidity\":0.2}},\"type\":\"barpolar\"}],\"carpet\":[{\"aaxis\":{\"endlinecolor\":\"#2a3f5f\",\"gridcolor\":\"white\",\"linecolor\":\"white\",\"minorgridcolor\":\"white\",\"startlinecolor\":\"#2a3f5f\"},\"baxis\":{\"endlinecolor\":\"#2a3f5f\",\"gridcolor\":\"white\",\"linecolor\":\"white\",\"minorgridcolor\":\"white\",\"startlinecolor\":\"#2a3f5f\"},\"type\":\"carpet\"}],\"choropleth\":[{\"colorbar\":{\"outlinewidth\":0,\"ticks\":\"\"},\"type\":\"choropleth\"}],\"contour\":[{\"colorbar\":{\"outlinewidth\":0,\"ticks\":\"\"},\"colorscale\":[[0.0,\"#0d0887\"],[0.1111111111111111,\"#46039f\"],[0.2222222222222222,\"#7201a8\"],[0.3333333333333333,\"#9c179e\"],[0.4444444444444444,\"#bd3786\"],[0.5555555555555556,\"#d8576b\"],[0.6666666666666666,\"#ed7953\"],[0.7777777777777778,\"#fb9f3a\"],[0.8888888888888888,\"#fdca26\"],[1.0,\"#f0f921\"]],\"type\":\"contour\"}],\"contourcarpet\":[{\"colorbar\":{\"outlinewidth\":0,\"ticks\":\"\"},\"type\":\"contourcarpet\"}],\"heatmap\":[{\"colorbar\":{\"outlinewidth\":0,\"ticks\":\"\"},\"colorscale\":[[0.0,\"#0d0887\"],[0.1111111111111111,\"#46039f\"],[0.2222222222222222,\"#7201a8\"],[0.3333333333333333,\"#9c179e\"],[0.4444444444444444,\"#bd3786\"],[0.5555555555555556,\"#d8576b\"],[0.6666666666666666,\"#ed7953\"],[0.7777777777777778,\"#fb9f3a\"],[0.8888888888888888,\"#fdca26\"],[1.0,\"#f0f921\"]],\"type\":\"heatmap\"}],\"heatmapgl\":[{\"colorbar\":{\"outlinewidth\":0,\"ticks\":\"\"},\"colorscale\":[[0.0,\"#0d0887\"],[0.1111111111111111,\"#46039f\"],[0.2222222222222222,\"#7201a8\"],[0.3333333333333333,\"#9c179e\"],[0.4444444444444444,\"#bd3786\"],[0.5555555555555556,\"#d8576b\"],[0.6666666666666666,\"#ed7953\"],[0.7777777777777778,\"#fb9f3a\"],[0.8888888888888888,\"#fdca26\"],[1.0,\"#f0f921\"]],\"type\":\"heatmapgl\"}],\"histogram\":[{\"marker\":{\"pattern\":{\"fillmode\":\"overlay\",\"size\":10,\"solidity\":0.2}},\"type\":\"histogram\"}],\"histogram2d\":[{\"colorbar\":{\"outlinewidth\":0,\"ticks\":\"\"},\"colorscale\":[[0.0,\"#0d0887\"],[0.1111111111111111,\"#46039f\"],[0.2222222222222222,\"#7201a8\"],[0.3333333333333333,\"#9c179e\"],[0.4444444444444444,\"#bd3786\"],[0.5555555555555556,\"#d8576b\"],[0.6666666666666666,\"#ed7953\"],[0.7777777777777778,\"#fb9f3a\"],[0.8888888888888888,\"#fdca26\"],[1.0,\"#f0f921\"]],\"type\":\"histogram2d\"}],\"histogram2dcontour\":[{\"colorbar\":{\"outlinewidth\":0,\"ticks\":\"\"},\"colorscale\":[[0.0,\"#0d0887\"],[0.1111111111111111,\"#46039f\"],[0.2222222222222222,\"#7201a8\"],[0.3333333333333333,\"#9c179e\"],[0.4444444444444444,\"#bd3786\"],[0.5555555555555556,\"#d8576b\"],[0.6666666666666666,\"#ed7953\"],[0.7777777777777778,\"#fb9f3a\"],[0.8888888888888888,\"#fdca26\"],[1.0,\"#f0f921\"]],\"type\":\"histogram2dcontour\"}],\"mesh3d\":[{\"colorbar\":{\"outlinewidth\":0,\"ticks\":\"\"},\"type\":\"mesh3d\"}],\"parcoords\":[{\"line\":{\"colorbar\":{\"outlinewidth\":0,\"ticks\":\"\"}},\"type\":\"parcoords\"}],\"pie\":[{\"automargin\":true,\"type\":\"pie\"}],\"scatter\":[{\"marker\":{\"colorbar\":{\"outlinewidth\":0,\"ticks\":\"\"}},\"type\":\"scatter\"}],\"scatter3d\":[{\"line\":{\"colorbar\":{\"outlinewidth\":0,\"ticks\":\"\"}},\"marker\":{\"colorbar\":{\"outlinewidth\":0,\"ticks\":\"\"}},\"type\":\"scatter3d\"}],\"scattercarpet\":[{\"marker\":{\"colorbar\":{\"outlinewidth\":0,\"ticks\":\"\"}},\"type\":\"scattercarpet\"}],\"scattergeo\":[{\"marker\":{\"colorbar\":{\"outlinewidth\":0,\"ticks\":\"\"}},\"type\":\"scattergeo\"}],\"scattergl\":[{\"marker\":{\"colorbar\":{\"outlinewidth\":0,\"ticks\":\"\"}},\"type\":\"scattergl\"}],\"scattermapbox\":[{\"marker\":{\"colorbar\":{\"outlinewidth\":0,\"ticks\":\"\"}},\"type\":\"scattermapbox\"}],\"scatterpolar\":[{\"marker\":{\"colorbar\":{\"outlinewidth\":0,\"ticks\":\"\"}},\"type\":\"scatterpolar\"}],\"scatterpolargl\":[{\"marker\":{\"colorbar\":{\"outlinewidth\":0,\"ticks\":\"\"}},\"type\":\"scatterpolargl\"}],\"scatterternary\":[{\"marker\":{\"colorbar\":{\"outlinewidth\":0,\"ticks\":\"\"}},\"type\":\"scatterternary\"}],\"surface\":[{\"colorbar\":{\"outlinewidth\":0,\"ticks\":\"\"},\"colorscale\":[[0.0,\"#0d0887\"],[0.1111111111111111,\"#46039f\"],[0.2222222222222222,\"#7201a8\"],[0.3333333333333333,\"#9c179e\"],[0.4444444444444444,\"#bd3786\"],[0.5555555555555556,\"#d8576b\"],[0.6666666666666666,\"#ed7953\"],[0.7777777777777778,\"#fb9f3a\"],[0.8888888888888888,\"#fdca26\"],[1.0,\"#f0f921\"]],\"type\":\"surface\"}],\"table\":[{\"cells\":{\"fill\":{\"color\":\"#EBF0F8\"},\"line\":{\"color\":\"white\"}},\"header\":{\"fill\":{\"color\":\"#C8D4E3\"},\"line\":{\"color\":\"white\"}},\"type\":\"table\"}]},\"layout\":{\"annotationdefaults\":{\"arrowcolor\":\"#2a3f5f\",\"arrowhead\":0,\"arrowwidth\":1},\"autotypenumbers\":\"strict\",\"coloraxis\":{\"colorbar\":{\"outlinewidth\":0,\"ticks\":\"\"}},\"colorscale\":{\"diverging\":[[0,\"#8e0152\"],[0.1,\"#c51b7d\"],[0.2,\"#de77ae\"],[0.3,\"#f1b6da\"],[0.4,\"#fde0ef\"],[0.5,\"#f7f7f7\"],[0.6,\"#e6f5d0\"],[0.7,\"#b8e186\"],[0.8,\"#7fbc41\"],[0.9,\"#4d9221\"],[1,\"#276419\"]],\"sequential\":[[0.0,\"#0d0887\"],[0.1111111111111111,\"#46039f\"],[0.2222222222222222,\"#7201a8\"],[0.3333333333333333,\"#9c179e\"],[0.4444444444444444,\"#bd3786\"],[0.5555555555555556,\"#d8576b\"],[0.6666666666666666,\"#ed7953\"],[0.7777777777777778,\"#fb9f3a\"],[0.8888888888888888,\"#fdca26\"],[1.0,\"#f0f921\"]],\"sequentialminus\":[[0.0,\"#0d0887\"],[0.1111111111111111,\"#46039f\"],[0.2222222222222222,\"#7201a8\"],[0.3333333333333333,\"#9c179e\"],[0.4444444444444444,\"#bd3786\"],[0.5555555555555556,\"#d8576b\"],[0.6666666666666666,\"#ed7953\"],[0.7777777777777778,\"#fb9f3a\"],[0.8888888888888888,\"#fdca26\"],[1.0,\"#f0f921\"]]},\"colorway\":[\"#636efa\",\"#EF553B\",\"#00cc96\",\"#ab63fa\",\"#FFA15A\",\"#19d3f3\",\"#FF6692\",\"#B6E880\",\"#FF97FF\",\"#FECB52\"],\"font\":{\"color\":\"#2a3f5f\"},\"geo\":{\"bgcolor\":\"white\",\"lakecolor\":\"white\",\"landcolor\":\"#E5ECF6\",\"showlakes\":true,\"showland\":true,\"subunitcolor\":\"white\"},\"hoverlabel\":{\"align\":\"left\"},\"hovermode\":\"closest\",\"mapbox\":{\"style\":\"light\"},\"paper_bgcolor\":\"white\",\"plot_bgcolor\":\"#E5ECF6\",\"polar\":{\"angularaxis\":{\"gridcolor\":\"white\",\"linecolor\":\"white\",\"ticks\":\"\"},\"bgcolor\":\"#E5ECF6\",\"radialaxis\":{\"gridcolor\":\"white\",\"linecolor\":\"white\",\"ticks\":\"\"}},\"scene\":{\"xaxis\":{\"backgroundcolor\":\"#E5ECF6\",\"gridcolor\":\"white\",\"gridwidth\":2,\"linecolor\":\"white\",\"showbackground\":true,\"ticks\":\"\",\"zerolinecolor\":\"white\"},\"yaxis\":{\"backgroundcolor\":\"#E5ECF6\",\"gridcolor\":\"white\",\"gridwidth\":2,\"linecolor\":\"white\",\"showbackground\":true,\"ticks\":\"\",\"zerolinecolor\":\"white\"},\"zaxis\":{\"backgroundcolor\":\"#E5ECF6\",\"gridcolor\":\"white\",\"gridwidth\":2,\"linecolor\":\"white\",\"showbackground\":true,\"ticks\":\"\",\"zerolinecolor\":\"white\"}},\"shapedefaults\":{\"line\":{\"color\":\"#2a3f5f\"}},\"ternary\":{\"aaxis\":{\"gridcolor\":\"white\",\"linecolor\":\"white\",\"ticks\":\"\"},\"baxis\":{\"gridcolor\":\"white\",\"linecolor\":\"white\",\"ticks\":\"\"},\"bgcolor\":\"#E5ECF6\",\"caxis\":{\"gridcolor\":\"white\",\"linecolor\":\"white\",\"ticks\":\"\"}},\"title\":{\"x\":0.05},\"xaxis\":{\"automargin\":true,\"gridcolor\":\"white\",\"linecolor\":\"white\",\"ticks\":\"\",\"title\":{\"standoff\":15},\"zerolinecolor\":\"white\",\"zerolinewidth\":2},\"yaxis\":{\"automargin\":true,\"gridcolor\":\"white\",\"linecolor\":\"white\",\"ticks\":\"\",\"title\":{\"standoff\":15},\"zerolinecolor\":\"white\",\"zerolinewidth\":2}}},\"xaxis\":{\"anchor\":\"y\",\"domain\":[0.0,1.0],\"type\":\"date\",\"tickformat\":\"%H:%M\"},\"yaxis\":{\"anchor\":\"x\",\"domain\":[0.0,1.0],\"title\":{\"text\":\"Machine_ID\"},\"categoryorder\":\"array\",\"categoryarray\":[\"5\",\"4\",\"3\",\"2\",\"1\"]},\"legend\":{\"title\":{\"text\":\"Lot ID\"},\"tracegroupgap\":0},\"title\":{\"text\":\"Instance 3 Problem 3 Gantt Chart\"},\"barmode\":\"overlay\"},                        {\"responsive\": true}                    ).then(function(){\n",
       "                            \n",
       "var gd = document.getElementById('5f6511dd-f602-44b4-9e39-9bb61c82a61a');\n",
       "var x = new MutationObserver(function (mutations, observer) {{\n",
       "        var display = window.getComputedStyle(gd).display;\n",
       "        if (!display || display === 'none') {{\n",
       "            console.log([gd, 'removed!']);\n",
       "            Plotly.purge(gd);\n",
       "            observer.disconnect();\n",
       "        }}\n",
       "}});\n",
       "\n",
       "// Listen for the removal of the full notebook cells\n",
       "var notebookContainer = gd.closest('#notebook-container');\n",
       "if (notebookContainer) {{\n",
       "    x.observe(notebookContainer, {childList: true});\n",
       "}}\n",
       "\n",
       "// Listen for the clearing of the current output cell\n",
       "var outputEl = gd.closest('.output');\n",
       "if (outputEl) {{\n",
       "    x.observe(outputEl, {childList: true});\n",
       "}}\n",
       "\n",
       "                        })                };                });            </script>        </div>"
      ]
     },
     "metadata": {},
     "output_type": "display_data"
    }
   ],
   "source": [
    "gantt_plot_2_3(x_opt, P, y_opt, instance_no, 3)"
   ]
  }
 ],
 "metadata": {
  "kernelspec": {
   "display_name": "Python 3",
   "language": "python",
   "name": "python3"
  },
  "language_info": {
   "codemirror_mode": {
    "name": "ipython",
    "version": 3
   },
   "file_extension": ".py",
   "mimetype": "text/x-python",
   "name": "python",
   "nbconvert_exporter": "python",
   "pygments_lexer": "ipython3",
   "version": "3.8.5"
  }
 },
 "nbformat": 4,
 "nbformat_minor": 4
}
