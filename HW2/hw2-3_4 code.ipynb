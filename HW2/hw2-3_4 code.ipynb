{
 "cells": [
  {
   "cell_type": "markdown",
   "id": "8a8cd41b-2b68-4c91-847c-342bd786719d",
   "metadata": {},
   "source": [
    "<h2>Import functions and libraries:"
   ]
  },
  {
   "cell_type": "code",
   "execution_count": 1,
   "id": "83c0e76d-c38e-4741-9c78-41ee2a5af282",
   "metadata": {},
   "outputs": [],
   "source": [
    "from gurobipy import *\n",
    "import pandas as pd\n",
    "\n",
    "# Sorting fuctions\n",
    "def B_bubbleSort(b, job):\n",
    "    for i in N:\n",
    "        for j in range(0, n-i-1):\n",
    "            if b[job[j]] < b[job[j+1]]:\n",
    "                job[j], job[j+1] = job[j+1], job[j]\n",
    "                \n",
    "def R_bubbleSort(b, job):\n",
    "    for i in N:\n",
    "        for j in range(0, n-i-1):\n",
    "            if (b[job[j]]/p[job[j]]) < (b[job[j+1]]/p[job[j+1]]):\n",
    "                job[j], job[j+1] = job[j+1], job[j]\n",
    "                \n",
    "def RB_bubbleSort(b, job):\n",
    "    for i in N:\n",
    "        for j in range(0, n-i-1):\n",
    "            if (b[job[j]]/p[job[j]]) < (b[job[j+1]]/p[job[j+1]]):\n",
    "                job[j], job[j+1] = job[j+1], job[j]        \n",
    "    for i in N:\n",
    "        for j in range(0, n-i-1):\n",
    "            if (b[job[j]]/p[job[j]]) == (b[job[j+1]]/p[job[j+1]]) and (b[job[j]] < b[job[j+1]]):\n",
    "                job[j], job[j+1] = job[j+1], job[j]\n",
    "                \n",
    "def M_bubbleSort(bm, machine):\n",
    "    for i in M:\n",
    "        for j in range(0, m-i-1):\n",
    "            if bm[machine[j]] > bm[machine[j+1]]:\n",
    "                machine[j], machine[j+1] = machine[j+1], machine[j]"
   ]
  },
  {
   "cell_type": "markdown",
   "id": "6309b877-b6b8-4e8c-be81-85a6535a0ff8",
   "metadata": {},
   "source": [
    "<h2>Input Data:"
   ]
  },
  {
   "cell_type": "code",
   "execution_count": 2,
   "id": "9b35ea08-094a-47cd-8b94-e4271c758a8a",
   "metadata": {},
   "outputs": [
    {
     "data": {
      "text/plain": [
       "\"\\n# 4.\\n# file input\\nf = open('in01.txt', 'r')\\nline1 = f.readline()\\nline2 = f.readline()\\nline3 = f.readline()\\n\\narray = line1.split( )\\narray = list(map(int, array))\\n    \\nm = array[0]\\nn = array[1]\\nK = array[2]\\n\\nb = line2.split( )\\nb = list(map(int, b))\\n\\np = line3.split( )\\np = list(map(int, p))\\n\\nN = range(n)\\nM = range(m)\\nf.close()\\n\""
      ]
     },
     "execution_count": 2,
     "metadata": {},
     "output_type": "execute_result"
    }
   ],
   "source": [
    "# Input\n",
    "\n",
    "'''\n",
    "# numeric\n",
    "#(b)\n",
    "m = 3\n",
    "n = 10\n",
    "b = [5, 8, 4, 6, 3, 7, 6, 9, 5, 8]\n",
    "p = [3, 6, 5, 4, 1, 8, 5, 12, 7, 6]\n",
    "K = 15\n",
    "\n",
    "N = range(n)\n",
    "M = range(m)\n",
    "'''\n",
    "\n",
    "\n",
    "#(c)(d)\n",
    "m = 4\n",
    "n = 25\n",
    "b = [5,8,12,4,6,6,3,7,6,15,9,5,8,10,1,5,3,7,12,14,5,8,9,8,10]\n",
    "p = [3,6,7,5,4,2,6,3,5,8,10,2,4,7,1,5,8,3,6,4,12,4,8,4,7]\n",
    "K = 15\n",
    "\n",
    "N = range(n)\n",
    "M = range(m)\n",
    "\n",
    "\n",
    "'''\n",
    "# 4.\n",
    "# file input\n",
    "f = open('in01.txt', 'r')\n",
    "line1 = f.readline()\n",
    "line2 = f.readline()\n",
    "line3 = f.readline()\n",
    "\n",
    "array = line1.split( )\n",
    "array = list(map(int, array))\n",
    "    \n",
    "m = array[0]\n",
    "n = array[1]\n",
    "K = array[2]\n",
    "\n",
    "b = line2.split( )\n",
    "b = list(map(int, b))\n",
    "\n",
    "p = line3.split( )\n",
    "p = list(map(int, p))\n",
    "\n",
    "N = range(n)\n",
    "M = range(m)\n",
    "f.close()\n",
    "'''"
   ]
  },
  {
   "cell_type": "markdown",
   "id": "864e9760-2092-4672-ae05-823be71ac5fb",
   "metadata": {},
   "source": [
    "<h2>(b) Linear Relaxation:"
   ]
  },
  {
   "cell_type": "code",
   "execution_count": 3,
   "id": "0610656d-dca9-435b-8f49-2661aeef480d",
   "metadata": {},
   "outputs": [
    {
     "name": "stdout",
     "output_type": "stream",
     "text": [
      "Set parameter Username\n",
      "Academic license - for non-commercial use only - expires 2023-03-25\n",
      "Gurobi Optimizer version 9.5.1 build v9.5.1rc2 (mac64[rosetta2])\n",
      "Thread count: 10 physical cores, 10 logical processors, using up to 10 threads\n",
      "Optimize a model with 33 rows, 101 columns and 304 nonzeros\n",
      "Model fingerprint: 0x3a862f1c\n",
      "Coefficient statistics:\n",
      "  Matrix range     [1e+00, 2e+01]\n",
      "  Objective range  [1e+00, 1e+00]\n",
      "  Bounds range     [1e+00, 1e+00]\n",
      "  RHS range        [1e+00, 2e+01]\n",
      "Presolve time: 0.00s\n",
      "Presolved: 33 rows, 101 columns, 304 nonzeros\n",
      "\n",
      "Iteration    Objective       Primal Inf.    Dual Inf.      Time\n",
      "       0    8.0000000e+30   4.000000e+30   8.000000e+00      0s\n",
      "      67    3.0392857e+01   0.000000e+00   0.000000e+00      0s\n",
      "\n",
      "Solved in 67 iterations and 0.00 seconds (0.00 work units)\n",
      "Optimal objective  3.039285714e+01\n",
      "Results:\n",
      "\n",
      "objective value = 30.392857142857146\n",
      "\n",
      "x:\n",
      "J \\ M\tMachine1 \tMachine2 \tMachine3\n",
      "Job1 \t0.0 \t\t1.0 \t\t0.0 \t\t0.0 \t\t\n",
      "Job2 \t0.0 \t\t0.0 \t\t0.0 \t\t0.0 \t\t\n",
      "Job3 \t0.0 \t\t0.0 \t\t0.0 \t\t1.0 \t\t\n",
      "Job4 \t0.0 \t\t0.0 \t\t0.0 \t\t0.0 \t\t\n",
      "Job5 \t1.0 \t\t0.0 \t\t0.0 \t\t0.0 \t\t\n",
      "Job6 \t0.3523 \t\t0.6477 \t\t0.0 \t\t0.0 \t\t\n",
      "Job7 \t0.0 \t\t0.0 \t\t0.0 \t\t0.0 \t\t\n",
      "Job8 \t1.0 \t\t0.0 \t\t0.0 \t\t0.0 \t\t\n",
      "Job9 \t0.0 \t\t0.0 \t\t0.0 \t\t0.0 \t\t\n",
      "Job10 \t0.0 \t\t0.0 \t\t1.0 \t\t0.0 \t\t\n",
      "Job11 \t0.0 \t\t0.0 \t\t0.0 \t\t0.0 \t\t\n",
      "Job12 \t1.0 \t\t0.0 \t\t0.0 \t\t0.0 \t\t\n",
      "Job13 \t0.0 \t\t0.0 \t\t0.0 \t\t1.0 \t\t\n",
      "Job14 \t0.3279 \t\t0.0 \t\t0.0 \t\t0.0 \t\t\n",
      "Job15 \t0.0 \t\t0.0 \t\t0.0 \t\t0.0 \t\t\n",
      "Job16 \t0.0 \t\t0.0 \t\t0.0 \t\t0.0 \t\t\n",
      "Job17 \t0.0 \t\t0.0 \t\t0.0 \t\t0.0 \t\t\n",
      "Job18 \t1.0 \t\t0.0 \t\t0.0 \t\t0.0 \t\t\n",
      "Job19 \t0.0 \t\t1.0 \t\t0.0 \t\t0.0 \t\t\n",
      "Job20 \t0.0 \t\t0.0603 \t\t0.375 \t\t0.5647 \t\t\n",
      "Job21 \t0.0 \t\t0.0 \t\t0.0 \t\t0.0 \t\t\n",
      "Job22 \t0.0 \t\t1.0 \t\t0.0 \t\t0.0 \t\t\n",
      "Job23 \t0.0 \t\t0.0 \t\t0.0 \t\t0.0 \t\t\n",
      "Job24 \t0.0 \t\t0.0 \t\t1.0 \t\t0.0 \t\t\n",
      "Job25 \t0.0 \t\t0.0662 \t\t0.2143 \t\t0.2488 \t\t\n",
      "\n",
      "y:\n",
      "30.392857142857146\n"
     ]
    }
   ],
   "source": [
    "# Modeling\n",
    "# add var\n",
    "p3_1 = Model(\"problem3-1\")    # build a new model\n",
    "\n",
    "x = p3_1.addVars(M, N, lb = 0, ub = 1, vtype = GRB.CONTINUOUS, name = \"x\")\n",
    "y = p3_1.addVar(lb = 0, vtype = GRB.CONTINUOUS, name = \"y\")\n",
    "\n",
    "# setting the objective function \n",
    "p3_1.setObjective(\n",
    "    y\n",
    "    , GRB.MAXIMIZE) \n",
    "\n",
    "# add constraints and name them\n",
    "for i in M:\n",
    "    p3_1.addConstr(y <= (quicksum(x[i, j] * b[j] for j in N)), name = f\"min benefit\")\n",
    "    \n",
    "for j in N:\n",
    "    p3_1.addConstr(quicksum(x[i, j] for i in M) <= 1, name = f\"distribute to no more than 1 machine\")\n",
    "    \n",
    "for i in M:\n",
    "    p3_1.addConstr(quicksum(x[i, j] * p[j] for j in N) <= K, name = f\"satisfy capacity\")\n",
    "    \n",
    "p3_1.optimize()\n",
    "\n",
    "# Results\n",
    "print(\"Results:\\n\")\n",
    "\n",
    "# objective value\n",
    "LR_ov = p3_1.objVal\n",
    "print(\"objective value =\", LR_ov)\n",
    "print(\"\")\n",
    "    \n",
    "# x\n",
    "print(\"x:\")\n",
    "print(\"J \\ M\", end=\"\")\n",
    "print(\"\\tMachine1 \\tMachine2 \\tMachine3\")\n",
    "for j in N:\n",
    "    # mark which product is printed now\n",
    "    print(\"Job\" + str(j+1), \"\\t\", end=\"\")\n",
    "    for i in M:\n",
    "        print(round((x[i, j].x), 4), \"\\t\\t\", end=\"\")\n",
    "    print(\"\")    # use for change line\n",
    "print(\"\")\n",
    "\n",
    "# y\n",
    "print(\"y:\")\n",
    "print(y.x)"
   ]
  },
  {
   "cell_type": "markdown",
   "id": "c361ae26-0893-4f8f-97ed-74bc36d112d8",
   "metadata": {},
   "source": [
    "<h2>(c) HBF heuristic algorithm:"
   ]
  },
  {
   "cell_type": "code",
   "execution_count": 4,
   "id": "82492f80-306b-4784-a65b-d9d82236b878",
   "metadata": {},
   "outputs": [
    {
     "name": "stdout",
     "output_type": "stream",
     "text": [
      "job 10 , machine 1\n",
      "job 20 , machine 2\n",
      "job 3 , machine 3\n",
      "job 19 , machine 4\n",
      "job 14 , machine 3\n",
      "job 25 , machine 4\n",
      "job 11 , machine 2\n",
      "job 23 , machine 0\n",
      "job 2 , machine 1\n",
      "job 13 , machine 0\n",
      "job 22 , machine 0\n",
      "job 24 , machine 0\n",
      "job 8 , machine 0\n",
      "job 18 , machine 0\n",
      "job 5 , machine 0\n",
      "job 6 , machine 4\n",
      "job 9 , machine 0\n",
      "job 1 , machine 0\n",
      "job 12 , machine 0\n",
      "job 16 , machine 0\n",
      "job 21 , machine 0\n",
      "job 4 , machine 0\n",
      "job 7 , machine 0\n",
      "job 17 , machine 0\n",
      "job 15 , machine 3\n"
     ]
    },
    {
     "data": {
      "text/plain": [
       "'Accumulated processing time:'"
      ]
     },
     "metadata": {},
     "output_type": "display_data"
    },
    {
     "data": {
      "text/plain": [
       "[14, 14, 15, 15]"
      ]
     },
     "metadata": {},
     "output_type": "display_data"
    },
    {
     "data": {
      "text/plain": [
       "'Accumulated benefits:'"
      ]
     },
     "metadata": {},
     "output_type": "display_data"
    },
    {
     "data": {
      "text/plain": [
       "[23, 23, 23, 28]"
      ]
     },
     "metadata": {},
     "output_type": "display_data"
    },
    {
     "name": "stdout",
     "output_type": "stream",
     "text": [
      "objective value: 23\n"
     ]
    }
   ],
   "source": [
    "# Solve\n",
    "# Step 1: Sorting\n",
    "job_sorted = []\n",
    "for i in N:\n",
    "    job_sorted.append(i)\n",
    "\n",
    "B_bubbleSort(b, job_sorted)\n",
    "'''\n",
    "for i in job_sorted:\n",
    "    print(i, b[i])\n",
    "print(\"\")\n",
    "'''\n",
    "    \n",
    "# Step 2: Scheduling\n",
    "job_to_machine = [0] * n\n",
    "Pm = [0] * m\n",
    "Bm = [0] * m\n",
    "\n",
    "for i in job_sorted:\n",
    "    # sort machine in priority\n",
    "    machine_sorted = []\n",
    "    for k in M:\n",
    "        machine_sorted.append(k)\n",
    "    M_bubbleSort(Bm, machine_sorted)\n",
    "    \n",
    "    # schedule jods to machine\n",
    "    scheduled = False\n",
    "    for j in machine_sorted:\n",
    "        if (Pm[j] + p[i] <= K):\n",
    "            job_to_machine[i] = j\n",
    "            Pm[j] += p[i]\n",
    "            Bm[j] += b[i]\n",
    "            scheduled = True\n",
    "            break         \n",
    "    if (scheduled == False):\n",
    "        job_to_machine[i] = -1\n",
    "        \n",
    "# print results \n",
    "for i in job_sorted:\n",
    "    print(\"job\", i + 1, \", machine\", job_to_machine[i] + 1)\n",
    "display(\"Accumulated processing time:\", Pm)\n",
    "display(\"Accumulated benefits:\", Bm)\n",
    "HBF_ov = min(Bm)\n",
    "print(\"objective value:\", HBF_ov)"
   ]
  },
  {
   "cell_type": "markdown",
   "id": "8924d3a4-47c6-4148-ba05-9a0ffb3c87ed",
   "metadata": {},
   "source": [
    "<h2>(d) HRF heuristic algorithm:"
   ]
  },
  {
   "cell_type": "code",
   "execution_count": 5,
   "id": "8e01becc-443b-41ad-8204-b49347498cad",
   "metadata": {},
   "outputs": [
    {
     "name": "stdout",
     "output_type": "stream",
     "text": [
      "job 20 , machine 1\n",
      "job 6 , machine 2\n",
      "job 12 , machine 3\n",
      "job 8 , machine 4\n",
      "job 18 , machine 3\n",
      "job 13 , machine 2\n",
      "job 19 , machine 4\n",
      "job 22 , machine 3\n",
      "job 24 , machine 1\n",
      "job 10 , machine 2\n",
      "job 3 , machine 1\n",
      "job 1 , machine 4\n",
      "job 5 , machine 3\n",
      "job 14 , machine 0\n",
      "job 25 , machine 0\n",
      "job 2 , machine 0\n",
      "job 9 , machine 0\n",
      "job 23 , machine 0\n",
      "job 15 , machine 4\n",
      "job 16 , machine 0\n",
      "job 11 , machine 0\n",
      "job 4 , machine 0\n",
      "job 7 , machine 0\n",
      "job 21 , machine 0\n",
      "job 17 , machine 0\n"
     ]
    },
    {
     "data": {
      "text/plain": [
       "'Accumulated processing time:'"
      ]
     },
     "metadata": {},
     "output_type": "display_data"
    },
    {
     "data": {
      "text/plain": [
       "[15, 14, 13, 13]"
      ]
     },
     "metadata": {},
     "output_type": "display_data"
    },
    {
     "data": {
      "text/plain": [
       "'Accumulated benefits:'"
      ]
     },
     "metadata": {},
     "output_type": "display_data"
    },
    {
     "data": {
      "text/plain": [
       "[34, 29, 26, 25]"
      ]
     },
     "metadata": {},
     "output_type": "display_data"
    },
    {
     "name": "stdout",
     "output_type": "stream",
     "text": [
      "objective value: 25\n"
     ]
    }
   ],
   "source": [
    "# Solve\n",
    "# Step 1: Sorting\n",
    "job_sorted = []\n",
    "for i in N:\n",
    "    job_sorted.append(i)\n",
    "\n",
    "R_bubbleSort(b, job_sorted)\n",
    "'''\n",
    "for i in job_sorted:\n",
    "    print(i, b[i])\n",
    "print(\"\")\n",
    "'''\n",
    "    \n",
    "# Step 2: Scheduling\n",
    "job_to_machine = [0] * n\n",
    "Pm = [0] * m\n",
    "Bm = [0] * m\n",
    "\n",
    "for i in job_sorted:\n",
    "    # sort machine in priority\n",
    "    machine_sorted = []\n",
    "    for k in M:\n",
    "        machine_sorted.append(k)\n",
    "    M_bubbleSort(Bm, machine_sorted)\n",
    "    \n",
    "    # schedule jods to machine\n",
    "    scheduled = False\n",
    "    for j in machine_sorted:\n",
    "        if (Pm[j] + p[i] <= K):\n",
    "            job_to_machine[i] = j\n",
    "            Pm[j] += p[i]\n",
    "            Bm[j] += b[i]\n",
    "            scheduled = True\n",
    "            break         \n",
    "    if (scheduled == False):\n",
    "        job_to_machine[i] = -1\n",
    "        \n",
    "# print results \n",
    "for i in job_sorted:\n",
    "    print(\"job\", i + 1, \", machine\", job_to_machine[i] + 1)\n",
    "display(\"Accumulated processing time:\", Pm)\n",
    "display(\"Accumulated benefits:\", Bm)\n",
    "HRF_ov = min(Bm)\n",
    "print(\"objective value:\", HRF_ov)"
   ]
  },
  {
   "cell_type": "markdown",
   "id": "07f1bcae-35ae-4946-9b25-f9efb15b815d",
   "metadata": {},
   "source": [
    "<h2>Percentage optimality gap:"
   ]
  },
  {
   "cell_type": "code",
   "execution_count": 6,
   "id": "763a44ae-c304-41ff-a7be-981731ad8e0a",
   "metadata": {},
   "outputs": [
    {
     "name": "stdout",
     "output_type": "stream",
     "text": [
      "HBF optimality gap: 0.2432432432432433\n",
      "HRF optimality gap: 0.17743830787309056\n"
     ]
    }
   ],
   "source": [
    "print(\"HBF optimality gap:\", (LR_ov - HBF_ov) / LR_ov)\n",
    "print(\"HRF optimality gap:\", (LR_ov - HRF_ov) / LR_ov)"
   ]
  },
  {
   "cell_type": "markdown",
   "id": "8dca8538-829a-4399-a7cf-6ec7ec3be834",
   "metadata": {},
   "source": [
    "<h2>Self design heuristic algorithm:"
   ]
  },
  {
   "cell_type": "code",
   "execution_count": 7,
   "id": "77bbe2e9-27c7-4410-b73c-76b679f13170",
   "metadata": {},
   "outputs": [
    {
     "name": "stdout",
     "output_type": "stream",
     "text": [
      "job 20 , machine 1\n",
      "job 6 , machine 2\n",
      "job 12 , machine 3\n",
      "job 8 , machine 4\n",
      "job 18 , machine 3\n",
      "job 19 , machine 2\n",
      "job 13 , machine 4\n",
      "job 22 , machine 3\n",
      "job 24 , machine 1\n",
      "job 10 , machine 4\n",
      "job 3 , machine 2\n",
      "job 1 , machine 3\n",
      "job 5 , machine 1\n",
      "job 14 , machine 0\n",
      "job 25 , machine 0\n",
      "job 2 , machine 0\n",
      "job 9 , machine 0\n",
      "job 23 , machine 0\n",
      "job 16 , machine 0\n",
      "job 15 , machine 3\n",
      "job 11 , machine 0\n",
      "job 4 , machine 0\n",
      "job 7 , machine 0\n",
      "job 21 , machine 0\n",
      "job 17 , machine 0\n"
     ]
    },
    {
     "data": {
      "text/plain": [
       "'Accumulated processing time:'"
      ]
     },
     "metadata": {},
     "output_type": "display_data"
    },
    {
     "data": {
      "text/plain": [
       "[12, 15, 13, 15]"
      ]
     },
     "metadata": {},
     "output_type": "display_data"
    },
    {
     "data": {
      "text/plain": [
       "'Accumulated benefits:'"
      ]
     },
     "metadata": {},
     "output_type": "display_data"
    },
    {
     "data": {
      "text/plain": [
       "[28, 30, 26, 30]"
      ]
     },
     "metadata": {},
     "output_type": "display_data"
    },
    {
     "name": "stdout",
     "output_type": "stream",
     "text": [
      "objective value: 26\n"
     ]
    }
   ],
   "source": [
    "# Solve\n",
    "# Step 1: Sorting\n",
    "job_sorted = []\n",
    "for i in N:\n",
    "    job_sorted.append(i)\n",
    "\n",
    "RB_bubbleSort(b, job_sorted)\n",
    "'''\n",
    "for i in job_sorted:\n",
    "    print(i, b[i])\n",
    "print(\"\")\n",
    "'''\n",
    "    \n",
    "# Step 2: Scheduling\n",
    "job_to_machine = [0] * n\n",
    "Pm = [0] * m\n",
    "Bm = [0] * m\n",
    "\n",
    "for i in job_sorted:\n",
    "    # sort machine in priority\n",
    "    machine_sorted = []\n",
    "    for k in M:\n",
    "        machine_sorted.append(k)\n",
    "    M_bubbleSort(Bm, machine_sorted)\n",
    "    \n",
    "    # schedule jods to machine\n",
    "    scheduled = False\n",
    "    for j in machine_sorted:\n",
    "        if (Pm[j] + p[i] <= K):\n",
    "            job_to_machine[i] = j\n",
    "            Pm[j] += p[i]\n",
    "            Bm[j] += b[i]\n",
    "            scheduled = True\n",
    "            break         \n",
    "    if (scheduled == False):\n",
    "        job_to_machine[i] = -1\n",
    "        \n",
    "# print results \n",
    "for i in job_sorted:\n",
    "    print(\"job\", i + 1, \", machine\", job_to_machine[i] + 1)\n",
    "display(\"Accumulated processing time:\", Pm)\n",
    "display(\"Accumulated benefits:\", Bm)\n",
    "HRBF_ov = min(Bm)\n",
    "print(\"objective value:\", HRBF_ov)"
   ]
  },
  {
   "cell_type": "markdown",
   "id": "efd2b29c-360b-4bdf-9f25-d70d2822daa2",
   "metadata": {},
   "source": [
    "<h2>Percentage optimality gap:"
   ]
  },
  {
   "cell_type": "code",
   "execution_count": 8,
   "id": "20520949-bbc2-4760-b4ee-36b0b2cbfb73",
   "metadata": {},
   "outputs": [
    {
     "name": "stdout",
     "output_type": "stream",
     "text": [
      "HRBF optimality gap: 0.1445358401880142\n"
     ]
    }
   ],
   "source": [
    "print(\"HRBF optimality gap:\", (LR_ov - HRBF_ov) / LR_ov)"
   ]
  }
 ],
 "metadata": {
  "kernelspec": {
   "display_name": "Python 3 (ipykernel)",
   "language": "python",
   "name": "python3"
  },
  "language_info": {
   "codemirror_mode": {
    "name": "ipython",
    "version": 3
   },
   "file_extension": ".py",
   "mimetype": "text/x-python",
   "name": "python",
   "nbconvert_exporter": "python",
   "pygments_lexer": "ipython3",
   "version": "3.9.7"
  }
 },
 "nbformat": 4,
 "nbformat_minor": 5
}
