{
 "cells": [
  {
   "cell_type": "markdown",
   "metadata": {},
   "source": [
    "# OR hw2"
   ]
  },
  {
   "cell_type": "code",
   "execution_count": 1,
   "metadata": {},
   "outputs": [],
   "source": [
    "import pandas as pd\n",
    "import openpyxl\n",
    "from gurobipy import *"
   ]
  },
  {
   "cell_type": "markdown",
   "metadata": {},
   "source": [
    "## Gurobi"
   ]
  },
  {
   "cell_type": "markdown",
   "metadata": {},
   "source": [
    "### Constant Data – part (b) instance"
   ]
  },
  {
   "cell_type": "code",
   "execution_count": 2,
   "metadata": {},
   "outputs": [],
   "source": [
    "# 有任何問題歡迎寄信詢問助教 b07705036@ntu.edu.tw\n",
    "I = 3 # machine num\n",
    "J = 10 # job num\n",
    "machines = range(0, I)\n",
    "jobs = range(0, J)"
   ]
  },
  {
   "cell_type": "code",
   "execution_count": 3,
   "metadata": {},
   "outputs": [],
   "source": [
    "# process time for job j\n",
    "p = [3, 6, 5, 4, 1, 8, 5, 12, 7, 6]\n",
    "\n",
    "# benefit for job j\n",
    "b = [5, 8, 4, 6, 3, 7, 6, 9, 5, 8]\n",
    "\n",
    "# machine capacity\n",
    "K = 15"
   ]
  },
  {
   "cell_type": "markdown",
   "metadata": {},
   "source": [
    "### Constant Data – part (c) instance"
   ]
  },
  {
   "cell_type": "code",
   "execution_count": 4,
   "metadata": {},
   "outputs": [],
   "source": [
    "I = 4 # machine num\n",
    "J = 25 # job num\n",
    "machines = range(0, I)\n",
    "jobs = range(0, J)"
   ]
  },
  {
   "cell_type": "code",
   "execution_count": 5,
   "metadata": {},
   "outputs": [],
   "source": [
    "# process time for job j\n",
    "p = [3, 6, 7, 5, 4, 2, 6, 3, 5, 8, 10, 2, 4, 7, 1, 5, 8, 3, 6, 4, 12, 4, 8, 4, 7]\n",
    "\n",
    "# benefit for job j\n",
    "b = [5, 8, 12, 4, 6, 6, 3, 7, 6, 15, 9, 5, 8, 10, 1, 5, 3, 7, 12, 14, 5, 8, 9, 8, 10]\n",
    "\n",
    "# machine capacity\n",
    "K = 15"
   ]
  },
  {
   "cell_type": "markdown",
   "metadata": {},
   "source": [
    "### Decision variable"
   ]
  },
  {
   "cell_type": "code",
   "execution_count": 6,
   "metadata": {},
   "outputs": [
    {
     "name": "stdout",
     "output_type": "stream",
     "text": [
      "\n",
      "--------------------------------------------\n",
      "Warning: your license will expire in 8 days\n",
      "--------------------------------------------\n",
      "\n",
      "Academic license - for non-commercial use only - expires 2022-05-07\n",
      "Using license file /Users/linyuanting/gurobi.lic\n"
     ]
    }
   ],
   "source": [
    "Q3 = Model('Q3')\n",
    "\n",
    "# x_ij = 0 if job j is assigned to machine i\n",
    "x = {}\n",
    "for i in machines:\n",
    "    x[i] = {}\n",
    "    for j in jobs:\n",
    "        x[i][j] = Q3.addVar(lb = 0, vtype = GRB.CONTINUOUS, name = \"x_\" + str(i) + \",\" + str(j))\n",
    "\n",
    "w = Q3.addVar(lb = 0, vtype = GRB.CONTINUOUS, name = \"w\")\n",
    "\n",
    "Q3.update()"
   ]
  },
  {
   "cell_type": "markdown",
   "metadata": {},
   "source": [
    "### Setting the objective function"
   ]
  },
  {
   "cell_type": "code",
   "execution_count": 7,
   "metadata": {},
   "outputs": [],
   "source": [
    "Q3.setObjective(w, GRB.MAXIMIZE)"
   ]
  },
  {
   "cell_type": "markdown",
   "metadata": {},
   "source": [
    "### Add constraints"
   ]
  },
  {
   "cell_type": "code",
   "execution_count": 8,
   "metadata": {},
   "outputs": [],
   "source": [
    "Q3.addConstrs((w <= quicksum(b[j] * x[i][j] for j in jobs) for i in machines), 'least benefit machine')\n",
    "Q3.addConstrs((quicksum(x[i][j] for i in machines) <= 1 for j in jobs), 'each job assigned to exactly one machine')\n",
    "Q3.addConstrs((quicksum(p[j] * x[i][j] for j in jobs) <= K for i in machines), 'machine capacity')\n",
    "\n",
    "Q3.update()"
   ]
  },
  {
   "cell_type": "code",
   "execution_count": 9,
   "metadata": {},
   "outputs": [
    {
     "name": "stdout",
     "output_type": "stream",
     "text": [
      "Gurobi Optimizer version 9.1.1 build v9.1.1rc0 (mac64)\n",
      "Thread count: 2 physical cores, 4 logical processors, using up to 4 threads\n",
      "Optimize a model with 33 rows, 101 columns and 304 nonzeros\n",
      "Model fingerprint: 0xa40dd69d\n",
      "Coefficient statistics:\n",
      "  Matrix range     [1e+00, 2e+01]\n",
      "  Objective range  [1e+00, 1e+00]\n",
      "  Bounds range     [0e+00, 0e+00]\n",
      "  RHS range        [1e+00, 2e+01]\n",
      "Presolve time: 0.01s\n",
      "Presolved: 33 rows, 101 columns, 304 nonzeros\n",
      "\n",
      "Iteration    Objective       Primal Inf.    Dual Inf.      Time\n",
      "       0    8.0000000e+30   4.000000e+30   8.000000e+00      0s\n",
      "      40    3.0392857e+01   0.000000e+00   0.000000e+00      0s\n",
      "\n",
      "Solved in 40 iterations and 0.01 seconds\n",
      "Optimal objective  3.039285714e+01\n"
     ]
    }
   ],
   "source": [
    "Q3.optimize()"
   ]
  },
  {
   "cell_type": "code",
   "execution_count": 10,
   "metadata": {},
   "outputs": [
    {
     "name": "stdout",
     "output_type": "stream",
     "text": [
      "objective value = 30.39285714285714\n"
     ]
    }
   ],
   "source": [
    "upper_bound = Q3.objVal\n",
    "print(\"objective value =\", Q3.objVal)"
   ]
  },
  {
   "cell_type": "markdown",
   "metadata": {},
   "source": [
    "## Results"
   ]
  },
  {
   "cell_type": "code",
   "execution_count": 11,
   "metadata": {},
   "outputs": [],
   "source": [
    "x_opt = {}\n",
    "\n",
    "for i in machines:\n",
    "    x_opt[i] = {}\n",
    "    for j in jobs:\n",
    "        x_opt[i][j] = {}\n",
    "\n",
    "for var in Q3.getVars():\n",
    "    index = [i for i in var.varName[2:].split(',')]\n",
    "    if var.varName[0] == 'x':\n",
    "        x_opt[int(index[0])][int(index[1])] = var.x"
   ]
  },
  {
   "cell_type": "code",
   "execution_count": 12,
   "metadata": {},
   "outputs": [
    {
     "data": {
      "text/html": [
       "<div>\n",
       "<style scoped>\n",
       "    .dataframe tbody tr th:only-of-type {\n",
       "        vertical-align: middle;\n",
       "    }\n",
       "\n",
       "    .dataframe tbody tr th {\n",
       "        vertical-align: top;\n",
       "    }\n",
       "\n",
       "    .dataframe thead th {\n",
       "        text-align: right;\n",
       "    }\n",
       "</style>\n",
       "<table border=\"1\" class=\"dataframe\">\n",
       "  <thead>\n",
       "    <tr style=\"text-align: right;\">\n",
       "      <th></th>\n",
       "      <th>0</th>\n",
       "      <th>1</th>\n",
       "      <th>2</th>\n",
       "      <th>3</th>\n",
       "    </tr>\n",
       "  </thead>\n",
       "  <tbody>\n",
       "    <tr>\n",
       "      <th>0</th>\n",
       "      <td>0.000000</td>\n",
       "      <td>0.000000</td>\n",
       "      <td>1.000000</td>\n",
       "      <td>0.000000</td>\n",
       "    </tr>\n",
       "    <tr>\n",
       "      <th>1</th>\n",
       "      <td>0.000000</td>\n",
       "      <td>0.000000</td>\n",
       "      <td>0.000000</td>\n",
       "      <td>0.000000</td>\n",
       "    </tr>\n",
       "    <tr>\n",
       "      <th>2</th>\n",
       "      <td>0.000000</td>\n",
       "      <td>1.000000</td>\n",
       "      <td>0.000000</td>\n",
       "      <td>0.000000</td>\n",
       "    </tr>\n",
       "    <tr>\n",
       "      <th>3</th>\n",
       "      <td>0.000000</td>\n",
       "      <td>0.000000</td>\n",
       "      <td>0.000000</td>\n",
       "      <td>0.000000</td>\n",
       "    </tr>\n",
       "    <tr>\n",
       "      <th>4</th>\n",
       "      <td>1.000000</td>\n",
       "      <td>0.000000</td>\n",
       "      <td>0.000000</td>\n",
       "      <td>0.000000</td>\n",
       "    </tr>\n",
       "    <tr>\n",
       "      <th>5</th>\n",
       "      <td>1.000000</td>\n",
       "      <td>0.000000</td>\n",
       "      <td>0.000000</td>\n",
       "      <td>0.000000</td>\n",
       "    </tr>\n",
       "    <tr>\n",
       "      <th>6</th>\n",
       "      <td>0.000000</td>\n",
       "      <td>0.000000</td>\n",
       "      <td>0.000000</td>\n",
       "      <td>0.000000</td>\n",
       "    </tr>\n",
       "    <tr>\n",
       "      <th>7</th>\n",
       "      <td>0.000000</td>\n",
       "      <td>0.000000</td>\n",
       "      <td>1.000000</td>\n",
       "      <td>0.000000</td>\n",
       "    </tr>\n",
       "    <tr>\n",
       "      <th>8</th>\n",
       "      <td>0.000000</td>\n",
       "      <td>0.000000</td>\n",
       "      <td>0.000000</td>\n",
       "      <td>0.000000</td>\n",
       "    </tr>\n",
       "    <tr>\n",
       "      <th>9</th>\n",
       "      <td>0.000000</td>\n",
       "      <td>0.000000</td>\n",
       "      <td>1.000000</td>\n",
       "      <td>0.000000</td>\n",
       "    </tr>\n",
       "    <tr>\n",
       "      <th>10</th>\n",
       "      <td>0.000000</td>\n",
       "      <td>0.000000</td>\n",
       "      <td>0.000000</td>\n",
       "      <td>0.000000</td>\n",
       "    </tr>\n",
       "    <tr>\n",
       "      <th>11</th>\n",
       "      <td>1.000000</td>\n",
       "      <td>0.000000</td>\n",
       "      <td>0.000000</td>\n",
       "      <td>0.000000</td>\n",
       "    </tr>\n",
       "    <tr>\n",
       "      <th>12</th>\n",
       "      <td>0.000000</td>\n",
       "      <td>0.000000</td>\n",
       "      <td>0.000000</td>\n",
       "      <td>1.000000</td>\n",
       "    </tr>\n",
       "    <tr>\n",
       "      <th>13</th>\n",
       "      <td>0.566502</td>\n",
       "      <td>0.000000</td>\n",
       "      <td>0.000000</td>\n",
       "      <td>0.290640</td>\n",
       "    </tr>\n",
       "    <tr>\n",
       "      <th>14</th>\n",
       "      <td>0.000000</td>\n",
       "      <td>0.000000</td>\n",
       "      <td>0.000000</td>\n",
       "      <td>0.000000</td>\n",
       "    </tr>\n",
       "    <tr>\n",
       "      <th>15</th>\n",
       "      <td>0.000000</td>\n",
       "      <td>0.000000</td>\n",
       "      <td>0.000000</td>\n",
       "      <td>0.000000</td>\n",
       "    </tr>\n",
       "    <tr>\n",
       "      <th>16</th>\n",
       "      <td>0.000000</td>\n",
       "      <td>0.000000</td>\n",
       "      <td>0.000000</td>\n",
       "      <td>0.000000</td>\n",
       "    </tr>\n",
       "    <tr>\n",
       "      <th>17</th>\n",
       "      <td>0.826531</td>\n",
       "      <td>0.173469</td>\n",
       "      <td>0.000000</td>\n",
       "      <td>0.000000</td>\n",
       "    </tr>\n",
       "    <tr>\n",
       "      <th>18</th>\n",
       "      <td>0.000000</td>\n",
       "      <td>1.000000</td>\n",
       "      <td>0.000000</td>\n",
       "      <td>0.000000</td>\n",
       "    </tr>\n",
       "    <tr>\n",
       "      <th>19</th>\n",
       "      <td>0.138723</td>\n",
       "      <td>0.369898</td>\n",
       "      <td>0.232143</td>\n",
       "      <td>0.259236</td>\n",
       "    </tr>\n",
       "    <tr>\n",
       "      <th>20</th>\n",
       "      <td>0.000000</td>\n",
       "      <td>0.000000</td>\n",
       "      <td>0.000000</td>\n",
       "      <td>0.000000</td>\n",
       "    </tr>\n",
       "    <tr>\n",
       "      <th>21</th>\n",
       "      <td>0.000000</td>\n",
       "      <td>0.000000</td>\n",
       "      <td>0.000000</td>\n",
       "      <td>1.000000</td>\n",
       "    </tr>\n",
       "    <tr>\n",
       "      <th>22</th>\n",
       "      <td>0.000000</td>\n",
       "      <td>0.000000</td>\n",
       "      <td>0.000000</td>\n",
       "      <td>0.000000</td>\n",
       "    </tr>\n",
       "    <tr>\n",
       "      <th>23</th>\n",
       "      <td>0.000000</td>\n",
       "      <td>0.000000</td>\n",
       "      <td>0.017857</td>\n",
       "      <td>0.982143</td>\n",
       "    </tr>\n",
       "    <tr>\n",
       "      <th>24</th>\n",
       "      <td>0.000000</td>\n",
       "      <td>0.000000</td>\n",
       "      <td>0.000000</td>\n",
       "      <td>0.000000</td>\n",
       "    </tr>\n",
       "  </tbody>\n",
       "</table>\n",
       "</div>"
      ],
      "text/plain": [
       "           0         1         2         3\n",
       "0   0.000000  0.000000  1.000000  0.000000\n",
       "1   0.000000  0.000000  0.000000  0.000000\n",
       "2   0.000000  1.000000  0.000000  0.000000\n",
       "3   0.000000  0.000000  0.000000  0.000000\n",
       "4   1.000000  0.000000  0.000000  0.000000\n",
       "5   1.000000  0.000000  0.000000  0.000000\n",
       "6   0.000000  0.000000  0.000000  0.000000\n",
       "7   0.000000  0.000000  1.000000  0.000000\n",
       "8   0.000000  0.000000  0.000000  0.000000\n",
       "9   0.000000  0.000000  1.000000  0.000000\n",
       "10  0.000000  0.000000  0.000000  0.000000\n",
       "11  1.000000  0.000000  0.000000  0.000000\n",
       "12  0.000000  0.000000  0.000000  1.000000\n",
       "13  0.566502  0.000000  0.000000  0.290640\n",
       "14  0.000000  0.000000  0.000000  0.000000\n",
       "15  0.000000  0.000000  0.000000  0.000000\n",
       "16  0.000000  0.000000  0.000000  0.000000\n",
       "17  0.826531  0.173469  0.000000  0.000000\n",
       "18  0.000000  1.000000  0.000000  0.000000\n",
       "19  0.138723  0.369898  0.232143  0.259236\n",
       "20  0.000000  0.000000  0.000000  0.000000\n",
       "21  0.000000  0.000000  0.000000  1.000000\n",
       "22  0.000000  0.000000  0.000000  0.000000\n",
       "23  0.000000  0.000000  0.017857  0.982143\n",
       "24  0.000000  0.000000  0.000000  0.000000"
      ]
     },
     "execution_count": 12,
     "metadata": {},
     "output_type": "execute_result"
    }
   ],
   "source": [
    "pd.DataFrame(x_opt)"
   ]
  },
  {
   "cell_type": "markdown",
   "metadata": {},
   "source": [
    "## Heuristic – HBF (highest benefit first)"
   ]
  },
  {
   "cell_type": "markdown",
   "metadata": {},
   "source": [
    "### Constant Data – part (b) instance"
   ]
  },
  {
   "cell_type": "code",
   "execution_count": 13,
   "metadata": {},
   "outputs": [],
   "source": [
    "I = 3 # machine num\n",
    "J = 10 # job num\n",
    "machines = range(0, I)\n",
    "jobs = range(0, J)"
   ]
  },
  {
   "cell_type": "code",
   "execution_count": 14,
   "metadata": {},
   "outputs": [],
   "source": [
    "# process time for job j\n",
    "p = [3, 6, 5, 4, 1, 8, 5, 12, 7, 6]\n",
    "\n",
    "# benefit for job j\n",
    "b = [5, 8, 4, 6, 3, 7, 6, 9, 5, 8]\n",
    "\n",
    "# machine capacity\n",
    "K = 15"
   ]
  },
  {
   "cell_type": "markdown",
   "metadata": {},
   "source": [
    "### Constant Data – part (c) instance"
   ]
  },
  {
   "cell_type": "code",
   "execution_count": 15,
   "metadata": {},
   "outputs": [],
   "source": [
    "I = 4 # machine num\n",
    "J = 25 # job num\n",
    "machines = range(0, I)\n",
    "jobs = range(0, J)"
   ]
  },
  {
   "cell_type": "code",
   "execution_count": 16,
   "metadata": {},
   "outputs": [],
   "source": [
    "# process time for job j\n",
    "p = [3, 6, 7, 5, 4, 2, 6, 3, 5, 8, 10, 2, 4, 7, 1, 5, 8, 3, 6, 4, 12, 4, 8, 4, 7]\n",
    "\n",
    "# benefit for job j\n",
    "b = [5, 8, 12, 4, 6, 6, 3, 7, 6, 15, 9, 5, 8, 10, 1, 5, 3, 7, 12, 14, 5, 8, 9, 8, 10]\n",
    "\n",
    "# machine capacity\n",
    "K = 15"
   ]
  },
  {
   "cell_type": "code",
   "execution_count": 17,
   "metadata": {},
   "outputs": [
    {
     "name": "stdout",
     "output_type": "stream",
     "text": [
      "[(15, 8, 10), (14, 4, 20), (12, 7, 3), (12, 6, 19), (10, 7, 14), (10, 7, 25), (9, 10, 11), (9, 8, 23), (8, 6, 2), (8, 4, 13), (8, 4, 22), (8, 4, 24), (7, 3, 8), (7, 3, 18), (6, 4, 5), (6, 2, 6), (6, 5, 9), (5, 3, 1), (5, 2, 12), (5, 5, 16), (5, 12, 21), (4, 5, 4), (3, 6, 7), (3, 8, 17), (1, 1, 15)]\n"
     ]
    }
   ],
   "source": [
    "# [b, p, index] * job num\n",
    "job_list = list(zip(b, p, range(1, J+1)))\n",
    "job_list.sort(key=lambda x: (-x[0], x[2]))\n",
    "print(job_list)"
   ]
  },
  {
   "cell_type": "code",
   "execution_count": 18,
   "metadata": {},
   "outputs": [
    {
     "name": "stdout",
     "output_type": "stream",
     "text": [
      "b = [0, 0, 0, 15] p = [0, 0, 0, 8]\n",
      "b = [0, 0, 14, 15] p = [0, 0, 4, 8]\n",
      "b = [0, 12, 14, 15] p = [0, 7, 4, 8]\n",
      "b = [12, 12, 14, 15] p = [7, 6, 4, 8]\n",
      "b = [12, 14, 15, 22] p = [6, 4, 8, 14]\n",
      "b = [14, 15, 22, 22] p = [4, 8, 14, 13]\n",
      "b = [15, 22, 22, 23] p = [8, 14, 13, 14]\n",
      "b = [22, 22, 23, 23] p = [14, 13, 14, 14]\n",
      "b = [22, 23, 23, 28] p = [14, 14, 14, 15]\n",
      "b = [23, 23, 23, 28] p = [14, 14, 15, 15]\n"
     ]
    }
   ],
   "source": [
    "# [current benefit, current process time, assigned job list, index] * machine num\n",
    "machine_list = [[0, 0, [], i+1] for i in machines]\n",
    "for j in jobs:\n",
    "    for i in machines:\n",
    "        if machine_list[i][1] + job_list[j][1] <= K:\n",
    "            machine_list[i][0] += job_list[j][0]\n",
    "            machine_list[i][1] += job_list[j][1]\n",
    "            machine_list[i][2].append(job_list[j][2])\n",
    "            machine_list.sort(key=lambda x: (x[0], x[3]))\n",
    "            print('b =', [machine_list[k][0] for k in machines], 'p =', [machine_list[k][1] for k in machines])\n",
    "            break"
   ]
  },
  {
   "cell_type": "code",
   "execution_count": 19,
   "metadata": {},
   "outputs": [
    {
     "data": {
      "text/plain": [
       "[[23, 14, [10, 2], 1],\n",
       " [23, 14, [20, 11], 2],\n",
       " [23, 15, [3, 14, 15], 3],\n",
       " [28, 15, [19, 25, 6], 4]]"
      ]
     },
     "execution_count": 19,
     "metadata": {},
     "output_type": "execute_result"
    }
   ],
   "source": [
    "machine_list"
   ]
  },
  {
   "cell_type": "code",
   "execution_count": 20,
   "metadata": {},
   "outputs": [
    {
     "name": "stdout",
     "output_type": "stream",
     "text": [
      "optimality gap = 0.24324324324324315\n"
     ]
    }
   ],
   "source": [
    "optimality_gap = (upper_bound - machine_list[0][0]) / upper_bound\n",
    "print(\"optimality gap =\", optimality_gap)"
   ]
  },
  {
   "cell_type": "markdown",
   "metadata": {},
   "source": [
    "## Heuristic – HRF (highest ratio first)"
   ]
  },
  {
   "cell_type": "markdown",
   "metadata": {},
   "source": [
    "### Constant Data – part (b) instance"
   ]
  },
  {
   "cell_type": "code",
   "execution_count": 21,
   "metadata": {},
   "outputs": [],
   "source": [
    "I = 3 # machine num\n",
    "J = 10 # job num\n",
    "machines = range(0, I)\n",
    "jobs = range(0, J)"
   ]
  },
  {
   "cell_type": "code",
   "execution_count": 22,
   "metadata": {},
   "outputs": [],
   "source": [
    "# process time for job j\n",
    "p = [3, 6, 5, 4, 1, 8, 5, 12, 7, 6]\n",
    "\n",
    "# benefit for job j\n",
    "b = [5, 8, 4, 6, 3, 7, 6, 9, 5, 8]\n",
    "\n",
    "# machine capacity\n",
    "K = 15"
   ]
  },
  {
   "cell_type": "markdown",
   "metadata": {},
   "source": [
    "### Constant Data – part (c) instance"
   ]
  },
  {
   "cell_type": "code",
   "execution_count": 23,
   "metadata": {},
   "outputs": [],
   "source": [
    "I = 4 # machine num\n",
    "J = 25 # job num\n",
    "machines = range(0, I)\n",
    "jobs = range(0, J)"
   ]
  },
  {
   "cell_type": "code",
   "execution_count": 24,
   "metadata": {},
   "outputs": [],
   "source": [
    "# process time for job j\n",
    "p = [3, 6, 7, 5, 4, 2, 6, 3, 5, 8, 10, 2, 4, 7, 1, 5, 8, 3, 6, 4, 12, 4, 8, 4, 7]\n",
    "\n",
    "# benefit for job j\n",
    "b = [5, 8, 12, 4, 6, 6, 3, 7, 6, 15, 9, 5, 8, 10, 1, 5, 3, 7, 12, 14, 5, 8, 9, 8, 10]\n",
    "\n",
    "# machine capacity\n",
    "K = 15"
   ]
  },
  {
   "cell_type": "code",
   "execution_count": 25,
   "metadata": {},
   "outputs": [
    {
     "name": "stdout",
     "output_type": "stream",
     "text": [
      "[(14, 4, 20), (6, 2, 6), (5, 2, 12), (7, 3, 8), (7, 3, 18), (8, 4, 13), (12, 6, 19), (8, 4, 22), (8, 4, 24), (15, 8, 10), (12, 7, 3), (5, 3, 1), (6, 4, 5), (10, 7, 14), (10, 7, 25), (8, 6, 2), (6, 5, 9), (9, 8, 23), (1, 1, 15), (5, 5, 16), (9, 10, 11), (4, 5, 4), (3, 6, 7), (5, 12, 21), (3, 8, 17)]\n"
     ]
    }
   ],
   "source": [
    "# [b, p, index] * job num\n",
    "job_list = list(zip(b, p, range(1, J+1)))\n",
    "job_list.sort(key=lambda x: (-x[0]/x[1], x[2]))\n",
    "print(job_list)"
   ]
  },
  {
   "cell_type": "code",
   "execution_count": 26,
   "metadata": {},
   "outputs": [
    {
     "name": "stdout",
     "output_type": "stream",
     "text": [
      "b = [0, 0, 0, 14] p = [0, 0, 0, 4]\n",
      "b = [0, 0, 6, 14] p = [0, 0, 2, 4]\n",
      "b = [0, 5, 6, 14] p = [0, 2, 2, 4]\n",
      "b = [5, 6, 7, 14] p = [2, 2, 3, 4]\n",
      "b = [6, 7, 12, 14] p = [2, 3, 5, 4]\n",
      "b = [7, 12, 14, 14] p = [3, 5, 4, 6]\n",
      "b = [12, 14, 14, 19] p = [5, 4, 6, 9]\n",
      "b = [14, 14, 19, 20] p = [4, 6, 9, 9]\n",
      "b = [14, 19, 20, 22] p = [6, 9, 9, 8]\n",
      "b = [19, 20, 22, 29] p = [9, 9, 8, 14]\n",
      "b = [19, 20, 29, 34] p = [9, 9, 14, 15]\n",
      "b = [20, 24, 29, 34] p = [9, 12, 14, 15]\n",
      "b = [24, 26, 29, 34] p = [12, 13, 14, 15]\n",
      "b = [25, 26, 29, 34] p = [13, 13, 14, 15]\n"
     ]
    }
   ],
   "source": [
    "# [current benefit, current process time, assigned job list, index] * machine num\n",
    "machine_list = [[0, 0, [], i+1] for i in machines]\n",
    "for j in jobs:\n",
    "    for i in machines:\n",
    "        if machine_list[i][1] + job_list[j][1] <= K:\n",
    "            machine_list[i][0] += job_list[j][0]\n",
    "            machine_list[i][1] += job_list[j][1]\n",
    "            machine_list[i][2].append(job_list[j][2])\n",
    "            machine_list.sort(key=lambda x: (x[0], x[3]))\n",
    "            print('b =', [machine_list[k][0] for k in machines], 'p =', [machine_list[k][1] for k in machines])\n",
    "            break"
   ]
  },
  {
   "cell_type": "code",
   "execution_count": 27,
   "metadata": {},
   "outputs": [
    {
     "data": {
      "text/plain": [
       "[[25, 13, [8, 19, 1, 15], 4],\n",
       " [26, 13, [12, 18, 22, 5], 3],\n",
       " [29, 14, [6, 13, 10], 2],\n",
       " [34, 15, [20, 24, 3], 1]]"
      ]
     },
     "execution_count": 27,
     "metadata": {},
     "output_type": "execute_result"
    }
   ],
   "source": [
    "machine_list"
   ]
  },
  {
   "cell_type": "code",
   "execution_count": 28,
   "metadata": {},
   "outputs": [
    {
     "name": "stdout",
     "output_type": "stream",
     "text": [
      "optimality gap = 0.17743830787309037\n"
     ]
    }
   ],
   "source": [
    "optimality_gap = (upper_bound - machine_list[0][0]) / upper_bound\n",
    "print(\"optimality gap =\", optimality_gap)"
   ]
  },
  {
   "cell_type": "markdown",
   "metadata": {},
   "source": [
    "## testing data"
   ]
  },
  {
   "cell_type": "code",
   "execution_count": 29,
   "metadata": {},
   "outputs": [],
   "source": [
    "# 生測資\n",
    "import random\n",
    "import math\n",
    "\n",
    "for i in range(1, 21):\n",
    "    path = 'in' + f'{i:02d}' + '.txt'\n",
    "    m = random.randint(3,5)\n",
    "    n = 5 * random.randint(5,9)\n",
    "    b = [random.choice(range(1, 21)) for i in range(n)]\n",
    "    p = [random.choice(range(1, 21)) for i in range(n)]\n",
    "    K = math.ceil(3 * sum(p) / 4 / m)\n",
    "    with open(path, 'w') as f:\n",
    "        f.write(f'{m} {n} {K}\\n')\n",
    "        f.write(f'{\" \".join(str(x) for x in b)}\\n')\n",
    "        f.write(f'{\" \".join(str(x) for x in p)}')"
   ]
  },
  {
   "cell_type": "code",
   "execution_count": 30,
   "metadata": {},
   "outputs": [],
   "source": [
    "# 讀測資\n",
    "import os\n",
    "\n",
    "m = []\n",
    "n = []\n",
    "K = []\n",
    "b = []\n",
    "p = []\n",
    "\n",
    "for i in range(1, 21):\n",
    "    path = 'OR110-2_hw02_data/in' + f'{i:02d}' + '.txt'\n",
    "    text = []\n",
    "    with open(path, 'r') as f:\n",
    "        for line in f.readlines():\n",
    "            text.append(line)\n",
    "    temp = text[0].split()\n",
    "    m.append(int(temp[0]))\n",
    "    n.append(int(temp[1]))\n",
    "    K.append(int(temp[2]))\n",
    "    b.append(list(map(int, text[1].split())))\n",
    "    p.append(list(map(int, text[2].split())))"
   ]
  },
  {
   "cell_type": "markdown",
   "metadata": {},
   "source": [
    "### Gurobi"
   ]
  },
  {
   "cell_type": "code",
   "execution_count": 31,
   "metadata": {
    "collapsed": true,
    "jupyter": {
     "outputs_hidden": true
    }
   },
   "outputs": [
    {
     "name": "stdout",
     "output_type": "stream",
     "text": [
      "Gurobi Optimizer version 9.1.1 build v9.1.1rc0 (mac64)\n",
      "Thread count: 2 physical cores, 4 logical processors, using up to 4 threads\n",
      "Optimize a model with 51 rows, 136 columns and 408 nonzeros\n",
      "Model fingerprint: 0x68a81142\n",
      "Coefficient statistics:\n",
      "  Matrix range     [1e+00, 2e+01]\n",
      "  Objective range  [1e+00, 1e+00]\n",
      "  Bounds range     [0e+00, 0e+00]\n",
      "  RHS range        [1e+00, 1e+02]\n",
      "Presolve time: 0.01s\n",
      "Presolved: 51 rows, 136 columns, 408 nonzeros\n",
      "\n",
      "Iteration    Objective       Primal Inf.    Dual Inf.      Time\n",
      "       0    8.0000000e+30   3.000000e+30   8.000000e+00      0s\n",
      "      96    1.4670000e+02   0.000000e+00   0.000000e+00      0s\n",
      "\n",
      "Solved in 96 iterations and 0.01 seconds\n",
      "Optimal objective  1.467000000e+02\n",
      "Gurobi Optimizer version 9.1.1 build v9.1.1rc0 (mac64)\n",
      "Thread count: 2 physical cores, 4 logical processors, using up to 4 threads\n",
      "Optimize a model with 53 rows, 181 columns and 544 nonzeros\n",
      "Model fingerprint: 0xbab0a4e6\n",
      "Coefficient statistics:\n",
      "  Matrix range     [1e+00, 2e+01]\n",
      "  Objective range  [1e+00, 1e+00]\n",
      "  Bounds range     [0e+00, 0e+00]\n",
      "  RHS range        [1e+00, 9e+01]\n",
      "Presolve time: 0.01s\n",
      "Presolved: 53 rows, 181 columns, 544 nonzeros\n",
      "\n",
      "Iteration    Objective       Primal Inf.    Dual Inf.      Time\n",
      "       0    8.0000000e+30   4.000000e+30   8.000000e+00      0s\n",
      "      85    9.5279412e+01   0.000000e+00   0.000000e+00      0s\n",
      "\n",
      "Solved in 85 iterations and 0.01 seconds\n",
      "Optimal objective  9.527941176e+01\n",
      "Gurobi Optimizer version 9.1.1 build v9.1.1rc0 (mac64)\n",
      "Thread count: 2 physical cores, 4 logical processors, using up to 4 threads\n",
      "Optimize a model with 40 rows, 151 columns and 455 nonzeros\n",
      "Model fingerprint: 0xd3c0c2cc\n",
      "Coefficient statistics:\n",
      "  Matrix range     [1e+00, 2e+01]\n",
      "  Objective range  [1e+00, 1e+00]\n",
      "  Bounds range     [0e+00, 0e+00]\n",
      "  RHS range        [1e+00, 5e+01]\n",
      "Presolve time: 0.01s\n",
      "Presolved: 40 rows, 151 columns, 455 nonzeros\n",
      "\n",
      "Iteration    Objective       Primal Inf.    Dual Inf.      Time\n",
      "       0    8.0000000e+30   5.000000e+30   8.000000e+00      0s\n",
      "      83    5.4720000e+01   0.000000e+00   0.000000e+00      0s\n",
      "\n",
      "Solved in 83 iterations and 0.01 seconds\n",
      "Optimal objective  5.472000000e+01\n",
      "Gurobi Optimizer version 9.1.1 build v9.1.1rc0 (mac64)\n",
      "Thread count: 2 physical cores, 4 logical processors, using up to 4 threads\n",
      "Optimize a model with 51 rows, 136 columns and 408 nonzeros\n",
      "Model fingerprint: 0x18df9edf\n",
      "Coefficient statistics:\n",
      "  Matrix range     [1e+00, 2e+01]\n",
      "  Objective range  [1e+00, 1e+00]\n",
      "  Bounds range     [0e+00, 0e+00]\n",
      "  RHS range        [1e+00, 1e+02]\n",
      "Presolve time: 0.01s\n",
      "Presolved: 51 rows, 136 columns, 408 nonzeros\n",
      "\n",
      "Iteration    Objective       Primal Inf.    Dual Inf.      Time\n",
      "       0    8.0000000e+30   3.000000e+30   8.000000e+00      0s\n",
      "      71    1.4436842e+02   0.000000e+00   0.000000e+00      0s\n",
      "\n",
      "Solved in 71 iterations and 0.02 seconds\n",
      "Optimal objective  1.443684211e+02\n",
      "Gurobi Optimizer version 9.1.1 build v9.1.1rc0 (mac64)\n",
      "Thread count: 2 physical cores, 4 logical processors, using up to 4 threads\n",
      "Optimize a model with 35 rows, 126 columns and 380 nonzeros\n",
      "Model fingerprint: 0x972603f5\n",
      "Coefficient statistics:\n",
      "  Matrix range     [1e+00, 2e+01]\n",
      "  Objective range  [1e+00, 1e+00]\n",
      "  Bounds range     [0e+00, 0e+00]\n",
      "  RHS range        [1e+00, 4e+01]\n",
      "Presolve time: 0.01s\n",
      "Presolved: 35 rows, 126 columns, 380 nonzeros\n",
      "\n",
      "Iteration    Objective       Primal Inf.    Dual Inf.      Time\n",
      "       0    8.0000000e+30   5.000000e+30   8.000000e+00      0s\n",
      "      54    5.9820000e+01   0.000000e+00   0.000000e+00      0s\n",
      "\n",
      "Solved in 54 iterations and 0.02 seconds\n",
      "Optimal objective  5.982000000e+01\n",
      "Gurobi Optimizer version 9.1.1 build v9.1.1rc0 (mac64)\n",
      "Thread count: 2 physical cores, 4 logical processors, using up to 4 threads\n",
      "Optimize a model with 41 rows, 106 columns and 318 nonzeros\n",
      "Model fingerprint: 0x9c18349f\n",
      "Coefficient statistics:\n",
      "  Matrix range     [1e+00, 2e+01]\n",
      "  Objective range  [1e+00, 1e+00]\n",
      "  Bounds range     [0e+00, 0e+00]\n",
      "  RHS range        [1e+00, 8e+01]\n",
      "Presolve time: 0.01s\n",
      "Presolved: 41 rows, 106 columns, 318 nonzeros\n",
      "\n",
      "Iteration    Objective       Primal Inf.    Dual Inf.      Time\n",
      "       0    8.0000000e+30   3.000000e+30   8.000000e+00      0s\n",
      "      43    1.1557143e+02   0.000000e+00   0.000000e+00      0s\n",
      "\n",
      "Solved in 43 iterations and 0.03 seconds\n",
      "Optimal objective  1.155714286e+02\n",
      "Gurobi Optimizer version 9.1.1 build v9.1.1rc0 (mac64)\n",
      "Thread count: 2 physical cores, 4 logical processors, using up to 4 threads\n",
      "Optimize a model with 38 rows, 121 columns and 364 nonzeros\n",
      "Model fingerprint: 0x2638a0b0\n",
      "Coefficient statistics:\n",
      "  Matrix range     [1e+00, 2e+01]\n",
      "  Objective range  [1e+00, 1e+00]\n",
      "  Bounds range     [0e+00, 0e+00]\n",
      "  RHS range        [1e+00, 5e+01]\n",
      "Presolve time: 0.02s\n",
      "Presolved: 38 rows, 121 columns, 364 nonzeros\n",
      "\n",
      "Iteration    Objective       Primal Inf.    Dual Inf.      Time\n",
      "       0    8.0000000e+30   4.000000e+30   8.000000e+00      0s\n",
      "      71    8.3964286e+01   0.000000e+00   0.000000e+00      0s\n",
      "\n",
      "Solved in 71 iterations and 0.02 seconds\n",
      "Optimal objective  8.396428571e+01\n",
      "Gurobi Optimizer version 9.1.1 build v9.1.1rc0 (mac64)\n",
      "Thread count: 2 physical cores, 4 logical processors, using up to 4 threads\n",
      "Optimize a model with 38 rows, 121 columns and 364 nonzeros\n",
      "Model fingerprint: 0x3d97ae86\n",
      "Coefficient statistics:\n",
      "  Matrix range     [1e+00, 2e+01]\n",
      "  Objective range  [1e+00, 1e+00]\n",
      "  Bounds range     [0e+00, 0e+00]\n",
      "  RHS range        [1e+00, 6e+01]\n",
      "Presolve time: 0.01s\n",
      "Presolved: 38 rows, 121 columns, 364 nonzeros\n",
      "\n",
      "Iteration    Objective       Primal Inf.    Dual Inf.      Time\n",
      "       0    8.0000000e+30   4.000000e+30   8.000000e+00      0s\n",
      "      65    7.6575000e+01   0.000000e+00   0.000000e+00      0s\n",
      "\n",
      "Solved in 65 iterations and 0.02 seconds\n",
      "Optimal objective  7.657500000e+01\n",
      "Gurobi Optimizer version 9.1.1 build v9.1.1rc0 (mac64)\n",
      "Thread count: 2 physical cores, 4 logical processors, using up to 4 threads\n",
      "Optimize a model with 31 rows, 76 columns and 228 nonzeros\n",
      "Model fingerprint: 0x9e0c8d18\n",
      "Coefficient statistics:\n",
      "  Matrix range     [1e+00, 2e+01]\n",
      "  Objective range  [1e+00, 1e+00]\n",
      "  Bounds range     [0e+00, 0e+00]\n",
      "  RHS range        [1e+00, 7e+01]\n",
      "Presolve time: 0.01s\n",
      "Presolved: 31 rows, 76 columns, 228 nonzeros\n",
      "\n",
      "Iteration    Objective       Primal Inf.    Dual Inf.      Time\n",
      "       0    8.0000000e+30   3.000000e+30   8.000000e+00      0s\n",
      "      47    8.5750000e+01   0.000000e+00   0.000000e+00      0s\n",
      "\n",
      "Solved in 47 iterations and 0.02 seconds\n",
      "Optimal objective  8.575000000e+01\n",
      "Gurobi Optimizer version 9.1.1 build v9.1.1rc0 (mac64)\n",
      "Thread count: 2 physical cores, 4 logical processors, using up to 4 threads\n",
      "Optimize a model with 51 rows, 136 columns and 408 nonzeros\n",
      "Model fingerprint: 0xc117a5de\n",
      "Coefficient statistics:\n",
      "  Matrix range     [1e+00, 2e+01]\n",
      "  Objective range  [1e+00, 1e+00]\n",
      "  Bounds range     [0e+00, 0e+00]\n",
      "  RHS range        [1e+00, 1e+02]\n",
      "Presolve time: 0.01s\n",
      "Presolved: 51 rows, 136 columns, 408 nonzeros\n",
      "\n",
      "Iteration    Objective       Primal Inf.    Dual Inf.      Time\n",
      "       0    8.0000000e+30   3.000000e+30   8.000000e+00      0s\n",
      "      75    1.3840000e+02   0.000000e+00   0.000000e+00      0s\n",
      "\n",
      "Solved in 75 iterations and 0.01 seconds\n",
      "Optimal objective  1.384000000e+02\n",
      "Gurobi Optimizer version 9.1.1 build v9.1.1rc0 (mac64)\n",
      "Thread count: 2 physical cores, 4 logical processors, using up to 4 threads\n",
      "Optimize a model with 45 rows, 176 columns and 530 nonzeros\n",
      "Model fingerprint: 0xf75d2c37\n",
      "Coefficient statistics:\n",
      "  Matrix range     [1e+00, 2e+01]\n",
      "  Objective range  [1e+00, 1e+00]\n",
      "  Bounds range     [0e+00, 0e+00]\n",
      "  RHS range        [1e+00, 6e+01]\n",
      "Presolve time: 0.01s\n",
      "Presolved: 45 rows, 176 columns, 530 nonzeros\n",
      "\n",
      "Iteration    Objective       Primal Inf.    Dual Inf.      Time\n",
      "       0    8.0000000e+30   5.000000e+30   8.000000e+00      0s\n",
      "     100    7.6066667e+01   0.000000e+00   0.000000e+00      0s\n",
      "\n",
      "Solved in 100 iterations and 0.01 seconds\n",
      "Optimal objective  7.606666667e+01\n",
      "Gurobi Optimizer version 9.1.1 build v9.1.1rc0 (mac64)\n",
      "Thread count: 2 physical cores, 4 logical processors, using up to 4 threads\n",
      "Optimize a model with 51 rows, 136 columns and 408 nonzeros\n",
      "Model fingerprint: 0x169569e2\n",
      "Coefficient statistics:\n",
      "  Matrix range     [1e+00, 2e+01]\n",
      "  Objective range  [1e+00, 1e+00]\n",
      "  Bounds range     [0e+00, 0e+00]\n",
      "  RHS range        [1e+00, 1e+02]\n",
      "Presolve time: 0.01s\n",
      "Presolved: 51 rows, 136 columns, 408 nonzeros\n",
      "\n",
      "Iteration    Objective       Primal Inf.    Dual Inf.      Time\n",
      "       0    8.0000000e+30   3.000000e+30   8.000000e+00      0s\n",
      "      80    1.5475000e+02   0.000000e+00   0.000000e+00      0s\n",
      "\n",
      "Solved in 80 iterations and 0.02 seconds\n",
      "Optimal objective  1.547500000e+02\n",
      "Gurobi Optimizer version 9.1.1 build v9.1.1rc0 (mac64)\n",
      "Thread count: 2 physical cores, 4 logical processors, using up to 4 threads\n",
      "Optimize a model with 40 rows, 151 columns and 455 nonzeros\n",
      "Model fingerprint: 0xa11fb80f\n",
      "Coefficient statistics:\n",
      "  Matrix range     [1e+00, 2e+01]\n",
      "  Objective range  [1e+00, 1e+00]\n",
      "  Bounds range     [0e+00, 0e+00]\n",
      "  RHS range        [1e+00, 4e+01]\n",
      "Presolve time: 0.01s\n",
      "Presolved: 40 rows, 151 columns, 455 nonzeros\n",
      "\n",
      "Iteration    Objective       Primal Inf.    Dual Inf.      Time\n",
      "       0    8.0000000e+30   5.000000e+30   8.000000e+00      0s\n",
      "      74    5.9500000e+01   0.000000e+00   0.000000e+00      0s\n",
      "\n",
      "Solved in 74 iterations and 0.02 seconds\n",
      "Optimal objective  5.950000000e+01\n",
      "Gurobi Optimizer version 9.1.1 build v9.1.1rc0 (mac64)\n",
      "Thread count: 2 physical cores, 4 logical processors, using up to 4 threads\n",
      "Optimize a model with 36 rows, 91 columns and 273 nonzeros\n",
      "Model fingerprint: 0x5e27f592\n",
      "Coefficient statistics:\n",
      "  Matrix range     [1e+00, 2e+01]\n",
      "  Objective range  [1e+00, 1e+00]\n",
      "  Bounds range     [0e+00, 0e+00]\n",
      "  RHS range        [1e+00, 8e+01]\n",
      "Presolve time: 0.01s\n",
      "Presolved: 36 rows, 91 columns, 273 nonzeros\n",
      "\n",
      "Iteration    Objective       Primal Inf.    Dual Inf.      Time\n",
      "       0    8.0000000e+30   3.000000e+30   8.000000e+00      0s\n",
      "      43    8.7333333e+01   0.000000e+00   0.000000e+00      0s\n",
      "\n",
      "Solved in 43 iterations and 0.02 seconds\n",
      "Optimal objective  8.733333333e+01\n",
      "Gurobi Optimizer version 9.1.1 build v9.1.1rc0 (mac64)\n",
      "Thread count: 2 physical cores, 4 logical processors, using up to 4 threads\n",
      "Optimize a model with 53 rows, 181 columns and 544 nonzeros\n",
      "Model fingerprint: 0x9cd7c198\n",
      "Coefficient statistics:\n",
      "  Matrix range     [1e+00, 2e+01]\n",
      "  Objective range  [1e+00, 1e+00]\n",
      "  Bounds range     [0e+00, 0e+00]\n",
      "  RHS range        [1e+00, 1e+02]\n",
      "Presolve time: 0.01s\n",
      "Presolved: 53 rows, 181 columns, 544 nonzeros\n",
      "\n",
      "Iteration    Objective       Primal Inf.    Dual Inf.      Time\n",
      "       0    8.0000000e+30   4.000000e+30   8.000000e+00      0s\n",
      "      82    1.1595000e+02   0.000000e+00   0.000000e+00      0s\n",
      "\n",
      "Solved in 82 iterations and 0.02 seconds\n",
      "Optimal objective  1.159500000e+02\n",
      "Gurobi Optimizer version 9.1.1 build v9.1.1rc0 (mac64)\n",
      "Thread count: 2 physical cores, 4 logical processors, using up to 4 threads\n",
      "Optimize a model with 40 rows, 151 columns and 455 nonzeros\n",
      "Model fingerprint: 0xefb3ce99\n",
      "Coefficient statistics:\n",
      "  Matrix range     [1e+00, 2e+01]\n",
      "  Objective range  [1e+00, 1e+00]\n",
      "  Bounds range     [0e+00, 0e+00]\n",
      "  RHS range        [1e+00, 5e+01]\n",
      "Presolve time: 0.01s\n",
      "Presolved: 40 rows, 151 columns, 455 nonzeros\n",
      "\n",
      "Iteration    Objective       Primal Inf.    Dual Inf.      Time\n",
      "       0    8.0000000e+30   5.000000e+30   8.000000e+00      0s\n",
      "      58    6.2652632e+01   0.000000e+00   0.000000e+00      0s\n",
      "\n",
      "Solved in 58 iterations and 0.01 seconds\n",
      "Optimal objective  6.265263158e+01\n",
      "Gurobi Optimizer version 9.1.1 build v9.1.1rc0 (mac64)\n",
      "Thread count: 2 physical cores, 4 logical processors, using up to 4 threads\n",
      "Optimize a model with 33 rows, 101 columns and 304 nonzeros\n",
      "Model fingerprint: 0xf9c1431f\n",
      "Coefficient statistics:\n",
      "  Matrix range     [1e+00, 2e+01]\n",
      "  Objective range  [1e+00, 1e+00]\n",
      "  Bounds range     [0e+00, 0e+00]\n",
      "  RHS range        [1e+00, 4e+01]\n",
      "Presolve time: 0.01s\n",
      "Presolved: 33 rows, 101 columns, 304 nonzeros\n",
      "\n",
      "Iteration    Objective       Primal Inf.    Dual Inf.      Time\n",
      "       0    8.0000000e+30   4.000000e+30   8.000000e+00      0s\n",
      "      49    5.4632353e+01   0.000000e+00   0.000000e+00      0s\n",
      "\n",
      "Solved in 49 iterations and 0.01 seconds\n",
      "Optimal objective  5.463235294e+01\n",
      "Gurobi Optimizer version 9.1.1 build v9.1.1rc0 (mac64)\n",
      "Thread count: 2 physical cores, 4 logical processors, using up to 4 threads\n",
      "Optimize a model with 55 rows, 226 columns and 680 nonzeros\n",
      "Model fingerprint: 0x81b81a53\n",
      "Coefficient statistics:\n",
      "  Matrix range     [1e+00, 2e+01]\n",
      "  Objective range  [1e+00, 1e+00]\n",
      "  Bounds range     [0e+00, 0e+00]\n",
      "  RHS range        [1e+00, 8e+01]\n",
      "Presolve time: 0.01s\n",
      "Presolved: 55 rows, 226 columns, 680 nonzeros\n",
      "\n",
      "Iteration    Objective       Primal Inf.    Dual Inf.      Time\n",
      "       0    8.0000000e+30   5.000000e+30   8.000000e+00      0s\n",
      "     113    8.7680000e+01   0.000000e+00   0.000000e+00      0s\n",
      "\n",
      "Solved in 113 iterations and 0.02 seconds\n",
      "Optimal objective  8.768000000e+01\n",
      "Gurobi Optimizer version 9.1.1 build v9.1.1rc0 (mac64)\n",
      "Thread count: 2 physical cores, 4 logical processors, using up to 4 threads\n",
      "Optimize a model with 40 rows, 151 columns and 455 nonzeros\n",
      "Model fingerprint: 0x86d5e871\n",
      "Coefficient statistics:\n",
      "  Matrix range     [1e+00, 2e+01]\n",
      "  Objective range  [1e+00, 1e+00]\n",
      "  Bounds range     [0e+00, 0e+00]\n",
      "  RHS range        [1e+00, 6e+01]\n",
      "Presolve time: 0.01s\n",
      "Presolved: 40 rows, 151 columns, 455 nonzeros\n",
      "\n",
      "Iteration    Objective       Primal Inf.    Dual Inf.      Time\n",
      "       0    8.0000000e+30   5.000000e+30   8.000000e+00      0s\n",
      "      79    5.6176471e+01   0.000000e+00   0.000000e+00      0s\n",
      "\n",
      "Solved in 79 iterations and 0.01 seconds\n",
      "Optimal objective  5.617647059e+01\n",
      "Gurobi Optimizer version 9.1.1 build v9.1.1rc0 (mac64)\n",
      "Thread count: 2 physical cores, 4 logical processors, using up to 4 threads\n",
      "Optimize a model with 33 rows, 101 columns and 304 nonzeros\n",
      "Model fingerprint: 0x841af372\n",
      "Coefficient statistics:\n",
      "  Matrix range     [1e+00, 2e+01]\n",
      "  Objective range  [1e+00, 1e+00]\n",
      "  Bounds range     [0e+00, 0e+00]\n",
      "  RHS range        [1e+00, 6e+01]\n",
      "Presolve time: 0.01s\n",
      "Presolved: 33 rows, 101 columns, 304 nonzeros\n",
      "\n",
      "Iteration    Objective       Primal Inf.    Dual Inf.      Time\n",
      "       0    8.0000000e+30   4.000000e+30   8.000000e+00      0s\n",
      "      71    6.1250000e+01   0.000000e+00   0.000000e+00      0s\n",
      "\n",
      "Solved in 71 iterations and 0.02 seconds\n",
      "Optimal objective  6.125000000e+01\n"
     ]
    }
   ],
   "source": [
    "upper_bound = []\n",
    "for r in range(20):\n",
    "    machines = range(m[r])\n",
    "    jobs = range(n[r])\n",
    "    \n",
    "    Q4 = Model('Q4')\n",
    "    \n",
    "    # decision variable\n",
    "    # x_ij = 0 if job j is assigned to machine i\n",
    "    x = {}\n",
    "    for i in machines:\n",
    "        x[i] = {}\n",
    "        for j in jobs:\n",
    "            x[i][j] = Q4.addVar(lb = 0, vtype = GRB.CONTINUOUS, name = \"x_\" + str(i) + \",\" + str(j))\n",
    "\n",
    "    w = Q4.addVar(lb = 0, vtype = GRB.CONTINUOUS, name = \"w\")\n",
    "    \n",
    "    Q4.update()\n",
    "    \n",
    "    \n",
    "    # Setting the objective function\n",
    "    Q4.setObjective(w, GRB.MAXIMIZE)\n",
    "    \n",
    "    \n",
    "    # Add constraints\n",
    "    Q4.addConstrs((w <= quicksum(b[r][j] * x[i][j] for j in jobs) for i in machines), 'least benefit machine')\n",
    "    Q4.addConstrs((quicksum(x[i][j] for i in machines) <= 1 for j in jobs), 'each job assigned to exactly one machine')\n",
    "    Q4.addConstrs((quicksum(p[r][j] * x[i][j] for j in jobs) <= K[r] for i in machines), 'machine capacity')\n",
    "\n",
    "    Q4.update()\n",
    "    \n",
    "    \n",
    "    # optimize\n",
    "    Q4.optimize()\n",
    "    upper_bound.append(Q4.objVal)"
   ]
  },
  {
   "cell_type": "code",
   "execution_count": 32,
   "metadata": {},
   "outputs": [
    {
     "name": "stdout",
     "output_type": "stream",
     "text": [
      "[146.7, 95.279, 54.72, 144.368, 59.82, 115.571, 83.964, 76.575, 85.75, 138.4, 76.067, 154.75, 59.5, 87.333, 115.95, 62.653, 54.632, 87.68, 56.176, 61.25]\n"
     ]
    }
   ],
   "source": [
    "print([round(upper_bound[i], 3) for i in range(len(upper_bound))])"
   ]
  },
  {
   "cell_type": "markdown",
   "metadata": {},
   "source": [
    "### HBF"
   ]
  },
  {
   "cell_type": "code",
   "execution_count": 33,
   "metadata": {},
   "outputs": [
    {
     "name": "stdout",
     "output_type": "stream",
     "text": [
      "b = [0, 0, 20] p = [0, 0, 14]\n",
      "b = [0, 19, 20] p = [0, 5, 14]\n",
      "b = [18, 19, 20] p = [2, 5, 14]\n",
      "b = [19, 20, 36] p = [5, 14, 11]\n",
      "b = [20, 36, 37] p = [14, 11, 19]\n",
      "b = [36, 37, 37] p = [11, 28, 19]\n",
      "b = [37, 37, 53] p = [28, 19, 22]\n",
      "b = [37, 53, 54] p = [19, 22, 30]\n",
      "b = [53, 53, 54] p = [36, 22, 30]\n",
      "b = [53, 54, 69] p = [22, 30, 39]\n",
      "b = [54, 69, 69] p = [30, 39, 40]\n",
      "b = [69, 69, 70] p = [39, 40, 46]\n",
      "b = [69, 70, 85] p = [40, 46, 43]\n",
      "b = [70, 84, 85] p = [46, 58, 43]\n",
      "b = [84, 85, 85] p = [58, 54, 43]\n",
      "b = [85, 85, 98] p = [54, 43, 77]\n",
      "b = [85, 98, 98] p = [43, 69, 77]\n",
      "b = [97, 98, 98] p = [60, 69, 77]\n",
      "b = [98, 98, 109] p = [69, 77, 69]\n",
      "b = [98, 109, 110] p = [77, 69, 70]\n",
      "b = [109, 110, 110] p = [69, 70, 83]\n",
      "b = [110, 110, 121] p = [70, 83, 89]\n",
      "b = [110, 121, 121] p = [83, 88, 89]\n",
      "b = [120, 121, 121] p = [96, 88, 89]\n",
      "b = [121, 121, 130] p = [88, 89, 101]\n",
      "b = [121, 130, 130] p = [89, 97, 101]\n",
      "b = [130, 130, 130] p = [97, 107, 101]\n",
      "b = [130, 130, 139] p = [107, 101, 117]\n",
      "b = [130, 137, 139] p = [101, 115, 117]\n",
      "b = [137, 137, 139] p = [115, 110, 117]\n",
      "b = [137, 139, 144] p = [110, 117, 122]\n",
      "b = [139, 144, 144] p = [117, 122, 125]\n",
      "b = [144, 144, 144] p = [119, 122, 125]\n",
      "b = [144, 144, 148] p = [122, 125, 122]\n",
      "b = [144, 145, 148] p = [125, 126, 122]\n"
     ]
    }
   ],
   "source": [
    "HBF = []\n",
    "HBF_gap = []\n",
    "for r in range(20):\n",
    "    machines = range(m[r])\n",
    "    jobs = range(n[r])\n",
    "    \n",
    "    job_list = list(zip(b[r], p[r], range(1, n[r]+1)))\n",
    "    job_list.sort(key=lambda x: (-x[0], x[2]))\n",
    "    \n",
    "    machine_list = [[0, 0, [], i+1] for i in machines]\n",
    "    for j in jobs:\n",
    "        for i in machines:\n",
    "            if machine_list[i][1] + job_list[j][1] <= K[r]:\n",
    "                machine_list[i][0] += job_list[j][0]\n",
    "                machine_list[i][1] += job_list[j][1]\n",
    "                machine_list[i][2].append(job_list[j][2])\n",
    "                machine_list.sort(key=lambda x: (x[0], x[3]))\n",
    "                if r==0:\n",
    "                    print('b =', [machine_list[k][0] for k in machines], 'p =', [machine_list[k][1] for k in machines])\n",
    "                break\n",
    "    \n",
    "    HBF.append(machine_list[0][0])\n",
    "    HBF_gap.append((upper_bound[r] - machine_list[0][0]) / upper_bound[r])"
   ]
  },
  {
   "cell_type": "code",
   "execution_count": 34,
   "metadata": {},
   "outputs": [
    {
     "name": "stdout",
     "output_type": "stream",
     "text": [
      "[144, 89, 50, 136, 49, 108, 76, 70, 80, 137, 63, 146, 55, 78, 108, 59, 54, 76, 54, 55]\n",
      "[1.84, 6.591, 8.626, 5.797, 18.088, 6.551, 9.485, 8.586, 6.706, 1.012, 17.178, 5.654, 7.563, 10.687, 6.856, 5.83, 1.157, 13.321, 3.874, 10.204]\n",
      "0.07780333783677044\n"
     ]
    }
   ],
   "source": [
    "print([round(HBF[i], 3) for i in range(len(HBF))])\n",
    "print([round(HBF_gap[i] * 100, 3) for i in range(len(HBF_gap))])\n",
    "print(sum(HBF_gap) / len(HBF_gap))"
   ]
  },
  {
   "cell_type": "markdown",
   "metadata": {},
   "source": [
    "### HRF"
   ]
  },
  {
   "cell_type": "code",
   "execution_count": 35,
   "metadata": {},
   "outputs": [],
   "source": [
    "HRF = []\n",
    "HRF_gap = []\n",
    "for r in range(20):\n",
    "    machines = range(m[r])\n",
    "    jobs = range(n[r])\n",
    "    \n",
    "    job_list = list(zip(b[r], p[r], range(1, n[r]+1)))\n",
    "    job_list.sort(key=lambda x: (-x[0]/x[1], x[2]))\n",
    "    \n",
    "    machine_list = [[0, 0, [], i+1] for i in machines]\n",
    "    for j in jobs:\n",
    "        for i in machines:\n",
    "            if machine_list[i][1] + job_list[j][1] <= K[r]:\n",
    "                machine_list[i][0] += job_list[j][0]\n",
    "                machine_list[i][1] += job_list[j][1]\n",
    "                machine_list[i][2].append(job_list[j][2])\n",
    "                machine_list.sort(key=lambda x: (x[0], x[3]))\n",
    "                break\n",
    "    HRF.append(machine_list[0][0])\n",
    "    HRF_gap.append((upper_bound[r] - machine_list[0][0]) / upper_bound[r])"
   ]
  },
  {
   "cell_type": "code",
   "execution_count": 36,
   "metadata": {},
   "outputs": [
    {
     "name": "stdout",
     "output_type": "stream",
     "text": [
      "[144, 92, 51, 140, 55, 111, 81, 71, 80, 136, 72, 150, 53, 82, 109, 58, 51, 82, 50, 57]\n",
      "[1.84, 3.442, 6.798, 3.026, 8.058, 3.956, 3.53, 7.28, 6.706, 1.734, 5.346, 3.069, 10.924, 6.107, 5.994, 7.426, 6.649, 6.478, 10.995, 6.939]\n",
      "0.05814865611454632\n"
     ]
    }
   ],
   "source": [
    "print([round(HRF[i], 3) for i in range(len(HRF))])\n",
    "print([round(HRF_gap[i] * 100, 3) for i in range(len(HRF_gap))])\n",
    "print(sum(HRF_gap) / len(HRF_gap))"
   ]
  },
  {
   "cell_type": "markdown",
   "metadata": {},
   "source": [
    "### HRF modified (break tie by smallest processing time)"
   ]
  },
  {
   "cell_type": "code",
   "execution_count": 37,
   "metadata": {},
   "outputs": [],
   "source": [
    "HRF_new = []\n",
    "HRF_new_gap = []\n",
    "for r in range(20):\n",
    "    machines = range(m[r])\n",
    "    jobs = range(n[r])\n",
    "    \n",
    "    job_list = list(zip(b[r], p[r], range(1, n[r]+1)))\n",
    "    # first sort by ratio (descend), then by processing time (ascend), and finally by index (ascend)\n",
    "    job_list.sort(key=lambda x: (-x[0]/x[1], x[1], x[2]))\n",
    "    \n",
    "    machine_list = [[0, 0, [], i+1] for i in machines]\n",
    "    for j in jobs:\n",
    "        for i in machines:\n",
    "            if machine_list[i][1] + job_list[j][1] <= K[r]:\n",
    "                machine_list[i][0] += job_list[j][0]\n",
    "                machine_list[i][1] += job_list[j][1]\n",
    "                machine_list[i][2].append(job_list[j][2])\n",
    "                machine_list.sort(key=lambda x: (x[0], x[3]))\n",
    "                break\n",
    "    HRF_new.append(machine_list[0][0])\n",
    "    HRF_new_gap.append((upper_bound[r] - machine_list[0][0]) / upper_bound[r])"
   ]
  },
  {
   "cell_type": "code",
   "execution_count": 38,
   "metadata": {},
   "outputs": [
    {
     "name": "stdout",
     "output_type": "stream",
     "text": [
      "[144, 92, 51, 143, 55, 114, 78, 72, 80, 137, 69, 150, 53, 82, 109, 58, 51, 85, 50, 57]\n",
      "[1.84, 3.442, 6.798, 0.948, 8.058, 1.36, 7.103, 5.975, 6.706, 1.012, 9.29, 3.069, 10.924, 6.107, 5.994, 7.426, 6.649, 3.057, 10.995, 6.939]\n",
      "0.056845184636818445\n"
     ]
    }
   ],
   "source": [
    "print([round(HRF_new[i], 3) for i in range(len(HRF_new))])\n",
    "print([round(HRF_new_gap[i] * 100, 3) for i in range(len(HRF_new_gap))])\n",
    "print(sum(HRF_new_gap) / len(HRF_new_gap))"
   ]
  }
 ],
 "metadata": {
  "kernelspec": {
   "display_name": "Python 3",
   "language": "python",
   "name": "python3"
  },
  "language_info": {
   "codemirror_mode": {
    "name": "ipython",
    "version": 3
   },
   "file_extension": ".py",
   "mimetype": "text/x-python",
   "name": "python",
   "nbconvert_exporter": "python",
   "pygments_lexer": "ipython3",
   "version": "3.8.5"
  }
 },
 "nbformat": 4,
 "nbformat_minor": 4
}
