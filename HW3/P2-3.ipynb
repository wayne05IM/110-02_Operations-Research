{
 "cells": [
  {
   "cell_type": "code",
   "execution_count": 1,
   "id": "a11738ae-c8f1-45e0-af36-54fd8bce354a",
   "metadata": {},
   "outputs": [],
   "source": [
    "from gurobipy import *\n",
    "import pandas as pd"
   ]
  },
  {
   "cell_type": "code",
   "execution_count": 2,
   "id": "85891dd4-f5c9-43e0-9e6c-a1e8532e92d4",
   "metadata": {},
   "outputs": [],
   "source": [
    "# Input\n",
    "A = [[1, 0, 0, 1, 0, 1],\n",
    "     [1, 0, 1, 1, 0, 1],\n",
    "     [0, 0, 1, 0, 1, 0],\n",
    "     [1, 1, 0, 1, 1, 0]]\n",
    "F = [1200, 1800, 2500, 1300]\n",
    "P = [1600, 1000, 1600, 1200, 1100, 1400]\n",
    "B = 4500\n",
    "\n",
    "I = range(1, 5)\n",
    "J = range(1, 7)\n",
    "\n",
    "a_sum = []\n",
    "\n",
    "for j in J:\n",
    "    sum1 = 0\n",
    "    for i in I:\n",
    "        sum1 += A[i - 1][j - 1]\n",
    "    a_sum.append(sum1)"
   ]
  },
  {
   "cell_type": "code",
   "execution_count": 3,
   "id": "47389054-8552-4d05-9d0c-4ab88ea43341",
   "metadata": {},
   "outputs": [
    {
     "name": "stdout",
     "output_type": "stream",
     "text": [
      "Set parameter Username\n",
      "Academic license - for non-commercial use only - expires 2023-03-25\n",
      "Gurobi Optimizer version 9.5.1 build v9.5.1rc2 (mac64[rosetta2])\n",
      "Thread count: 10 physical cores, 10 logical processors, using up to 10 threads\n",
      "Optimize a model with 6 rows, 10 columns and 19 nonzeros\n",
      "Model fingerprint: 0x3cc2b9dd\n",
      "Coefficient statistics:\n",
      "  Matrix range     [3e-01, 1e+00]\n",
      "  Objective range  [1e+03, 2e+03]\n",
      "  Bounds range     [1e+00, 1e+00]\n",
      "  RHS range        [0e+00, 0e+00]\n",
      "Presolve removed 6 rows and 10 columns\n",
      "Presolve time: 0.00s\n",
      "Presolve: All rows and columns removed\n",
      "Iteration    Objective       Primal Inf.    Dual Inf.      Time\n",
      "       0    7.9000000e+03   0.000000e+00   0.000000e+00      0s\n",
      "\n",
      "Solved in 0 iterations and 0.00 seconds (0.00 work units)\n",
      "Optimal objective  7.900000000e+03\n",
      "Results:\n",
      "\n",
      "objective value = 7900.0\n",
      "\n",
      "o 1 1.0\n",
      "o 2 1.0\n",
      "o 3 1.0\n",
      "o 4 1.0\n",
      "x 1 1.0\n",
      "x 2 1.0\n",
      "x 3 1.0\n",
      "x 4 1.0\n",
      "x 5 1.0\n",
      "x 6 1.0\n"
     ]
    }
   ],
   "source": [
    "# Modeling\n",
    "# add var\n",
    "p3_1 = Model(\"problem1-1\")    # build a new model\n",
    "\n",
    "o = p3_1.addVars(I, lb = 0, ub = 1, vtype = GRB.CONTINUOUS, name = \"o\")\n",
    "x = p3_1.addVars(J, lb = 0, ub = 1, vtype = GRB.CONTINUOUS, name = \"x\")\n",
    "\n",
    "# setting the objective function \n",
    "p3_1.setObjective(\n",
    "    (quicksum(P[j - 1] * x[j] for j in J))\n",
    "    , GRB.MAXIMIZE) \n",
    "\n",
    "# add constraints and name them\n",
    "for j in J:\n",
    "    p3_1.addConstr(x[j] <= ((1 / a_sum[j - 1]) * (quicksum(A[i - 1][j - 1] * o[i] for i in I))), name = f\"length\")\n",
    "    \n",
    "\n",
    "#p3_1.addConstr(quicksum(F[i - 1] * o[i] for i in I) <= B, name = f\"xorder\")\n",
    "\n",
    "    \n",
    "p3_1.optimize()\n",
    "\n",
    "\n",
    "# Results\n",
    "print(\"Results:\\n\")\n",
    "\n",
    "# objective value\n",
    "LR_ov = p3_1.objVal\n",
    "print(\"objective value =\", LR_ov)\n",
    "print(\"\")\n",
    "    \n",
    "# x, y\n",
    "for i in I:\n",
    "    print(\"o\", i, o[i].x)\n",
    "                   \n",
    "for j in J:\n",
    "    print(\"x\", j, x[j].x)"
   ]
  },
  {
   "cell_type": "code",
   "execution_count": null,
   "id": "951e6581-8851-4320-93b9-3a0c153781df",
   "metadata": {},
   "outputs": [],
   "source": []
  }
 ],
 "metadata": {
  "kernelspec": {
   "display_name": "Python 3 (ipykernel)",
   "language": "python",
   "name": "python3"
  },
  "language_info": {
   "codemirror_mode": {
    "name": "ipython",
    "version": 3
   },
   "file_extension": ".py",
   "mimetype": "text/x-python",
   "name": "python",
   "nbconvert_exporter": "python",
   "pygments_lexer": "ipython3",
   "version": "3.9.7"
  }
 },
 "nbformat": 4,
 "nbformat_minor": 5
}
