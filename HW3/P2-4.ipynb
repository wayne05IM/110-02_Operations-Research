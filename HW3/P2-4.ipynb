{
 "cells": [
  {
   "cell_type": "code",
   "execution_count": 1,
   "id": "a3f75e63-4ee0-4d99-b174-a0d4131dd13b",
   "metadata": {},
   "outputs": [],
   "source": [
    "from gurobipy import *\n",
    "import pandas as pd"
   ]
  },
  {
   "cell_type": "code",
   "execution_count": 2,
   "id": "647f5b56-48ff-4f59-a14f-13922249691c",
   "metadata": {},
   "outputs": [],
   "source": [
    "# Input\n",
    "I = range(1, 8)\n",
    "J = range(8, 18)\n",
    "k = range(1, 18)"
   ]
  },
  {
   "cell_type": "code",
   "execution_count": 3,
   "id": "870b3d52-d8cc-4430-8b32-bba2d640fab5",
   "metadata": {},
   "outputs": [
    {
     "name": "stdout",
     "output_type": "stream",
     "text": [
      "Set parameter Username\n",
      "Academic license - for non-commercial use only - expires 2023-03-25\n",
      "Gurobi Optimizer version 9.5.1 build v9.5.1rc2 (mac64[rosetta2])\n",
      "Thread count: 10 physical cores, 10 logical processors, using up to 10 threads\n",
      "Optimize a model with 6 rows, 17 columns and 12 nonzeros\n",
      "Model fingerprint: 0xf7811d4e\n",
      "Coefficient statistics:\n",
      "  Matrix range     [1e+00, 3e+00]\n",
      "  Objective range  [1e+00, 4e+03]\n",
      "  Bounds range     [0e+00, 0e+00]\n",
      "  RHS range        [1e+03, 2e+03]\n",
      "Presolve removed 6 rows and 6 columns\n",
      "Presolve time: 0.00s\n",
      "\n",
      "Solved in 0 iterations and 0.00 seconds (0.00 work units)\n",
      "Infeasible or unbounded model\n",
      "Results:\n",
      "\n"
     ]
    },
    {
     "ename": "AttributeError",
     "evalue": "Unable to retrieve attribute 'objVal'",
     "output_type": "error",
     "traceback": [
      "\u001b[0;31m---------------------------------------------------------------------------\u001b[0m",
      "\u001b[0;31mAttributeError\u001b[0m                            Traceback (most recent call last)",
      "\u001b[0;32m/var/folders/l7/h_6mpd150zs9sx2xsxvg91_80000gn/T/ipykernel_29821/3866033843.py\u001b[0m in \u001b[0;36m<module>\u001b[0;34m\u001b[0m\n\u001b[1;32m     30\u001b[0m \u001b[0;34m\u001b[0m\u001b[0m\n\u001b[1;32m     31\u001b[0m \u001b[0;31m# objective value\u001b[0m\u001b[0;34m\u001b[0m\u001b[0;34m\u001b[0m\u001b[0m\n\u001b[0;32m---> 32\u001b[0;31m \u001b[0mLR_ov\u001b[0m \u001b[0;34m=\u001b[0m \u001b[0mp3_1\u001b[0m\u001b[0;34m.\u001b[0m\u001b[0mobjVal\u001b[0m\u001b[0;34m\u001b[0m\u001b[0;34m\u001b[0m\u001b[0m\n\u001b[0m\u001b[1;32m     33\u001b[0m \u001b[0mprint\u001b[0m\u001b[0;34m(\u001b[0m\u001b[0;34m\"objective value =\"\u001b[0m\u001b[0;34m,\u001b[0m \u001b[0mLR_ov\u001b[0m\u001b[0;34m)\u001b[0m\u001b[0;34m\u001b[0m\u001b[0;34m\u001b[0m\u001b[0m\n\u001b[1;32m     34\u001b[0m \u001b[0mprint\u001b[0m\u001b[0;34m(\u001b[0m\u001b[0;34m\"\"\u001b[0m\u001b[0;34m)\u001b[0m\u001b[0;34m\u001b[0m\u001b[0;34m\u001b[0m\u001b[0m\n",
      "\u001b[0;32msrc/gurobipy/model.pxi\u001b[0m in \u001b[0;36mgurobipy.Model.__getattr__\u001b[0;34m()\u001b[0m\n",
      "\u001b[0;32msrc/gurobipy/model.pxi\u001b[0m in \u001b[0;36mgurobipy.Model.getAttr\u001b[0;34m()\u001b[0m\n",
      "\u001b[0;32msrc/gurobipy/attrutil.pxi\u001b[0m in \u001b[0;36mgurobipy.__getattr\u001b[0;34m()\u001b[0m\n",
      "\u001b[0;31mAttributeError\u001b[0m: Unable to retrieve attribute 'objVal'"
     ]
    }
   ],
   "source": [
    "# Modeling\n",
    "# add var\n",
    "p3_1 = Model(\"problem1-1\")    # build a new model\n",
    "\n",
    "y = p3_1.addVars(I, lb = 0, vtype = GRB.CONTINUOUS, name = \"y\")\n",
    "y2 = p3_1.addVars(J, ub = 0, vtype = GRB.CONTINUOUS, name = \"y2\")\n",
    "\n",
    "# setting the objective function \n",
    "p3_1.setObjective(\n",
    "    4500 * y[7] + quicksum(y2[i] for i in J)\n",
    "    , GRB.MAXIMIZE) \n",
    "\n",
    "# add constraints and name them\n",
    "p3_1.addConstr((3 * y[1] + y2[8]) >= 1600, name = f\"length\")\n",
    "p3_1.addConstr((y[2] + y2[9]) >= 1000, name = f\"length\")\n",
    "p3_1.addConstr((2 * y[3] + y2[10]) >= 1600, name = f\"length\")\n",
    "p3_1.addConstr((3 * y[4] + y2[11]) >= 1200, name = f\"length\")\n",
    "p3_1.addConstr((2 * y[5] + y2[12]) >= 1100, name = f\"length\")\n",
    "p3_1.addConstr((2 * y[6] + y2[13]) >= 1400, name = f\"length\")\n",
    "    \n",
    "\n",
    "#p3_1.addConstr(quicksum(F[i - 1] * o[i] for i in I) <= B, name = f\"xorder\")\n",
    "\n",
    "    \n",
    "p3_1.optimize()\n",
    "\n",
    "\n",
    "# Results\n",
    "print(\"Results:\\n\")\n",
    "\n",
    "# objective value\n",
    "LR_ov = p3_1.objVal\n",
    "print(\"objective value =\", LR_ov)\n",
    "print(\"\")\n",
    "    \n",
    "# x, y\n",
    "for i in I:\n",
    "    print(\"y\", i, y[i].x)\n",
    "for i in J:\n",
    "    print(\"y\", i, y2[i].x)"
   ]
  }
 ],
 "metadata": {
  "kernelspec": {
   "display_name": "Python 3 (ipykernel)",
   "language": "python",
   "name": "python3"
  },
  "language_info": {
   "codemirror_mode": {
    "name": "ipython",
    "version": 3
   },
   "file_extension": ".py",
   "mimetype": "text/x-python",
   "name": "python",
   "nbconvert_exporter": "python",
   "pygments_lexer": "ipython3",
   "version": "3.9.7"
  }
 },
 "nbformat": 4,
 "nbformat_minor": 5
}
