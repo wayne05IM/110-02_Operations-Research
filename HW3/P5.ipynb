{
 "cells": [
  {
   "cell_type": "code",
   "execution_count": 29,
   "id": "2c1dd9e2-68b5-4292-9e84-fa088c95bd7e",
   "metadata": {},
   "outputs": [],
   "source": [
    "v = [12,9,8,7,5,4,3]\n",
    "w = [8,6,7,5,4,7,3]\n",
    "n = 7\n",
    "lamda = 0\n",
    "B = 30\n",
    "\n",
    "oov = 0\n",
    "oos = []\n",
    "oplam = 0\n",
    "\n",
    "for j in range(1000000):\n",
    "    temp = []\n",
    "    lamda += 0.001\n",
    "    lamda = round(lamda, 5)\n",
    "    for i in range(n):\n",
    "        temp.append(round(v[i] - lamda * w[i], 2))\n",
    "    #print(\"temp:\", temp)\n",
    "\n",
    "    x = []\n",
    "    for i in range(n):\n",
    "        if temp[i] < 0:\n",
    "            x.append(0)\n",
    "        else:\n",
    "            x.append(1)\n",
    "    #print(\"os:\")\n",
    "    #print(x)\n",
    "        \n",
    "    sum1 = 0\n",
    "    for i in range(n):\n",
    "        sum1 += temp[i] * x[i]\n",
    "    sum1 += lamda * B\n",
    "    #print(\"RP ov:\", sum1)\n",
    "\n",
    "    sum2 = 0\n",
    "    for i in range(n):\n",
    "        sum2 += w[i] * x[i]\n",
    "    \n",
    "    #print(\"original constr:\", sum2)\n",
    "    if sum2 > B:\n",
    "        continue\n",
    "\n",
    "    sum3 = 0\n",
    "    for i in range(n):\n",
    "        sum3 += v[i] * x[i]\n",
    "    \n",
    "    #print(j, \"original ov:\", sum3)\n",
    "    if sum3 > oov:\n",
    "        oov = sum3\n",
    "        oos = x.copy()\n",
    "        oplam = lamda"
   ]
  },
  {
   "cell_type": "code",
   "execution_count": 30,
   "id": "c08061ec-cd45-44a3-97d9-00a17983016d",
   "metadata": {},
   "outputs": [
    {
     "name": "stdout",
     "output_type": "stream",
     "text": [
      "original ov: 41\n",
      "os: [1, 1, 1, 1, 1, 0, 0]\n",
      "lamda: 1.002\n"
     ]
    }
   ],
   "source": [
    "print(\"original ov:\", oov)\n",
    "print(\"os:\", oos)\n",
    "print(\"lamda:\", oplam)"
   ]
  },
  {
   "cell_type": "code",
   "execution_count": null,
   "id": "d57b85e3-44b9-4150-9dbb-d3064f1b907d",
   "metadata": {},
   "outputs": [],
   "source": []
  }
 ],
 "metadata": {
  "kernelspec": {
   "display_name": "Python 3 (ipykernel)",
   "language": "python",
   "name": "python3"
  },
  "language_info": {
   "codemirror_mode": {
    "name": "ipython",
    "version": 3
   },
   "file_extension": ".py",
   "mimetype": "text/x-python",
   "name": "python",
   "nbconvert_exporter": "python",
   "pygments_lexer": "ipython3",
   "version": "3.9.7"
  }
 },
 "nbformat": 4,
 "nbformat_minor": 5
}
