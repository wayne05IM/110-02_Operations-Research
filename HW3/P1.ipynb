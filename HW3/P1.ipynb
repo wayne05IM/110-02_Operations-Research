{
 "cells": [
  {
   "cell_type": "code",
   "execution_count": 1,
   "id": "d2311122-6245-4976-a8cb-55578c4a84d4",
   "metadata": {},
   "outputs": [],
   "source": [
    "from gurobipy import *\n",
    "import pandas as pd"
   ]
  },
  {
   "cell_type": "code",
   "execution_count": 2,
   "id": "1f2372d2-4406-4618-9399-3bfefc9fda13",
   "metadata": {},
   "outputs": [],
   "source": [
    "# Input\n",
    "x_a = 0\n",
    "y_a = 100\n",
    "x_b = 100\n",
    "y_b = 150\n",
    "L = 25\n",
    "\n",
    "I = range(1, 5)\n",
    "I_2 = range(2, 5)"
   ]
  },
  {
   "cell_type": "code",
   "execution_count": 3,
   "id": "1a1e8742-fdc5-4b3e-a813-7e69d1fbe48f",
   "metadata": {},
   "outputs": [
    {
     "name": "stdout",
     "output_type": "stream",
     "text": [
      "Set parameter Username\n",
      "Academic license - for non-commercial use only - expires 2023-03-25\n",
      "Set parameter NonConvex to value 2\n",
      "Gurobi Optimizer version 9.5.1 build v9.5.1rc2 (mac64[rosetta2])\n",
      "Thread count: 10 physical cores, 10 logical processors, using up to 10 threads\n",
      "Optimize a model with 5 rows, 8 columns and 8 nonzeros\n",
      "Model fingerprint: 0xf4e4cb57\n",
      "Model has 5 quadratic constraints\n",
      "Coefficient statistics:\n",
      "  Matrix range     [1e+00, 1e+00]\n",
      "  QMatrix range    [1e+00, 2e+00]\n",
      "  QLMatrix range   [2e+02, 3e+02]\n",
      "  Objective range  [1e+00, 1e+00]\n",
      "  Bounds range     [0e+00, 0e+00]\n",
      "  RHS range        [1e+02, 1e+02]\n",
      "  QRHS range       [6e+02, 3e+04]\n",
      "Presolve removed 2 rows and 0 columns\n",
      "\n",
      "Continuous model is non-convex -- solving as a MIP\n",
      "\n",
      "Presolve removed 2 rows and 0 columns\n",
      "Presolve time: 0.00s\n",
      "Presolved: 56 rows, 22 columns, 125 nonzeros\n",
      "Presolved model has 14 bilinear constraint(s)\n",
      "Variable types: 22 continuous, 0 integer (0 binary)\n",
      "\n",
      "Root relaxation: objective 1.704295e+02, 10 iterations, 0.00 seconds (0.00 work units)\n",
      "\n",
      "    Nodes    |    Current Node    |     Objective Bounds      |     Work\n",
      " Expl Unexpl |  Obj  Depth IntInf | Incumbent    BestBd   Gap | It/Node Time\n",
      "\n",
      "     0     0  170.42948    0    8          -  170.42948      -     -    0s\n",
      "H    0     0                     429.2826382  170.42948  60.3%     -    0s\n",
      "     0     0  244.19825    0   14  429.28264  244.19825  43.1%     -    0s\n",
      "     0     0  259.83758    0   14  429.28264  259.83758  39.5%     -    0s\n",
      "     0     0  262.15250    0   14  429.28264  262.15250  38.9%     -    0s\n",
      "     0     0  262.98442    0   14  429.28264  262.98442  38.7%     -    0s\n",
      "     0     0  263.09237    0   14  429.28264  263.09237  38.7%     -    0s\n",
      "     0     0  263.09791    0   14  429.28264  263.09791  38.7%     -    0s\n",
      "     0     0  280.53382    0   14  429.28264  280.53382  34.7%     -    0s\n",
      "     0     2  280.53382    0   14  429.28264  280.53382  34.7%     -    0s\n",
      "\n",
      "Cutting planes:\n",
      "  RLT: 6\n",
      "  PSD: 2\n",
      "\n",
      "Explored 3943 nodes (14738 simplex iterations) in 0.11 seconds (0.04 work units)\n",
      "Thread count was 10 (of 10 available processors)\n",
      "\n",
      "Solution count 1: 429.283 \n",
      "\n",
      "Optimal solution found (tolerance 1.00e-04)\n",
      "Best objective 4.292826381911e+02, best bound 4.292623572105e+02, gap 0.0047%\n",
      "Results:\n",
      "\n",
      "objective value = 429.28263819107855\n",
      "\n",
      "dot 1 :( 23.965112240295316 92.88147520127607 )\n",
      "dot 2 :( 48.616918150933984 97.0394152374239 )\n",
      "dot 3 :( 69.7274922072922 110.4313405288454 )\n",
      "dot 4 :( 86.54369069046588 128.93040722353317 )\n"
     ]
    }
   ],
   "source": [
    "# Modeling\n",
    "# add var\n",
    "p3_1 = Model(\"problem1-1\")    # build a new model\n",
    "\n",
    "x = p3_1.addVars(I, lb = 0, vtype = GRB.CONTINUOUS, name = \"x\")\n",
    "y = p3_1.addVars(I, lb = 0, vtype = GRB.CONTINUOUS, name = \"y\")\n",
    "\n",
    "# setting the objective function \n",
    "p3_1.setObjective(\n",
    "    (quicksum(y[i] for i in I))\n",
    "    , GRB.MINIMIZE) \n",
    "\n",
    "# add constraints and name them\n",
    "for i in I_2:\n",
    "    p3_1.addConstr((x[i] - x[i - 1]) ** 2 + (y[i] - y[i-1]) ** 2 == L ** 2, name = f\"length\")\n",
    "    \n",
    "p3_1.addConstr((x[1] - x_a) ** 2 + (y[1] - y_a) ** 2 == L ** 2, name = f\"length_1\")\n",
    "\n",
    "p3_1.addConstr((x_b - x[4]) ** 2 + (y_b - y[4]) ** 2 == L ** 2, name = f\"length_5\")\n",
    "    \n",
    "for i in I_2:\n",
    "    p3_1.addConstr(x[i - 1] <= x[i], name = f\"xorder\")\n",
    "    \n",
    "p3_1.addConstr(x_a <= x[1], name = f\"xorder_1\")\n",
    "\n",
    "p3_1.addConstr(x[4] <= x_b, name = f\"xorder_5\")\n",
    "\n",
    "p3_1.params.NonConvex = 2\n",
    "    \n",
    "p3_1.optimize()\n",
    "\n",
    "\n",
    "# Results\n",
    "print(\"Results:\\n\")\n",
    "\n",
    "# objective value\n",
    "LR_ov = p3_1.objVal\n",
    "print(\"objective value =\", LR_ov)\n",
    "print(\"\")\n",
    "    \n",
    "# x, y\n",
    "for i in I:\n",
    "    print(\"dot\", i, \":(\", x[i].x, y[i].x, \")\")"
   ]
  },
  {
   "cell_type": "code",
   "execution_count": 4,
   "id": "bdb8eff2-dba2-436b-9af8-cb837d0cfbef",
   "metadata": {},
   "outputs": [
    {
     "data": {
      "image/png": "[encoded data removed]",
      "text/plain": [
       "<Figure size 600x400 with 1 Axes>"
      ]
     },
     "metadata": {
      "needs_background": "light"
     },
     "output_type": "display_data"
    }
   ],
   "source": [
    "x_data = []\n",
    "y_data = []\n",
    "x_data.append(x_a)\n",
    "y_data.append(y_a)\n",
    "for i in I:\n",
    "    x_data.append(x[i].x)\n",
    "    y_data.append(y[i].x)\n",
    "x_data.append(x_b)\n",
    "y_data.append(y_b)\n",
    "\n",
    "import matplotlib.pyplot as plt\n",
    "plt.rcParams[\"figure.dpi\"] = 100\n",
    "\n",
    "plt.plot(x_data, y_data, 'k-o') # blue solid line with filled circle marker\n",
    "plt.ylim(0, 160)\n",
    "plt.xlim(0, 120)\n",
    "plt.grid()\n",
    "plt.savefig('fig1.png')\n",
    "plt.show()"
   ]
  },
  {
   "cell_type": "code",
   "execution_count": null,
   "id": "d0f5c768-165c-4358-8af1-6dcd0ce8ca45",
   "metadata": {},
   "outputs": [],
   "source": []
  }
 ],
 "metadata": {
  "kernelspec": {
   "display_name": "Python 3 (ipykernel)",
   "language": "python",
   "name": "python3"
  },
  "language_info": {
   "codemirror_mode": {
    "name": "ipython",
    "version": 3
   },
   "file_extension": ".py",
   "mimetype": "text/x-python",
   "name": "python",
   "nbconvert_exporter": "python",
   "pygments_lexer": "ipython3",
   "version": "3.9.7"
  }
 },
 "nbformat": 4,
 "nbformat_minor": 5
}
