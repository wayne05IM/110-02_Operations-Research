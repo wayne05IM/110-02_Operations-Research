{
 "cells": [
  {
   "cell_type": "code",
   "execution_count": 1,
   "id": "649cb6ca-1d25-4786-99e8-6579b8687d65",
   "metadata": {},
   "outputs": [],
   "source": [
    "from gurobipy import *\n",
    "import pandas as pd"
   ]
  },
  {
   "cell_type": "code",
   "execution_count": 2,
   "id": "92150a2b-59a6-48b4-a895-dd20e052cc99",
   "metadata": {},
   "outputs": [],
   "source": [
    "# Input\n",
    "v = [12,9,8,7,5,4,3]\n",
    "w = [8,6,7,5,4,7,3]\n",
    "n = 7\n",
    "B = 30\n",
    "\n",
    "I = range(1, n + 1)"
   ]
  },
  {
   "cell_type": "code",
   "execution_count": 3,
   "id": "9b03b0bd-599d-49f7-b445-7de2572dec52",
   "metadata": {},
   "outputs": [
    {
     "name": "stdout",
     "output_type": "stream",
     "text": [
      "Set parameter Username\n",
      "Academic license - for non-commercial use only - expires 2023-03-25\n",
      "Gurobi Optimizer version 9.5.1 build v9.5.1rc2 (mac64[rosetta2])\n",
      "Thread count: 10 physical cores, 10 logical processors, using up to 10 threads\n",
      "Optimize a model with 1 rows, 7 columns and 7 nonzeros\n",
      "Model fingerprint: 0xa00ad352\n",
      "Variable types: 0 continuous, 7 integer (7 binary)\n",
      "Coefficient statistics:\n",
      "  Matrix range     [3e+00, 8e+00]\n",
      "  Objective range  [3e+00, 1e+01]\n",
      "  Bounds range     [1e+00, 1e+00]\n",
      "  RHS range        [3e+01, 3e+01]\n",
      "Found heuristic solution: objective 41.0000000\n",
      "Presolve removed 1 rows and 7 columns\n",
      "Presolve time: 0.00s\n",
      "Presolve: All rows and columns removed\n",
      "\n",
      "Explored 0 nodes (0 simplex iterations) in 0.00 seconds (0.00 work units)\n",
      "Thread count was 1 (of 10 available processors)\n",
      "\n",
      "Solution count 1: 41 \n",
      "\n",
      "Optimal solution found (tolerance 1.00e-04)\n",
      "Best objective 4.100000000000e+01, best bound 4.100000000000e+01, gap 0.0000%\n",
      "Results:\n",
      "\n",
      "objective value = 41.0\n",
      "\n",
      "x 1 1.0\n",
      "x 2 1.0\n",
      "x 3 1.0\n",
      "x 4 1.0\n",
      "x 5 1.0\n",
      "x 6 0.0\n",
      "x 7 0.0\n"
     ]
    }
   ],
   "source": [
    "# Modeling\n",
    "# add var\n",
    "p3_1 = Model(\"problem1-1\")    # build a new model\n",
    "\n",
    "x = p3_1.addVars(I, lb = 0, ub = 1, vtype = GRB.BINARY, name = \"x\")\n",
    "\n",
    "# setting the objective function \n",
    "p3_1.setObjective(\n",
    "    (quicksum(v[i - 1] * x[i] for i in I))\n",
    "    , GRB.MAXIMIZE)\n",
    "\n",
    "\n",
    "p3_1.addConstr((quicksum(w[i - 1] * x[i] for i in I) <= B), name = f\"length\")\n",
    "\n",
    "    \n",
    "p3_1.optimize()\n",
    "\n",
    "\n",
    "# Results\n",
    "print(\"Results:\\n\")\n",
    "\n",
    "# objective value\n",
    "LR_ov = p3_1.objVal\n",
    "print(\"objective value =\", LR_ov)\n",
    "print(\"\")\n",
    "    \n",
    "# x, y\n",
    "for i in I:\n",
    "    print(\"x\", i, x[i].x)"
   ]
  }
 ],
 "metadata": {
  "kernelspec": {
   "display_name": "Python 3 (ipykernel)",
   "language": "python",
   "name": "python3"
  },
  "language_info": {
   "codemirror_mode": {
    "name": "ipython",
    "version": 3
   },
   "file_extension": ".py",
   "mimetype": "text/x-python",
   "name": "python",
   "nbconvert_exporter": "python",
   "pygments_lexer": "ipython3",
   "version": "3.9.7"
  }
 },
 "nbformat": 4,
 "nbformat_minor": 5
}
